{
 "cells": [
  {
   "cell_type": "markdown",
   "metadata": {
    "id": "ZfZNMRnjcibu"
   },
   "source": [
    "# 프로젝트: Multi classification"
   ]
  },
  {
   "cell_type": "markdown",
   "metadata": {
    "id": "YoM06tclcpue"
   },
   "source": [
    "## 기본 셋팅\n",
    "* 드라이브 마운트 \n",
    "* 랜덤 시드 고정\n",
    "* 파일 경로 설정"
   ]
  },
  {
   "cell_type": "code",
   "execution_count": 117,
   "metadata": {
    "colab": {
     "base_uri": "https://localhost:8080/"
    },
    "id": "BsKwxMKRAXwx",
    "outputId": "5d121749-b830-48e1-c5cd-b4550bf9ca20"
   },
   "outputs": [],
   "source": [
    "# from google.colab import drive\n",
    "# drive.mount('/content/drive')"
   ]
  },
  {
   "cell_type": "code",
   "execution_count": 317,
   "metadata": {
    "id": "kUcMdZB4c1cA"
   },
   "outputs": [],
   "source": [
    "# library import \n",
    "import os \n",
    "from glob import glob\n",
    "\n",
    "import random \n",
    "import tensorflow as tf\n",
    "import numpy as np \n",
    "import pandas as pd\n",
    "\n",
    "import matplotlib.pyplot as plt\n",
    "import seaborn as sns\n",
    "\n",
    "from tensorflow.keras.preprocessing.image import ImageDataGenerator\n",
    "from tensorflow.keras.models import Model, Sequential\n",
    "from tensorflow.keras.layers import Input, Dense, Dropout, Conv2D, Flatten, GlobalAveragePooling2D, Activation, BatchNormalization\n",
    "from tensorflow.keras.callbacks import EarlyStopping, ReduceLROnPlateau\n",
    "from tensorflow.keras.applications import MobileNetV2\n",
    "from tensorflow.keras.applications import EfficientNetB0\n",
    "from tensorflow.keras.applications.inception_v3 import InceptionV3"
   ]
  },
  {
   "cell_type": "code",
   "execution_count": 119,
   "metadata": {
    "id": "Dt-kSe5hCr7-"
   },
   "outputs": [],
   "source": [
    "# random seed 고정\n",
    "def set_seeds(seed):\n",
    "    os.environ['PYTHONHASHSEED'] = str(seed)\n",
    "    os.environ['TF_DETERMINISTIC_OPS'] = '1'\n",
    "    random.seed(seed)\n",
    "    tf.random.set_seed(seed)\n",
    "    np.random.seed(seed)"
   ]
  },
  {
   "cell_type": "code",
   "execution_count": 120,
   "metadata": {},
   "outputs": [],
   "source": [
    "SEED = 42\n",
    "set_seeds(SEED)"
   ]
  },
  {
   "cell_type": "code",
   "execution_count": 121,
   "metadata": {},
   "outputs": [
    {
     "name": "stdout",
     "output_type": "stream",
     "text": [
      "/home/aiffel-dj19/programmers\r\n"
     ]
    }
   ],
   "source": [
    "!pwd"
   ]
  },
  {
   "cell_type": "code",
   "execution_count": 122,
   "metadata": {
    "colab": {
     "base_uri": "https://localhost:8080/"
    },
    "id": "RAbDh1VhArvm",
    "outputId": "a8c79c62-ff9b-4b75-ce81-ac14bd3ece3a",
    "scrolled": true
   },
   "outputs": [],
   "source": [
    "# 경로 바꾸기\n",
    "# %cd /content/drive/MyDrive/programmers/"
   ]
  },
  {
   "cell_type": "code",
   "execution_count": 123,
   "metadata": {
    "colab": {
     "base_uri": "https://localhost:8080/"
    },
    "id": "rDaex4UW_96I",
    "outputId": "1a11cbbc-1b4a-49f8-b450-1313558bf771"
   },
   "outputs": [
    {
     "name": "stdout",
     "output_type": "stream",
     "text": [
      "/home/aiffel-dj19/programmers/data1/\n",
      "/home/aiffel-dj19/programmers/data1/train\n",
      "['guitar', 'horse', 'dog', 'elephant', 'person', 'house', 'giraffe']\n",
      "/home/aiffel-dj19/programmers/data1/test\n",
      "['guitar', 'horse', 'dog', 'elephant', 'person', 'house', 'giraffe']\n"
     ]
    }
   ],
   "source": [
    "# data path 확인 \n",
    "data_path = os.getcwd() + '/data1/'\n",
    "print(data_path)\n",
    "\n",
    "train_path = os.getcwd() + '/data1/train'\n",
    "train_list = os. listdir(train_path) \n",
    "print(train_path)\n",
    "print(train_list)\n",
    "\n",
    "test_path = os.getcwd() + '/data1/test'\n",
    "test_list = os. listdir(test_path)\n",
    "print(test_path)\n",
    "print(test_list)"
   ]
  },
  {
   "cell_type": "markdown",
   "metadata": {
    "id": "yZjX9J8xeA1B"
   },
   "source": [
    "## 데이터셋 확인 및 불러오기\n",
    "* 데이터 셋은 art painting으로 구성되어 있으며 7개의 카테고리로 구분되어 있습니다. 7개의 카테고리로는 classes에서 정의한 dog, elephant, giraffe, guitar, horse, house, person를 포함합니다.\n",
    "* 하나의 이미지의 사이즈는 [3(Channel) * 227(Width) * 227(Height)]이며 각 카테고리 별 예시 이미지는 아래에서 확인할 수 있습니다.\n",
    "* 훈련 데이터는 art painting 1698장이며 테스트 데이터는 art painting 350장입니다."
   ]
  },
  {
   "cell_type": "code",
   "execution_count": 124,
   "metadata": {
    "colab": {
     "base_uri": "https://localhost:8080/"
    },
    "id": "iMHHH2b_Awah",
    "outputId": "53bd2f2a-759c-42f0-eadf-9264854929b1",
    "scrolled": true
   },
   "outputs": [],
   "source": [
    "# dataset 경로내 폴더 개수 및 class 확인\n",
    "def cntFolders(ds_path):\n",
    "    folders = glob(ds_path + '/*')\n",
    "    print(f'{len(folders)}개의 폴더가 있습니다.')\n",
    "\n",
    "    folders_list = os.listdir(ds_path)\n",
    "    print(f'folders_list: {folders_list}')"
   ]
  },
  {
   "cell_type": "code",
   "execution_count": 125,
   "metadata": {
    "scrolled": true
   },
   "outputs": [
    {
     "name": "stdout",
     "output_type": "stream",
     "text": [
      "7개의 폴더가 있습니다.\n",
      "folders_list: ['guitar', 'horse', 'dog', 'elephant', 'person', 'house', 'giraffe']\n"
     ]
    }
   ],
   "source": [
    "cntFolders(train_path)"
   ]
  },
  {
   "cell_type": "code",
   "execution_count": 126,
   "metadata": {},
   "outputs": [
    {
     "name": "stdout",
     "output_type": "stream",
     "text": [
      "7개의 폴더가 있습니다.\n",
      "folders_list: ['guitar', 'horse', 'dog', 'elephant', 'person', 'house', 'giraffe']\n"
     ]
    }
   ],
   "source": [
    "cntFolders(test_path)"
   ]
  },
  {
   "cell_type": "code",
   "execution_count": 127,
   "metadata": {
    "id": "_6IoHaGSxBz9"
   },
   "outputs": [],
   "source": [
    "# dataset내 class별 data 개수 확인\n",
    "def cntImages(ds_path):\n",
    "    train_imgs_len = []\n",
    "\n",
    "    for category in os.listdir(ds_path):\n",
    "        num_imgs = len(os.listdir(os.path.join(ds_path, category)))\n",
    "        train_imgs_len.append(num_imgs)\n",
    "        print(f'Total {category} images: {num_imgs}개')\n",
    "\n",
    "    print(f'=> Total images: {np.sum(train_imgs_len)}개')"
   ]
  },
  {
   "cell_type": "code",
   "execution_count": 128,
   "metadata": {
    "colab": {
     "base_uri": "https://localhost:8080/"
    },
    "id": "1vBF99j6yisY",
    "outputId": "f088a716-c34d-4ad6-a379-1b192f548641",
    "scrolled": true
   },
   "outputs": [
    {
     "name": "stdout",
     "output_type": "stream",
     "text": [
      "Total guitar images: 134개\n",
      "Total horse images: 151개\n",
      "Total dog images: 329개\n",
      "Total elephant images: 205개\n",
      "Total person images: 399개\n",
      "Total house images: 245개\n",
      "Total giraffe images: 235개\n",
      "=> Total images: 1698개\n"
     ]
    }
   ],
   "source": [
    "# train내 class별 data 개수 확인\n",
    "cntImages(train_path)"
   ]
  },
  {
   "cell_type": "code",
   "execution_count": 129,
   "metadata": {},
   "outputs": [
    {
     "name": "stdout",
     "output_type": "stream",
     "text": [
      "Total guitar images: 50개\n",
      "Total horse images: 51개\n",
      "Total dog images: 50개\n",
      "Total elephant images: 50개\n",
      "Total person images: 50개\n",
      "Total house images: 50개\n",
      "Total giraffe images: 49개\n",
      "=> Total images: 350개\n"
     ]
    }
   ],
   "source": [
    "# test내 class별 data 개수 확인\n",
    "cntImages(test_path)"
   ]
  },
  {
   "cell_type": "code",
   "execution_count": 130,
   "metadata": {
    "colab": {
     "base_uri": "https://localhost:8080/",
     "height": 327
    },
    "id": "Qf-grjlRDd7I",
    "outputId": "7ecf9328-f516-4dbc-d86e-3981a08e68b8"
   },
   "outputs": [
    {
     "name": "stdout",
     "output_type": "stream",
     "text": [
      "Image path: /home/aiffel-dj19/programmers/data1/train/guitar/pic_022.jpg\n",
      "Image Shape: (227, 227, 3)\n"
     ]
    },
    {
     "data": {
      "text/plain": [
       "<matplotlib.image.AxesImage at 0x7f12d7c73c10>"
      ]
     },
     "execution_count": 130,
     "metadata": {},
     "output_type": "execute_result"
    },
    {
     "data": {
      "image/png": "[encoded data removed]",
      "text/plain": [
       "<Figure size 432x288 with 1 Axes>"
      ]
     },
     "metadata": {
      "needs_background": "light"
     },
     "output_type": "display_data"
    }
   ],
   "source": [
    "# data sample 확인하기\n",
    "file_list = os.listdir(train_path + '/' + train_list[0])\n",
    "# print(file_list)\n",
    "\n",
    "img_path = train_path + '/' + train_list[0] + '/' + file_list[0]\n",
    "img = tf.keras.preprocessing.image.load_img(img_path)\n",
    "img_arr = tf.keras.preprocessing.image.img_to_array(img)\n",
    "\n",
    "print(f'Image path: {img_path}')\n",
    "print(f'Image Shape: {img_arr.shape}')\n",
    "\n",
    "plt.imshow(img) "
   ]
  },
  {
   "cell_type": "markdown",
   "metadata": {},
   "source": [
    "## 데이터셋 입력 만들기 "
   ]
  },
  {
   "cell_type": "code",
   "execution_count": 131,
   "metadata": {
    "colab": {
     "base_uri": "https://localhost:8080/"
    },
    "id": "jMpUAm5_DMBO",
    "outputId": "e8f30b3d-9147-4924-83ea-9e571c85cf06"
   },
   "outputs": [
    {
     "name": "stdout",
     "output_type": "stream",
     "text": [
      "B x IMG HEIGHT x IMG WIDTH = 64 x 224 x 224\n"
     ]
    }
   ],
   "source": [
    "# parameter setting \n",
    "batch_size = 64\n",
    "img_height = 224 # img_arr.shape[0] # 227\n",
    "img_width = 224 # img_arr.shape[1] # 227\n",
    "\n",
    "print(f'B x IMG HEIGHT x IMG WIDTH = {batch_size} x {img_height} x {img_width}')"
   ]
  },
  {
   "cell_type": "code",
   "execution_count": 132,
   "metadata": {
    "id": "IP8Z8S4Czquc"
   },
   "outputs": [],
   "source": [
    "# data augmentation\n",
    "train_datagen = ImageDataGenerator(rescale=1./255,                                   \n",
    "                                   horizontal_flip=True,\n",
    "                                   vertical_flip=True,\n",
    "                                   shear_range=0.2,\n",
    "                                   zoom_range=0.2,\n",
    "                                   fill_mode='nearest',\n",
    "                                   validation_split=0.2\n",
    "                                  )\n",
    "\n",
    "test_datagen = ImageDataGenerator(rescale = 1./255)"
   ]
  },
  {
   "cell_type": "code",
   "execution_count": 367,
   "metadata": {
    "colab": {
     "base_uri": "https://localhost:8080/"
    },
    "id": "57kjYP4XBt9s",
    "outputId": "13477bcd-7240-488b-998d-357199da2f25"
   },
   "outputs": [
    {
     "name": "stdout",
     "output_type": "stream",
     "text": [
      "Found 1361 images belonging to 7 classes.\n",
      "Found 337 images belonging to 7 classes.\n",
      "Found 350 images belonging to 7 classes.\n"
     ]
    }
   ],
   "source": [
    "# data load \n",
    "train_generator = train_datagen.flow_from_directory(\n",
    "    train_path,\n",
    "    subset=\"training\",\n",
    "    class_mode='categorical',\n",
    "    seed=SEED,\n",
    "    target_size=(img_height, img_width),\n",
    "    batch_size=batch_size)\n",
    "\n",
    "val_generator = train_datagen.flow_from_directory(\n",
    "    train_path,\n",
    "    subset=\"validation\",\n",
    "    class_mode='categorical',\n",
    "    seed=SEED,\n",
    "    target_size=(img_height, img_width),\n",
    "    batch_size=batch_size)\n",
    "\n",
    "test_generator = test_datagen.flow_from_directory(\n",
    "    test_path,\n",
    "    seed=SEED,\n",
    "    target_size=(img_height, img_width))"
   ]
  },
  {
   "cell_type": "code",
   "execution_count": 368,
   "metadata": {},
   "outputs": [
    {
     "data": {
      "text/plain": [
       "(tensorflow.python.keras.preprocessing.image.DirectoryIterator,\n",
       " tensorflow.python.keras.preprocessing.image.DirectoryIterator,\n",
       " tensorflow.python.keras.preprocessing.image.DirectoryIterator)"
      ]
     },
     "execution_count": 368,
     "metadata": {},
     "output_type": "execute_result"
    }
   ],
   "source": [
    "type(train_generator), type(val_generator), type(test_generator)"
   ]
  },
  {
   "cell_type": "code",
   "execution_count": 369,
   "metadata": {
    "colab": {
     "base_uri": "https://localhost:8080/"
    },
    "id": "oS1CmXTI0dag",
    "outputId": "4587497b-e3e8-44d1-e1f1-7ec526b4aea4",
    "scrolled": false
   },
   "outputs": [
    {
     "data": {
      "text/plain": [
       "{'dog': 0,\n",
       " 'elephant': 1,\n",
       " 'giraffe': 2,\n",
       " 'guitar': 3,\n",
       " 'horse': 4,\n",
       " 'house': 5,\n",
       " 'person': 6}"
      ]
     },
     "execution_count": 369,
     "metadata": {},
     "output_type": "execute_result"
    }
   ],
   "source": [
    "# train class\n",
    "classes = train_generator.class_indices\n",
    "train_generator.class_indices"
   ]
  },
  {
   "cell_type": "code",
   "execution_count": 370,
   "metadata": {},
   "outputs": [
    {
     "data": {
      "text/plain": [
       "{'dog': 0,\n",
       " 'elephant': 1,\n",
       " 'giraffe': 2,\n",
       " 'guitar': 3,\n",
       " 'horse': 4,\n",
       " 'house': 5,\n",
       " 'person': 6}"
      ]
     },
     "execution_count": 370,
     "metadata": {},
     "output_type": "execute_result"
    }
   ],
   "source": [
    "# validation class\n",
    "val_generator.class_indices"
   ]
  },
  {
   "cell_type": "code",
   "execution_count": 371,
   "metadata": {},
   "outputs": [
    {
     "data": {
      "text/plain": [
       "{'dog': 0,\n",
       " 'elephant': 1,\n",
       " 'giraffe': 2,\n",
       " 'guitar': 3,\n",
       " 'horse': 4,\n",
       " 'house': 5,\n",
       " 'person': 6}"
      ]
     },
     "execution_count": 371,
     "metadata": {},
     "output_type": "execute_result"
    }
   ],
   "source": [
    "# test class\n",
    "test_generator.class_indices"
   ]
  },
  {
   "cell_type": "code",
   "execution_count": 138,
   "metadata": {},
   "outputs": [
    {
     "data": {
      "text/plain": [
       "dict"
      ]
     },
     "execution_count": 138,
     "metadata": {},
     "output_type": "execute_result"
    }
   ],
   "source": [
    "type(train_generator.class_indices)"
   ]
  },
  {
   "cell_type": "code",
   "execution_count": 139,
   "metadata": {},
   "outputs": [],
   "source": [
    "num_classes = len(train_generator.class_indices.values())"
   ]
  },
  {
   "cell_type": "markdown",
   "metadata": {
    "id": "DSTGDxaFeTyj"
   },
   "source": [
    "## 모델링"
   ]
  },
  {
   "cell_type": "code",
   "execution_count": 304,
   "metadata": {
    "id": "7BT9Sx0lp8Ms"
   },
   "outputs": [],
   "source": [
    "mobile = MobileNetV2(input_shape=(224, 224, 3),\n",
    "                     include_top=False,\n",
    "                     weights='imagenet')"
   ]
  },
  {
   "cell_type": "code",
   "execution_count": 305,
   "metadata": {
    "id": "q854OD0OuE4r"
   },
   "outputs": [],
   "source": [
    "efficient = EfficientNetB0(input_shape=(224,224,3), \n",
    "                           include_top=False,\n",
    "                           weights='imagenet')"
   ]
  },
  {
   "cell_type": "code",
   "execution_count": 306,
   "metadata": {},
   "outputs": [],
   "source": [
    "inception = InceptionV3(input_shape=(224,224,3), \n",
    "                        include_top=False,\n",
    "                        weights='imagenet')"
   ]
  },
  {
   "cell_type": "code",
   "execution_count": 307,
   "metadata": {},
   "outputs": [],
   "source": [
    "models = {'mobilenet': mobile, 'efficient': efficient, 'inception': inception}\n",
    "base_model = models['inception']"
   ]
  },
  {
   "cell_type": "code",
   "execution_count": 308,
   "metadata": {
    "id": "VpbW1SyNqcJZ"
   },
   "outputs": [],
   "source": [
    "base_model.trainable = False"
   ]
  },
  {
   "cell_type": "code",
   "execution_count": 310,
   "metadata": {},
   "outputs": [],
   "source": [
    "from keras.models import Sequential"
   ]
  },
  {
   "cell_type": "code",
   "execution_count": 318,
   "metadata": {},
   "outputs": [],
   "source": [
    "add_model = Sequential()\n",
    "add_model.add(base_model)\n",
    "add_model.add(GlobalAveragePooling2D())\n",
    "add_model.add(Dropout(0.5))\n",
    "add_model.add(Dense(num_classes, \n",
    "                    activation='softmax'))"
   ]
  },
  {
   "cell_type": "code",
   "execution_count": 319,
   "metadata": {},
   "outputs": [],
   "source": [
    "model = add_model"
   ]
  },
  {
   "cell_type": "code",
   "execution_count": 320,
   "metadata": {},
   "outputs": [
    {
     "name": "stdout",
     "output_type": "stream",
     "text": [
      "Model: \"sequential_2\"\n",
      "_________________________________________________________________\n",
      "Layer (type)                 Output Shape              Param #   \n",
      "=================================================================\n",
      "inception_v3 (Functional)    (None, 5, 5, 2048)        21802784  \n",
      "_________________________________________________________________\n",
      "global_average_pooling2d_1 ( (None, 2048)              0         \n",
      "_________________________________________________________________\n",
      "dropout (Dropout)            (None, 2048)              0         \n",
      "_________________________________________________________________\n",
      "dense_6 (Dense)              (None, 7)                 14343     \n",
      "=================================================================\n",
      "Total params: 21,817,127\n",
      "Trainable params: 14,343\n",
      "Non-trainable params: 21,802,784\n",
      "_________________________________________________________________\n"
     ]
    }
   ],
   "source": [
    "model.summary()"
   ]
  },
  {
   "cell_type": "code",
   "execution_count": 324,
   "metadata": {
    "id": "QrHbyob6OCq9"
   },
   "outputs": [],
   "source": [
    "lr = 1e-4\n",
    "\n",
    "model.compile(optimizer=tf.keras.optimizers.Adam(learning_rate = lr),\n",
    "              loss='categorical_crossentropy',\n",
    "              metrics=['accuracy'])"
   ]
  },
  {
   "cell_type": "code",
   "execution_count": 325,
   "metadata": {},
   "outputs": [],
   "source": [
    "es = EarlyStopping(patience=4,verbose=1,restore_best_weights=True)\n",
    "reduce_lr = ReduceLROnPlateau(factor=0.1,patience=3,verbose=1)\n",
    "\n",
    "callbacks = [es, reduce_lr]"
   ]
  },
  {
   "cell_type": "code",
   "execution_count": 323,
   "metadata": {},
   "outputs": [],
   "source": [
    "EPOCHS = 20"
   ]
  },
  {
   "cell_type": "code",
   "execution_count": 326,
   "metadata": {
    "colab": {
     "base_uri": "https://localhost:8080/"
    },
    "id": "D6aN4QifONn7",
    "outputId": "414cfd19-4b63-4f7c-c120-124f455f316c",
    "scrolled": true
   },
   "outputs": [
    {
     "name": "stdout",
     "output_type": "stream",
     "text": [
      "Epoch 1/20\n",
      "21/21 [==============================] - 19s 762ms/step - loss: 2.7503 - accuracy: 0.1213 - val_loss: 2.0481 - val_accuracy: 0.2281\n",
      "Epoch 2/20\n",
      "21/21 [==============================] - 14s 705ms/step - loss: 2.4145 - accuracy: 0.1806 - val_loss: 1.9370 - val_accuracy: 0.2719\n",
      "Epoch 3/20\n",
      "21/21 [==============================] - 14s 689ms/step - loss: 2.2274 - accuracy: 0.2373 - val_loss: 1.8005 - val_accuracy: 0.3031\n",
      "Epoch 4/20\n",
      "21/21 [==============================] - 15s 695ms/step - loss: 2.2129 - accuracy: 0.2225 - val_loss: 1.7231 - val_accuracy: 0.3750\n",
      "Epoch 5/20\n",
      "21/21 [==============================] - 15s 703ms/step - loss: 2.0421 - accuracy: 0.2734 - val_loss: 1.6405 - val_accuracy: 0.3594\n",
      "Epoch 6/20\n",
      "21/21 [==============================] - 14s 675ms/step - loss: 2.0333 - accuracy: 0.2735 - val_loss: 1.5680 - val_accuracy: 0.4156\n",
      "Epoch 7/20\n",
      "21/21 [==============================] - 14s 681ms/step - loss: 1.8873 - accuracy: 0.3286 - val_loss: 1.4510 - val_accuracy: 0.4625\n",
      "Epoch 8/20\n",
      "21/21 [==============================] - 14s 681ms/step - loss: 1.8506 - accuracy: 0.3620 - val_loss: 1.3612 - val_accuracy: 0.5031\n",
      "Epoch 9/20\n",
      "21/21 [==============================] - 15s 704ms/step - loss: 1.7506 - accuracy: 0.3637 - val_loss: 1.2903 - val_accuracy: 0.5500\n",
      "Epoch 10/20\n",
      "21/21 [==============================] - 15s 710ms/step - loss: 1.6624 - accuracy: 0.3777 - val_loss: 1.2292 - val_accuracy: 0.5906\n",
      "Epoch 11/20\n",
      "21/21 [==============================] - 15s 700ms/step - loss: 1.6574 - accuracy: 0.4071 - val_loss: 1.2050 - val_accuracy: 0.5656\n",
      "Epoch 12/20\n",
      "21/21 [==============================] - 15s 697ms/step - loss: 1.5012 - accuracy: 0.4249 - val_loss: 1.1182 - val_accuracy: 0.6562\n",
      "Epoch 13/20\n",
      "21/21 [==============================] - 15s 693ms/step - loss: 1.5289 - accuracy: 0.4424 - val_loss: 1.0793 - val_accuracy: 0.6500\n",
      "Epoch 14/20\n",
      "21/21 [==============================] - 15s 706ms/step - loss: 1.4242 - accuracy: 0.4964 - val_loss: 1.0738 - val_accuracy: 0.6750\n",
      "Epoch 15/20\n",
      "21/21 [==============================] - 14s 687ms/step - loss: 1.4514 - accuracy: 0.4763 - val_loss: 1.0498 - val_accuracy: 0.6594\n",
      "Epoch 16/20\n",
      "21/21 [==============================] - 15s 714ms/step - loss: 1.3995 - accuracy: 0.4884 - val_loss: 1.0103 - val_accuracy: 0.6750\n",
      "Epoch 17/20\n",
      "21/21 [==============================] - 14s 692ms/step - loss: 1.2589 - accuracy: 0.5461 - val_loss: 0.9139 - val_accuracy: 0.7156\n",
      "Epoch 18/20\n",
      "21/21 [==============================] - 15s 707ms/step - loss: 1.3408 - accuracy: 0.5204 - val_loss: 0.8907 - val_accuracy: 0.7375\n",
      "Epoch 19/20\n",
      "21/21 [==============================] - 15s 735ms/step - loss: 1.1950 - accuracy: 0.5646 - val_loss: 0.8839 - val_accuracy: 0.7344\n",
      "Epoch 20/20\n",
      "21/21 [==============================] - 15s 700ms/step - loss: 1.3496 - accuracy: 0.5212 - val_loss: 0.8480 - val_accuracy: 0.7625\n"
     ]
    }
   ],
   "source": [
    "history = model.fit_generator(train_generator,\n",
    "                              epochs=EPOCHS,\n",
    "                              steps_per_epoch=train_generator.samples // batch_size,\n",
    "                              validation_data=val_generator,\n",
    "                              validation_steps=val_generator.samples // batch_size,\n",
    "                              callbacks=callbacks\n",
    "                             )"
   ]
  },
  {
   "cell_type": "code",
   "execution_count": 327,
   "metadata": {
    "scrolled": true
   },
   "outputs": [
    {
     "data": {
      "image/png": "[encoded data removed]",
      "text/plain": [
       "<Figure size 432x288 with 1 Axes>"
      ]
     },
     "metadata": {
      "needs_background": "light"
     },
     "output_type": "display_data"
    },
    {
     "data": {
      "image/png": "[encoded data removed]",
      "text/plain": [
       "<Figure size 432x288 with 1 Axes>"
      ]
     },
     "metadata": {
      "needs_background": "light"
     },
     "output_type": "display_data"
    }
   ],
   "source": [
    "acc = history.history['accuracy']\n",
    "val_acc = history.history['val_accuracy']\n",
    "loss = history.history['loss']\n",
    "val_loss = history.history['val_loss']\n",
    "\n",
    "epochs = range(len(acc))\n",
    "\n",
    "plt.plot(epochs, acc, 'r', label='Training accuracy')\n",
    "plt.plot(epochs, val_acc, 'b', label='Validation accuracy')\n",
    "plt.title('Training and validation accuracy')\n",
    "plt.legend()\n",
    "plt.figure()\n",
    "\n",
    "plt.plot(epochs, loss, 'r', label='Training Loss')\n",
    "plt.plot(epochs, val_loss, 'b', label='Validation Loss')\n",
    "plt.title('Training and validation loss')\n",
    "plt.legend()\n",
    "\n",
    "plt.show()"
   ]
  },
  {
   "cell_type": "code",
   "execution_count": 328,
   "metadata": {},
   "outputs": [
    {
     "name": "stderr",
     "output_type": "stream",
     "text": [
      "/home/aiffel-dj19/anaconda3/envs/aiffel/lib/python3.7/site-packages/tensorflow/python/keras/engine/training.py:1877: UserWarning: `Model.evaluate_generator` is deprecated and will be removed in a future version. Please use `Model.evaluate`, which supports generators.\n",
      "  warnings.warn('`Model.evaluate_generator` is deprecated and '\n"
     ]
    },
    {
     "name": "stdout",
     "output_type": "stream",
     "text": [
      "accuracy: 70.31%\n"
     ]
    }
   ],
   "source": [
    "# evaluate\n",
    "scores = model.evaluate_generator(test_generator, steps=5)\n",
    "print(\"%s: %.2f%%\" %(model.metrics_names[1], scores[1]*100))"
   ]
  },
  {
   "cell_type": "code",
   "execution_count": 329,
   "metadata": {
    "id": "0QG21bdhUD9S"
   },
   "outputs": [],
   "source": [
    "!mkdir -p saved_model\n",
    "# model.save('saved_model/mobilenetv2.h5')\n",
    "model_name = 'inceptionv3'\n",
    "model.save(f'saved_model/{model_name}.h5')"
   ]
  },
  {
   "cell_type": "code",
   "execution_count": 330,
   "metadata": {
    "colab": {
     "base_uri": "https://localhost:8080/"
    },
    "id": "EGIgcn1TUFyS",
    "outputId": "33d06b15-bad7-4bc5-eb75-e63a84bcad5f"
   },
   "outputs": [
    {
     "name": "stdout",
     "output_type": "stream",
     "text": [
      "inceptionv3.h5\tmy_model  my_model.h5\r\n"
     ]
    }
   ],
   "source": [
    "!ls ./saved_model"
   ]
  },
  {
   "cell_type": "code",
   "execution_count": 331,
   "metadata": {
    "id": "W7TqPFEFUOwc"
   },
   "outputs": [],
   "source": [
    "load_model = tf.keras.models.load_model('saved_model/inceptionv3.h5')"
   ]
  },
  {
   "cell_type": "code",
   "execution_count": 372,
   "metadata": {
    "id": "Dmuyd9EGOyiu",
    "scrolled": true
   },
   "outputs": [
    {
     "name": "stderr",
     "output_type": "stream",
     "text": [
      "/home/aiffel-dj19/anaconda3/envs/aiffel/lib/python3.7/site-packages/tensorflow/python/keras/engine/training.py:1905: UserWarning: `Model.predict_generator` is deprecated and will be removed in a future version. Please use `Model.predict`, which supports generators.\n",
      "  warnings.warn('`Model.predict_generator` is deprecated and '\n"
     ]
    },
    {
     "name": "stdout",
     "output_type": "stream",
     "text": [
      " 11/350 [..............................] - ETA: 20sWARNING:tensorflow:Your input ran out of data; interrupting training. Make sure that your dataset or generator can generate at least `steps_per_epoch * epochs` batches (in this case, 350 batches). You may need to use the repeat() function when building your dataset.\n",
      "350/350 [==============================] - 23s 2ms/step\n"
     ]
    }
   ],
   "source": [
    "predictions = load_model.predict_generator(test_generator, \n",
    "                                           steps = test_generator.n, \n",
    "                                           verbose=1)"
   ]
  },
  {
   "cell_type": "code",
   "execution_count": 373,
   "metadata": {
    "colab": {
     "base_uri": "https://localhost:8080/"
    },
    "id": "KZpwS_NHPT7M",
    "outputId": "b88cb388-b18c-4aa0-b7e7-10963ff97835",
    "scrolled": true
   },
   "outputs": [
    {
     "data": {
      "text/plain": [
       "3"
      ]
     },
     "execution_count": 373,
     "metadata": {},
     "output_type": "execute_result"
    }
   ],
   "source": [
    "np.argmax(predictions[0])"
   ]
  },
  {
   "cell_type": "code",
   "execution_count": 374,
   "metadata": {},
   "outputs": [
    {
     "data": {
      "text/plain": [
       "(350, 7)"
      ]
     },
     "execution_count": 374,
     "metadata": {},
     "output_type": "execute_result"
    }
   ],
   "source": [
    "predictions.shape"
   ]
  },
  {
   "cell_type": "code",
   "execution_count": 375,
   "metadata": {},
   "outputs": [
    {
     "data": {
      "text/plain": [
       "[(0, 'dog'),\n",
       " (1, 'elephant'),\n",
       " (2, 'giraffe'),\n",
       " (3, 'guitar'),\n",
       " (4, 'horse'),\n",
       " (5, 'house'),\n",
       " (6, 'person')]"
      ]
     },
     "execution_count": 375,
     "metadata": {},
     "output_type": "execute_result"
    }
   ],
   "source": [
    "idx2name = [(i, n) for n, i in classes.items()]\n",
    "idx2name"
   ]
  },
  {
   "cell_type": "code",
   "execution_count": 376,
   "metadata": {
    "scrolled": true
   },
   "outputs": [
    {
     "data": {
      "text/plain": [
       "(6, 'person')"
      ]
     },
     "execution_count": 376,
     "metadata": {},
     "output_type": "execute_result"
    }
   ],
   "source": [
    "idx2name[6]"
   ]
  },
  {
   "cell_type": "markdown",
   "metadata": {
    "id": "9GT0Yq1hcb8E"
   },
   "source": [
    "## 제출 파일 만들기"
   ]
  },
  {
   "cell_type": "code",
   "execution_count": 377,
   "metadata": {
    "colab": {
     "base_uri": "https://localhost:8080/"
    },
    "id": "3QTE68eAaVYW",
    "outputId": "27639e13-9450-4df4-8854-896efdee6481"
   },
   "outputs": [
    {
     "name": "stdout",
     "output_type": "stream",
     "text": [
      "inceptionv3_answer.csv\ttest_answer_sample_.csv\n",
      "/home/aiffel-dj19/programmers\n"
     ]
    }
   ],
   "source": [
    "!mkdir -p ./submit\n",
    "!ls ./submit\n",
    "!pwd"
   ]
  },
  {
   "cell_type": "code",
   "execution_count": 378,
   "metadata": {},
   "outputs": [
    {
     "data": {
      "text/plain": [
       "'/home/aiffel-dj19/programmers/submit/'"
      ]
     },
     "execution_count": 378,
     "metadata": {},
     "output_type": "execute_result"
    }
   ],
   "source": [
    "submit_path = os.path.join(os.getcwd(), 'submit/')\n",
    "submit_path"
   ]
  },
  {
   "cell_type": "code",
   "execution_count": 379,
   "metadata": {
    "colab": {
     "base_uri": "https://localhost:8080/",
     "height": 202
    },
    "id": "s-z4iqFSaaEE",
    "outputId": "8bdde47c-b4f6-4792-c504-226fff437b5a"
   },
   "outputs": [
    {
     "data": {
      "text/html": [
       "<div>\n",
       "<style scoped>\n",
       "    .dataframe tbody tr th:only-of-type {\n",
       "        vertical-align: middle;\n",
       "    }\n",
       "\n",
       "    .dataframe tbody tr th {\n",
       "        vertical-align: top;\n",
       "    }\n",
       "\n",
       "    .dataframe thead th {\n",
       "        text-align: right;\n",
       "    }\n",
       "</style>\n",
       "<table border=\"1\" class=\"dataframe\">\n",
       "  <thead>\n",
       "    <tr style=\"text-align: right;\">\n",
       "      <th></th>\n",
       "      <th>answer value</th>\n",
       "    </tr>\n",
       "  </thead>\n",
       "  <tbody>\n",
       "    <tr>\n",
       "      <th>0</th>\n",
       "      <td>0</td>\n",
       "    </tr>\n",
       "    <tr>\n",
       "      <th>1</th>\n",
       "      <td>0</td>\n",
       "    </tr>\n",
       "    <tr>\n",
       "      <th>2</th>\n",
       "      <td>0</td>\n",
       "    </tr>\n",
       "    <tr>\n",
       "      <th>3</th>\n",
       "      <td>0</td>\n",
       "    </tr>\n",
       "    <tr>\n",
       "      <th>4</th>\n",
       "      <td>0</td>\n",
       "    </tr>\n",
       "  </tbody>\n",
       "</table>\n",
       "</div>"
      ],
      "text/plain": [
       "   answer value\n",
       "0             0\n",
       "1             0\n",
       "2             0\n",
       "3             0\n",
       "4             0"
      ]
     },
     "execution_count": 379,
     "metadata": {},
     "output_type": "execute_result"
    }
   ],
   "source": [
    "# 제출 파일 형식 확인\n",
    "answer_df = pd.read_csv(submit_path + 'test_answer_sample_.csv', index_col=0)\n",
    "answer_df.head()"
   ]
  },
  {
   "cell_type": "code",
   "execution_count": 380,
   "metadata": {
    "scrolled": true
   },
   "outputs": [
    {
     "name": "stdout",
     "output_type": "stream",
     "text": [
      "dog/0013.jpg\n",
      "13\n"
     ]
    }
   ],
   "source": [
    "# filename to index\n",
    "print(test_generator.filenames[0])\n",
    "print(int(test_generator.filenames[0].strip('.jpg').split('/')[1]))"
   ]
  },
  {
   "cell_type": "code",
   "execution_count": 381,
   "metadata": {
    "scrolled": false
   },
   "outputs": [
    {
     "data": {
      "text/plain": [
       "(350, 1, 350)"
      ]
     },
     "execution_count": 381,
     "metadata": {},
     "output_type": "execute_result"
    }
   ],
   "source": [
    "# index를 파일명에 맞게 재설정\n",
    "numbering = [int(filename.strip('.jpg').split('/')[1]) for filename in test_generator.filenames]\n",
    "len(numbering), min(numbering), max(numbering)"
   ]
  },
  {
   "cell_type": "code",
   "execution_count": 382,
   "metadata": {
    "scrolled": true
   },
   "outputs": [
    {
     "data": {
      "text/plain": [
       "(1, 350)"
      ]
     },
     "execution_count": 382,
     "metadata": {},
     "output_type": "execute_result"
    }
   ],
   "source": [
    "min(numbering), max(numbering)"
   ]
  },
  {
   "cell_type": "code",
   "execution_count": 383,
   "metadata": {},
   "outputs": [
    {
     "data": {
      "text/html": [
       "<div>\n",
       "<style scoped>\n",
       "    .dataframe tbody tr th:only-of-type {\n",
       "        vertical-align: middle;\n",
       "    }\n",
       "\n",
       "    .dataframe tbody tr th {\n",
       "        vertical-align: top;\n",
       "    }\n",
       "\n",
       "    .dataframe thead th {\n",
       "        text-align: right;\n",
       "    }\n",
       "</style>\n",
       "<table border=\"1\" class=\"dataframe\">\n",
       "  <thead>\n",
       "    <tr style=\"text-align: right;\">\n",
       "      <th></th>\n",
       "      <th>answer value</th>\n",
       "    </tr>\n",
       "  </thead>\n",
       "  <tbody>\n",
       "    <tr>\n",
       "      <th>13</th>\n",
       "      <td>NaN</td>\n",
       "    </tr>\n",
       "    <tr>\n",
       "      <th>18</th>\n",
       "      <td>NaN</td>\n",
       "    </tr>\n",
       "    <tr>\n",
       "      <th>25</th>\n",
       "      <td>NaN</td>\n",
       "    </tr>\n",
       "    <tr>\n",
       "      <th>29</th>\n",
       "      <td>NaN</td>\n",
       "    </tr>\n",
       "    <tr>\n",
       "      <th>35</th>\n",
       "      <td>NaN</td>\n",
       "    </tr>\n",
       "  </tbody>\n",
       "</table>\n",
       "</div>"
      ],
      "text/plain": [
       "   answer value\n",
       "13          NaN\n",
       "18          NaN\n",
       "25          NaN\n",
       "29          NaN\n",
       "35          NaN"
      ]
     },
     "execution_count": 383,
     "metadata": {},
     "output_type": "execute_result"
    }
   ],
   "source": [
    "result_df = pd.DataFrame(index=numbering, columns=['answer value'])\n",
    "result_df.head()"
   ]
  },
  {
   "cell_type": "code",
   "execution_count": 384,
   "metadata": {
    "colab": {
     "base_uri": "https://localhost:8080/"
    },
    "id": "Yx4IrPpXa7oo",
    "outputId": "5850ccde-1e72-4f87-b52f-5b519f44d55a",
    "scrolled": true
   },
   "outputs": [
    {
     "data": {
      "text/plain": [
       "(numpy.ndarray, (350, 7))"
      ]
     },
     "execution_count": 384,
     "metadata": {},
     "output_type": "execute_result"
    }
   ],
   "source": [
    "type(predictions), predictions.shape"
   ]
  },
  {
   "cell_type": "code",
   "execution_count": 385,
   "metadata": {
    "colab": {
     "base_uri": "https://localhost:8080/"
    },
    "id": "ByTWKe03aBpi",
    "outputId": "329d28a4-b4d2-4d6e-fef3-77608aa570b9"
   },
   "outputs": [
    {
     "data": {
      "text/plain": [
       "350"
      ]
     },
     "execution_count": 385,
     "metadata": {},
     "output_type": "execute_result"
    }
   ],
   "source": [
    "pred_list = [np.argmax(pred) for pred in predictions]\n",
    "len(pred_list)"
   ]
  },
  {
   "cell_type": "code",
   "execution_count": 386,
   "metadata": {
    "colab": {
     "base_uri": "https://localhost:8080/",
     "height": 202
    },
    "id": "HcqrzEy-bUZs",
    "outputId": "95e6e1b4-87be-42a4-9206-79e4e016ecc7",
    "scrolled": false
   },
   "outputs": [
    {
     "data": {
      "text/html": [
       "<div>\n",
       "<style scoped>\n",
       "    .dataframe tbody tr th:only-of-type {\n",
       "        vertical-align: middle;\n",
       "    }\n",
       "\n",
       "    .dataframe tbody tr th {\n",
       "        vertical-align: top;\n",
       "    }\n",
       "\n",
       "    .dataframe thead th {\n",
       "        text-align: right;\n",
       "    }\n",
       "</style>\n",
       "<table border=\"1\" class=\"dataframe\">\n",
       "  <thead>\n",
       "    <tr style=\"text-align: right;\">\n",
       "      <th></th>\n",
       "      <th>answer value</th>\n",
       "    </tr>\n",
       "  </thead>\n",
       "  <tbody>\n",
       "    <tr>\n",
       "      <th>13</th>\n",
       "      <td>3</td>\n",
       "    </tr>\n",
       "    <tr>\n",
       "      <th>18</th>\n",
       "      <td>5</td>\n",
       "    </tr>\n",
       "    <tr>\n",
       "      <th>25</th>\n",
       "      <td>6</td>\n",
       "    </tr>\n",
       "    <tr>\n",
       "      <th>29</th>\n",
       "      <td>4</td>\n",
       "    </tr>\n",
       "    <tr>\n",
       "      <th>35</th>\n",
       "      <td>3</td>\n",
       "    </tr>\n",
       "  </tbody>\n",
       "</table>\n",
       "</div>"
      ],
      "text/plain": [
       "    answer value\n",
       "13             3\n",
       "18             5\n",
       "25             6\n",
       "29             4\n",
       "35             3"
      ]
     },
     "execution_count": 386,
     "metadata": {},
     "output_type": "execute_result"
    }
   ],
   "source": [
    "result_df['answer value'] = pred_list\n",
    "result_df.head()"
   ]
  },
  {
   "cell_type": "code",
   "execution_count": 391,
   "metadata": {
    "scrolled": true
   },
   "outputs": [
    {
     "data": {
      "text/html": [
       "<div>\n",
       "<style scoped>\n",
       "    .dataframe tbody tr th:only-of-type {\n",
       "        vertical-align: middle;\n",
       "    }\n",
       "\n",
       "    .dataframe tbody tr th {\n",
       "        vertical-align: top;\n",
       "    }\n",
       "\n",
       "    .dataframe thead th {\n",
       "        text-align: right;\n",
       "    }\n",
       "</style>\n",
       "<table border=\"1\" class=\"dataframe\">\n",
       "  <thead>\n",
       "    <tr style=\"text-align: right;\">\n",
       "      <th></th>\n",
       "      <th>answer value</th>\n",
       "    </tr>\n",
       "  </thead>\n",
       "  <tbody>\n",
       "    <tr>\n",
       "      <th>1</th>\n",
       "      <td>2</td>\n",
       "    </tr>\n",
       "    <tr>\n",
       "      <th>2</th>\n",
       "      <td>5</td>\n",
       "    </tr>\n",
       "    <tr>\n",
       "      <th>3</th>\n",
       "      <td>0</td>\n",
       "    </tr>\n",
       "    <tr>\n",
       "      <th>4</th>\n",
       "      <td>2</td>\n",
       "    </tr>\n",
       "    <tr>\n",
       "      <th>5</th>\n",
       "      <td>2</td>\n",
       "    </tr>\n",
       "    <tr>\n",
       "      <th>6</th>\n",
       "      <td>1</td>\n",
       "    </tr>\n",
       "    <tr>\n",
       "      <th>7</th>\n",
       "      <td>0</td>\n",
       "    </tr>\n",
       "    <tr>\n",
       "      <th>8</th>\n",
       "      <td>1</td>\n",
       "    </tr>\n",
       "    <tr>\n",
       "      <th>9</th>\n",
       "      <td>5</td>\n",
       "    </tr>\n",
       "    <tr>\n",
       "      <th>10</th>\n",
       "      <td>6</td>\n",
       "    </tr>\n",
       "    <tr>\n",
       "      <th>11</th>\n",
       "      <td>0</td>\n",
       "    </tr>\n",
       "    <tr>\n",
       "      <th>12</th>\n",
       "      <td>5</td>\n",
       "    </tr>\n",
       "    <tr>\n",
       "      <th>13</th>\n",
       "      <td>3</td>\n",
       "    </tr>\n",
       "    <tr>\n",
       "      <th>14</th>\n",
       "      <td>6</td>\n",
       "    </tr>\n",
       "    <tr>\n",
       "      <th>15</th>\n",
       "      <td>5</td>\n",
       "    </tr>\n",
       "    <tr>\n",
       "      <th>16</th>\n",
       "      <td>3</td>\n",
       "    </tr>\n",
       "    <tr>\n",
       "      <th>17</th>\n",
       "      <td>6</td>\n",
       "    </tr>\n",
       "    <tr>\n",
       "      <th>18</th>\n",
       "      <td>5</td>\n",
       "    </tr>\n",
       "    <tr>\n",
       "      <th>19</th>\n",
       "      <td>5</td>\n",
       "    </tr>\n",
       "    <tr>\n",
       "      <th>20</th>\n",
       "      <td>0</td>\n",
       "    </tr>\n",
       "  </tbody>\n",
       "</table>\n",
       "</div>"
      ],
      "text/plain": [
       "    answer value\n",
       "1              2\n",
       "2              5\n",
       "3              0\n",
       "4              2\n",
       "5              2\n",
       "6              1\n",
       "7              0\n",
       "8              1\n",
       "9              5\n",
       "10             6\n",
       "11             0\n",
       "12             5\n",
       "13             3\n",
       "14             6\n",
       "15             5\n",
       "16             3\n",
       "17             6\n",
       "18             5\n",
       "19             5\n",
       "20             0"
      ]
     },
     "execution_count": 391,
     "metadata": {},
     "output_type": "execute_result"
    }
   ],
   "source": [
    "result_df = result_df.sort_index()\n",
    "result_df.head(20)"
   ]
  },
  {
   "cell_type": "code",
   "execution_count": 389,
   "metadata": {},
   "outputs": [
    {
     "data": {
      "text/plain": [
       "{'dog': 0,\n",
       " 'elephant': 1,\n",
       " 'giraffe': 2,\n",
       " 'guitar': 3,\n",
       " 'horse': 4,\n",
       " 'house': 5,\n",
       " 'person': 6}"
      ]
     },
     "execution_count": 389,
     "metadata": {},
     "output_type": "execute_result"
    }
   ],
   "source": [
    "classes"
   ]
  },
  {
   "cell_type": "code",
   "execution_count": 390,
   "metadata": {
    "id": "RapoIyPabfvR"
   },
   "outputs": [
    {
     "name": "stdout",
     "output_type": "stream",
     "text": [
      "/home/aiffel-dj19/programmers/submit/inceptionv3_answer.csv\n"
     ]
    }
   ],
   "source": [
    "result_df.to_csv(f'{submit_path}{model_name}_answer.csv')\n",
    "print(f'{submit_path}{model_name}_answer.csv')"
   ]
  }
 ],
 "metadata": {
  "accelerator": "GPU",
  "colab": {
   "collapsed_sections": [],
   "name": "programmers_devmatching.ipynb",
   "provenance": []
  },
  "kernelspec": {
   "display_name": "Python 3",
   "language": "python",
   "name": "python3"
  },
  "language_info": {
   "codemirror_mode": {
    "name": "ipython",
    "version": 3
   },
   "file_extension": ".py",
   "mimetype": "text/x-python",
   "name": "python",
   "nbconvert_exporter": "python",
   "pygments_lexer": "ipython3",
   "version": "3.7.10"
  },
  "toc": {
   "base_numbering": 1,
   "nav_menu": {},
   "number_sections": true,
   "sideBar": true,
   "skip_h1_title": false,
   "title_cell": "Table of Contents",
   "title_sidebar": "Contents",
   "toc_cell": false,
   "toc_position": {},
   "toc_section_display": true,
   "toc_window_display": false
  }
 },
 "nbformat": 4,
 "nbformat_minor": 1
}
