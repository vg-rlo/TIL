{
 "cells": [
  {
   "cell_type": "markdown",
   "metadata": {},
   "source": [
    "# Crawling Using Selenium\n",
    "* 목적: 특정 사이트의 게시글들을 모두 불러오기\n",
    "* 사용라이브러리: Selenium"
   ]
  },
  {
   "cell_type": "code",
   "execution_count": 19,
   "metadata": {},
   "outputs": [
    {
     "name": "stdout",
     "output_type": "stream",
     "text": [
      "('64bit', 'WindowsPE')\n"
     ]
    }
   ],
   "source": [
    "# os 확인\n",
    "import platform\n",
    "\n",
    "print(platform.architecture())"
   ]
  },
  {
   "cell_type": "code",
   "execution_count": 20,
   "metadata": {},
   "outputs": [
    {
     "name": "stdout",
     "output_type": "stream",
     "text": [
      "Python 3.8.5\n"
     ]
    }
   ],
   "source": [
    "# python version 확인\n",
    "!python --version"
   ]
  },
  {
   "cell_type": "code",
   "execution_count": 24,
   "metadata": {},
   "outputs": [
    {
     "data": {
      "text/plain": [
       "'C:\\\\Users\\\\moon\\\\code'"
      ]
     },
     "execution_count": 24,
     "metadata": {},
     "output_type": "execute_result"
    }
   ],
   "source": [
    "# 현재 경로 확인\n",
    "%pwd"
   ]
  },
  {
   "cell_type": "code",
   "execution_count": 144,
   "metadata": {},
   "outputs": [
    {
     "name": "stdout",
     "output_type": "stream",
     "text": [
      "Requirement already satisfied: selenium==3.14.1 in c:\\users\\moon\\anaconda3\\envs\\dreamai\\lib\\site-packages (3.14.1)\n",
      "Requirement already satisfied: urllib3 in c:\\users\\moon\\anaconda3\\envs\\dreamai\\lib\\site-packages (from selenium==3.14.1) (1.26.2)\n"
     ]
    }
   ],
   "source": [
    "# selenium 설치\n",
    "!pip install selenium==3.14.1"
   ]
  },
  {
   "cell_type": "code",
   "execution_count": 145,
   "metadata": {},
   "outputs": [],
   "source": [
    "# 필요한 모듈과 라이브러리 임포트\n",
    "import pandas as pd\n",
    "from selenium import webdriver"
   ]
  },
  {
   "cell_type": "code",
   "execution_count": 30,
   "metadata": {},
   "outputs": [
    {
     "data": {
      "text/plain": [
       "'3.14.1'"
      ]
     },
     "execution_count": 30,
     "metadata": {},
     "output_type": "execute_result"
    }
   ],
   "source": [
    "# 웹 브라우저 드라이버 버전 확인\n",
    "webdriver.__version__"
   ]
  },
  {
   "cell_type": "code",
   "execution_count": 36,
   "metadata": {},
   "outputs": [],
   "source": [
    "# 접근하고자 하는 사이트의 링크 정의\n",
    "website_link = 'https://barosotong.gwangju.go.kr/agoraVView.do?pageId=platform109&seq=5308471&orderBy=B&sort=D&listType=C&searchCtgry=agora01&searchTp=T'"
   ]
  },
  {
   "cell_type": "code",
   "execution_count": 37,
   "metadata": {},
   "outputs": [],
   "source": [
    "# 크롬 웹 브라우저 92버전의 경로 정의 \n",
    "driver_path = os.getcwd() + '/chromedriver92'"
   ]
  },
  {
   "cell_type": "code",
   "execution_count": 38,
   "metadata": {},
   "outputs": [],
   "source": [
    "# 접근하고자 하는 사이트를 드라이버로 열기\n",
    "driver = webdriver.Chrome(driver_path)\n",
    "driver.get(website_link)"
   ]
  },
  {
   "cell_type": "markdown",
   "metadata": {},
   "source": [
    "## 토론 주제와 기간 가져오기"
   ]
  },
  {
   "cell_type": "code",
   "execution_count": 60,
   "metadata": {
    "scrolled": true
   },
   "outputs": [
    {
     "data": {
      "text/plain": [
       "'도시철도 연계 시내버스 노선개편용역 관련 시민 의견수렴\\n-'"
      ]
     },
     "execution_count": 60,
     "metadata": {},
     "output_type": "execute_result"
    }
   ],
   "source": [
    "# 게시글 제목 가져오기 => 파일명 저장 \n",
    "title = driver.find_element_by_class_name(\"txt\").text\n",
    "time.sleep(0.1)\n",
    "title # 정규화 과정으로 한글만 추출할 것"
   ]
  },
  {
   "cell_type": "code",
   "execution_count": 62,
   "metadata": {},
   "outputs": [
    {
     "data": {
      "text/plain": [
       "['2021-02-25', '2021-09-30']"
      ]
     },
     "execution_count": 62,
     "metadata": {},
     "output_type": "execute_result"
    }
   ],
   "source": [
    "# 게시글 토론 기간 가져오기\n",
    "remain = driver.find_element_by_class_name(\"remain2\").text\n",
    "time.sleep(0.1)\n",
    "remain.split(' ~ ')"
   ]
  },
  {
   "cell_type": "markdown",
   "metadata": {},
   "source": [
    "## 게시글 가져오기"
   ]
  },
  {
   "cell_type": "markdown",
   "metadata": {},
   "source": [
    "### 한 페이지내 글들을 한번에 가져오기"
   ]
  },
  {
   "cell_type": "code",
   "execution_count": 88,
   "metadata": {},
   "outputs": [
    {
     "data": {
      "text/plain": [
       "['네이버 로그인',\n",
       " '박OO2021-08-03 17:06',\n",
       " '구분',\n",
       " '노선',\n",
       " '',\n",
       " '1. 귀하의 성별은 어떻게 되십니까?',\n",
       " '여',\n",
       " '',\n",
       " '2. 귀하의 출생연도는 어떻게 되십니까?',\n",
       " '1980',\n",
       " '',\n",
       " '3. 귀하 거주 지역은 어떻게 되십니까?',\n",
       " '북구 임동',\n",
       " '',\n",
       " '4. 귀하가 주로 이용하는 노선과 정류소는 어떻게 되십니까?',\n",
       " '첨단 95 임동농협',\n",
       " '',\n",
       " '5. 귀하께서 버스를 이용하면서 평소 불편하다고 느끼는 사항과 노선개편을 통해 개선이 필요한 내용을 아래에 자유롭게 작성해 주시기 바랍니다.',\n",
       " '임동농협과 노대동 송화마을1단지까지 운행하는 노선 신설 건의합니다. 현재 95번은 배차 간격이 10~20분으로 그다지 짧은 간격은 아닌데다(이용시마다 실체감상 거의 20분 간격으로 배차된다고 느꼈음), 임동&gt;금남로&gt;학동&gt;방림동&gt;백운광장&gt;진월동 까지만 해도 거의 20개의 정류장을 경유하는데다, 교통흐름이 복잡하고 신호걸림이 잦은 금남로, 학동, 백운광장 구간을 통과하느라 교통혼잡 시간대가 아닌 평일 낮 시간대에도 편도 45분 이상이 소요되는 등 거리에 비해 경유장류장개수와 소요시간이 많아 이용시마다 불편함을 체감중입니다. 교통흐름과 신호가 복잡한 구간들을 거의 다 경유하는 95번 노선을 변경할 수 없다면, 차라리 임동 &gt; 농성동 &gt; 월산동 &gt; 백운광장 &gt; 진월동 &gt;노대동 방면으로 소요시간이 상대적으로 적은 노선을 신설했으면 합니다!!! 매번 편도 45분씩이나 걸리는 95번 뿐인데다, 다른 환승노선들도 전부 다 1시간 이상 소요되는 노선들뿐이라 정말로 불편함이 너무 큽니다~!!! 아까운 시간과 불편함을 조금이라도 단축할 수 있는 스마트한 노선의 빠른 신설을 기다립니다~!!!',\n",
       " '',\n",
       " '남구 진월동, 노대동에서 첨단 보훈병원까지 한번에 가는 직행 노선도 없을뿐더러, 전부가 환승 노선들 뿐인데 이마저도 환승대기시간까지 포함하면 전 노선들이 2시간이 넘게 걸립니다!!! 환승노선뿐인데다 2시간이 넘는 게 시외버스도 아니고 시내버스 맞나요?? 남구 사는 사람들은 보훈병원 버스 타고 못갑니다... 제발 환승 없이 한번에 40분내로 갈 수 있는 노선 운영 기다립니다~!!!',\n",
       " '',\n",
       " '카카오 로그인',\n",
       " '보OO2021-08-02 18:03',\n",
       " '구분',\n",
       " '노선',\n",
       " '',\n",
       " '1. 귀하의 성별은 어떻게 되십니까?',\n",
       " '남',\n",
       " '',\n",
       " '2. 귀하의 출생연도는 어떻게 되십니까?',\n",
       " '1984',\n",
       " '',\n",
       " '3. 귀하 거주 지역은 어떻게 되십니까?',\n",
       " '남구 주월동',\n",
       " '',\n",
       " '4. 귀하가 주로 이용하는 노선과 정류소는 어떻게 되십니까?',\n",
       " '수완03 백운광장역',\n",
       " '',\n",
       " '5. 귀하께서 버스를 이용하면서 평소 불편하다고 느끼는 사항과 노선개편을 통해 개선이 필요한 내용을 아래에 자유롭게 작성해 주시기 바랍니다.']"
      ]
     },
     "execution_count": 88,
     "metadata": {},
     "output_type": "execute_result"
    }
   ],
   "source": [
    "# 한 페이지내 글을 모두 담고 있는 id 요소 찾는다. \n",
    "post_lst = driver.find_element_by_id(\"MList\")\n",
    "\n",
    "# 텍스트만 추출한다. \n",
    "post_corpus = post_lst.text\n",
    "\n",
    "# 엔터키 기준으로 한줄씩 구분한다. \n",
    "sen_corpus = post_corpus.splitlines()\n",
    "sen_corpus[:40]"
   ]
  },
  {
   "cell_type": "code",
   "execution_count": 113,
   "metadata": {},
   "outputs": [
    {
     "name": "stdout",
     "output_type": "stream",
     "text": [
      "1번째 게시글의 index: 0\n",
      "2번째 게시글의 index: 22\n",
      "3번째 게시글의 index: 42\n",
      "4번째 게시글의 index: 65\n",
      "5번째 게시글의 index: 85\n",
      "6번째 게시글의 index: 106\n",
      "7번째 게시글의 index: 126\n",
      "8번째 게시글의 index: 146\n",
      "9번째 게시글의 index: 168\n",
      "10번째 게시글의 index: 191\n"
     ]
    }
   ],
   "source": [
    "# 가장 첫번째 글이 \"~ 로그인\"으로 시작되는 점을 활용해 게시글 구분\n",
    "post_sep = []\n",
    "cnt = 0 \n",
    "for idx in range(len(sen_corpus)):\n",
    "    if sen_corpus[idx].endswith(\" 로그인\") is True: \n",
    "        cnt += 1 \n",
    "        post_sep.append(idx)\n",
    "        print(f\"{cnt}번째 게시글의 index: {idx}\")"
   ]
  },
  {
   "cell_type": "code",
   "execution_count": 139,
   "metadata": {},
   "outputs": [
    {
     "name": "stdout",
     "output_type": "stream",
     "text": [
      "['네이버 로그인', '박OO2021-08-03 17:06', '구분', '노선', '', '1. 귀하의 성별은 어떻게 되십니까?', '여', '', '2. 귀하의 출생연도는 어떻게 되십니까?', '1980', '', '3. 귀하 거주 지역은 어떻게 되십니까?', '북구 임동', '', '4. 귀하가 주로 이용하는 노선과 정류소는 어떻게 되십니까?', '첨단 95 임동농협', '', '5. 귀하께서 버스를 이용하면서 평소 불편하다고 느끼는 사항과 노선개편을 통해 개선이 필요한 내용을 아래에 자유롭게 작성해 주시기 바랍니다.', '임동농협과 노대동 송화마을1단지까지 운행하는 노선 신설 건의합니다. 현재 95번은 배차 간격이 10~20분으로 그다지 짧은 간격은 아닌데다(이용시마다 실체감상 거의 20분 간격으로 배차된다고 느꼈음), 임동&gt;금남로&gt;학동&gt;방림동&gt;백운광장&gt;진월동 까지만 해도 거의 20개의 정류장을 경유하는데다, 교통흐름이 복잡하고 신호걸림이 잦은 금남로, 학동, 백운광장 구간을 통과하느라 교통혼잡 시간대가 아닌 평일 낮 시간대에도 편도 45분 이상이 소요되는 등 거리에 비해 경유장류장개수와 소요시간이 많아 이용시마다 불편함을 체감중입니다. 교통흐름과 신호가 복잡한 구간들을 거의 다 경유하는 95번 노선을 변경할 수 없다면, 차라리 임동 &gt; 농성동 &gt; 월산동 &gt; 백운광장 &gt; 진월동 &gt;노대동 방면으로 소요시간이 상대적으로 적은 노선을 신설했으면 합니다!!! 매번 편도 45분씩이나 걸리는 95번 뿐인데다, 다른 환승노선들도 전부 다 1시간 이상 소요되는 노선들뿐이라 정말로 불편함이 너무 큽니다~!!! 아까운 시간과 불편함을 조금이라도 단축할 수 있는 스마트한 노선의 빠른 신설을 기다립니다~!!!', '', '남구 진월동, 노대동에서 첨단 보훈병원까지 한번에 가는 직행 노선도 없을뿐더러, 전부가 환승 노선들 뿐인데 이마저도 환승대기시간까지 포함하면 전 노선들이 2시간이 넘게 걸립니다!!! 환승노선뿐인데다 2시간이 넘는 게 시외버스도 아니고 시내버스 맞나요?? 남구 사는 사람들은 보훈병원 버스 타고 못갑니다... 제발 환승 없이 한번에 40분내로 갈 수 있는 노선 운영 기다립니다~!!!', '']\n",
      "----------------------------------------------------------------------------------------------------\n",
      "['카카오 로그인', '보OO2021-08-02 18:03', '구분', '노선', '', '1. 귀하의 성별은 어떻게 되십니까?', '남', '', '2. 귀하의 출생연도는 어떻게 되십니까?', '1984', '', '3. 귀하 거주 지역은 어떻게 되십니까?', '남구 주월동', '', '4. 귀하가 주로 이용하는 노선과 정류소는 어떻게 되십니까?', '수완03 백운광장역', '', '5. 귀하께서 버스를 이용하면서 평소 불편하다고 느끼는 사항과 노선개편을 통해 개선이 필요한 내용을 아래에 자유롭게 작성해 주시기 바랍니다.', '백운광장역에 수완03 노선편입해주세요.', '']\n",
      "----------------------------------------------------------------------------------------------------\n",
      "['카카오 로그인', '귤OO2021-08-02 15:43', '구분', '노선, 정류소, 환승체계', '', '1. 귀하의 성별은 어떻게 되십니까?', '여', '', '2. 귀하의 출생연도는 어떻게 되십니까?', '2000', '', '3. 귀하 거주 지역은 어떻게 되십니까?', '광산구 장덕동', '', '4. 귀하가 주로 이용하는 노선과 정류소는 어떻게 되십니까?', '03/현진1차~조선대,49/장덕마을~학동평화맨션,72/장덕마을~경신여고', '', '5. 귀하께서 버스를 이용하면서 평소 불편하다고 느끼는 사항과 노선개편을 통해 개선이 필요한 내용을 아래에 자유롭게 작성해 주시기 바랍니다.', '03번 종점이 바뀌어서 너무 불편함. 조대까지 한번에 갈 수 있는 유일한 수완지구 버슨데', '첨단으로 종점을 바뀌고 첨단에서 사람들 다 타서 우미린2차 정류장에서 타도 서서1시간을 가야함. 03 버스 바꾸당했던 적도 많음.', '다시 03번 정류장 수완지구로 옮겼으면 좋겠음.', '첨단은 27번 대학교 다 들리는 버스 원래 있기라도 했지 수완지구는 한번에 다 가는 버스 유일하게 03임.제발 잘 반영부탁바람', '']\n",
      "----------------------------------------------------------------------------------------------------\n",
      "['카카오 로그인', '성OO2021-08-02 14:23', '구분', '노선', '', '1. 귀하의 성별은 어떻게 되십니까?', '남', '', '2. 귀하의 출생연도는 어떻게 되십니까?', '2002', '', '3. 귀하 거주 지역은 어떻게 되십니까?', '북구 용봉동', '', '4. 귀하가 주로 이용하는 노선과 정류소는 어떻게 되십니까?', '정류소 : 비엔날레 입구, 비엔날레 정류소', '', '5. 귀하께서 버스를 이용하면서 평소 불편하다고 느끼는 사항과 노선개편을 통해 개선이 필요한 내용을 아래에 자유롭게 작성해 주시기 바랍니다.', '비엔날레 입구에 사는 학생입니다. 비엔날레 입구에는 아시다 싶이 배차 간격이 매우 긴 &apos;지선 버스&apos; (초록색 버스) &apos;만&apos; 다니고 있는 상황입니다. 그렇기 때문에 대중 교통을 이용할 때 20분 거리의 경신여고 사거리까지 걸어가서 타는 경우가 대다수입니다. 비엔날레 입구, 비엔날레 전시관 정류장에 지선 버스 뿐만 아닌 &apos;간선버스&apos;와 &apos;직행버스&apos;도 많이 다녔으면 하는 바람입니다.', '']\n",
      "----------------------------------------------------------------------------------------------------\n",
      "['네이버 로그인', '고OO2021-08-02 09:25', '구분', '노선', '', '1. 귀하의 성별은 어떻게 되십니까?', '여', '', '2. 귀하의 출생연도는 어떻게 되십니까?', '1990', '', '3. 귀하 거주 지역은 어떻게 되십니까?', '남구 주월동', '', '4. 귀하가 주로 이용하는 노선과 정류소는 어떻게 되십니까?', '수완03,진월07', '', '5. 귀하께서 버스를 이용하면서 평소 불편하다고 느끼는 사항과 노선개편을 통해 개선이 필요한 내용을 아래에 자유롭게 작성해 주시기 바랍니다.', '백운광장 정류장에', '수완03,진월07 버스 정차를 요청합니다.', '']\n",
      "----------------------------------------------------------------------------------------------------\n",
      "['네이버 로그인', '이OO2021-08-02 08:17', '구분', '노선, 정류소, 환승체계, 기타', '', '1. 귀하의 성별은 어떻게 되십니까?', '여', '', '2. 귀하의 출생연도는 어떻게 되십니까?', '1988', '', '3. 귀하 거주 지역은 어떻게 되십니까?', '남구 주월동', '', '4. 귀하가 주로 이용하는 노선과 정류소는 어떻게 되십니까?', '수완03.진월07', '', '5. 귀하께서 버스를 이용하면서 평소 불편하다고 느끼는 사항과 노선개편을 통해 개선이 필요한 내용을 아래에 자유롭게 작성해 주시기 바랍니다.', '백운광장정류장에 수완03과 진월 07이 정차하였으면 좋겠습니다', '']\n",
      "----------------------------------------------------------------------------------------------------\n",
      "['네이버 로그인', '장OO2021-08-01 21:43', '구분', '노선, 정류소', '', '1. 귀하의 성별은 어떻게 되십니까?', '여', '', '2. 귀하의 출생연도는 어떻게 되십니까?', '1987', '', '3. 귀하 거주 지역은 어떻게 되십니까?', '남구 주월동', '', '4. 귀하가 주로 이용하는 노선과 정류소는 어떻게 되십니까?', '수완03, 진월07', '', '5. 귀하께서 버스를 이용하면서 평소 불편하다고 느끼는 사항과 노선개편을 통해 개선이 필요한 내용을 아래에 자유롭게 작성해 주시기 바랍니다.', '백운광장 정류소에 수완03과 진월07는 정차하지 않아서 불편합니다.', '']\n",
      "----------------------------------------------------------------------------------------------------\n",
      "['카카오 로그인', '희OO2021-08-01 20:02', '구분', '노선, 정류소', '', '1. 귀하의 성별은 어떻게 되십니까?', '남', '', '2. 귀하의 출생연도는 어떻게 되십니까?', '1981', '', '3. 귀하 거주 지역은 어떻게 되십니까?', '남구 주월동', '', '4. 귀하가 주로 이용하는 노선과 정류소는 어떻게 되십니까?', '03, 07 백운광장', '', '5. 귀하께서 버스를 이용하면서 평소 불편하다고 느끼는 사항과 노선개편을 통해 개선이 필요한 내용을 아래에 자유롭게 작성해 주시기 바랍니다.', '주월동 골드클래스아파트 앞쪽 정류장과', '건너편 정류장 모두 03,07번 순환버스들이 정차하지 않아 학생들과 직장인들이 통학하는데 많이 불편합니다.', '더불어 지하철 2호선 남구청역과 환승을 위해서는 꼭 필요합니다', '']\n",
      "----------------------------------------------------------------------------------------------------\n",
      "['네이버 로그인', '백OO2021-08-01 17:57', '구분', '정류소', '', '1. 귀하의 성별은 어떻게 되십니까?', '여', '', '2. 귀하의 출생연도는 어떻게 되십니까?', '19631021', '', '3. 귀하 거주 지역은 어떻게 되십니까?', '남구주월동', '', '4. 귀하가 주로 이용하는 노선과 정류소는 어떻게 되십니까?', '순환3번', '', '5. 귀하께서 버스를 이용하면서 평소 불편하다고 느끼는 사항과 노선개편을 통해 개선이 필요한 내용을 아래에 자유롭게 작성해 주시기 바랍니다.', '백운광장 정류소에 3번 버스가 정차하지 않아 매우 불편합니다', '버스를 2번이나 환승해야하고 10군정도 걸어서 타야ㅅ내요', '넘 불편하고 출퇴근시간소요가 많아요', '정류소 정ㅈ다를 모청하오니 수렴 해 주시기 바랍니다', '']\n",
      "----------------------------------------------------------------------------------------------------\n",
      "10개의 게시글\n"
     ]
    }
   ],
   "source": [
    "# 게시글 구분하여 저장 \n",
    "posts = []\n",
    "for idx in range(1, len(post_sep)):\n",
    "    print(sen_corpus[post_sep[idx-1]:post_sep[idx]])\n",
    "    print(\"-\"*100)\n",
    "    posts.append(sen_corpus[post_sep[idx-1]:post_sep[idx]])\n",
    "    \n",
    "    # 마지막 게시글은 끝까지 읽기\n",
    "    if idx == len(post_sep)-1:\n",
    "        posts.append(sen_corpus[post_sep[idx]:])    \n",
    "print(f\"{len(posts)}개의 게시글\")"
   ]
  },
  {
   "cell_type": "code",
   "execution_count": 170,
   "metadata": {},
   "outputs": [],
   "source": [
    "# 각 게시글의 질문 답변을 뽑아낸다. \n",
    "category = []\n",
    "gender = []\n",
    "birth = []\n",
    "address = []\n",
    "often_use = []\n",
    "opinion = []\n",
    "\n",
    "for post in posts:\n",
    "    for idx in range(len(post)):\n",
    "        if post[idx].startswith(\"구분\") is True:\n",
    "            category.append(post[idx+1])\n",
    "        elif post[idx].startswith(\"1. 귀하의 성별\") is True:\n",
    "            gender.append(post[idx+1])\n",
    "        elif post[idx].startswith(\"2. 귀하의 출생연도\") is True:\n",
    "            birth.append(post[idx+1])\n",
    "        elif post[idx].startswith(\"3. 귀하 거주 지역\") is True:\n",
    "            address.append(post[idx+1])\n",
    "        elif post[idx].startswith(\"4. 귀하가 주로 이용하는 노선과 정류소\") is True:\n",
    "            often_use.append(post[idx+1])\n",
    "        elif post[idx].startswith(\"5. 귀하께서 버스를 이용하면서 평소 불편하다고 느끼는 사항과 노선개편\") is True:\n",
    "            opinion.append(post[idx+1:])"
   ]
  },
  {
   "cell_type": "code",
   "execution_count": 171,
   "metadata": {},
   "outputs": [
    {
     "data": {
      "text/plain": [
       "['임동농협과 노대동 송화마을1단지까지 운행하는 노선 신설 건의합니다. 현재 95번은 배차 간격이 10~20분으로 그다지 짧은 간격은 아닌데다(이용시마다 실체감상 거의 20분 간격으로 배차된다고 느꼈음), 임동&gt;금남로&gt;학동&gt;방림동&gt;백운광장&gt;진월동 까지만 해도 거의 20개의 정류장을 경유하는데다, 교통흐름이 복잡하고 신호걸림이 잦은 금남로, 학동, 백운광장 구간을 통과하느라 교통혼잡 시간대가 아닌 평일 낮 시간대에도 편도 45분 이상이 소요되는 등 거리에 비해 경유장류장개수와 소요시간이 많아 이용시마다 불편함을 체감중입니다. 교통흐름과 신호가 복잡한 구간들을 거의 다 경유하는 95번 노선을 변경할 수 없다면, 차라리 임동 &gt; 농성동 &gt; 월산동 &gt; 백운광장 &gt; 진월동 &gt;노대동 방면으로 소요시간이 상대적으로 적은 노선을 신설했으면 합니다!!! 매번 편도 45분씩이나 걸리는 95번 뿐인데다, 다른 환승노선들도 전부 다 1시간 이상 소요되는 노선들뿐이라 정말로 불편함이 너무 큽니다~!!! 아까운 시간과 불편함을 조금이라도 단축할 수 있는 스마트한 노선의 빠른 신설을 기다립니다~!!!',\n",
       " '',\n",
       " '남구 진월동, 노대동에서 첨단 보훈병원까지 한번에 가는 직행 노선도 없을뿐더러, 전부가 환승 노선들 뿐인데 이마저도 환승대기시간까지 포함하면 전 노선들이 2시간이 넘게 걸립니다!!! 환승노선뿐인데다 2시간이 넘는 게 시외버스도 아니고 시내버스 맞나요?? 남구 사는 사람들은 보훈병원 버스 타고 못갑니다... 제발 환승 없이 한번에 40분내로 갈 수 있는 노선 운영 기다립니다~!!!',\n",
       " '']"
      ]
     },
     "execution_count": 171,
     "metadata": {},
     "output_type": "execute_result"
    }
   ],
   "source": [
    "opinion[0]"
   ]
  },
  {
   "cell_type": "code",
   "execution_count": 172,
   "metadata": {},
   "outputs": [
    {
     "data": {
      "text/plain": [
       "['임동농협과 노대동 송화마을1단지까지 운행하는 노선 신설 건의합니다. 현재 95번은 배차 간격이 10~20분으로 그다지 짧은 간격은 아닌데다(이용시마다 실체감상 거의 20분 간격으로 배차된다고 느꼈음), 임동&gt;금남로&gt;학동&gt;방림동&gt;백운광장&gt;진월동 까지만 해도 거의 20개의 정류장을 경유하는데다, 교통흐름이 복잡하고 신호걸림이 잦은 금남로, 학동, 백운광장 구간을 통과하느라 교통혼잡 시간대가 아닌 평일 낮 시간대에도 편도 45분 이상이 소요되는 등 거리에 비해 경유장류장개수와 소요시간이 많아 이용시마다 불편함을 체감중입니다. 교통흐름과 신호가 복잡한 구간들을 거의 다 경유하는 95번 노선을 변경할 수 없다면, 차라리 임동 &gt; 농성동 &gt; 월산동 &gt; 백운광장 &gt; 진월동 &gt;노대동 방면으로 소요시간이 상대적으로 적은 노선을 신설했으면 합니다!!! 매번 편도 45분씩이나 걸리는 95번 뿐인데다, 다른 환승노선들도 전부 다 1시간 이상 소요되는 노선들뿐이라 정말로 불편함이 너무 큽니다~!!! 아까운 시간과 불편함을 조금이라도 단축할 수 있는 스마트한 노선의 빠른 신설을 기다립니다~!!!남구 진월동, 노대동에서 첨단 보훈병원까지 한번에 가는 직행 노선도 없을뿐더러, 전부가 환승 노선들 뿐인데 이마저도 환승대기시간까지 포함하면 전 노선들이 2시간이 넘게 걸립니다!!! 환승노선뿐인데다 2시간이 넘는 게 시외버스도 아니고 시내버스 맞나요?? 남구 사는 사람들은 보훈병원 버스 타고 못갑니다... 제발 환승 없이 한번에 40분내로 갈 수 있는 노선 운영 기다립니다~!!!',\n",
       " '백운광장역에 수완03 노선편입해주세요.',\n",
       " '03번 종점이 바뀌어서 너무 불편함. 조대까지 한번에 갈 수 있는 유일한 수완지구 버슨데첨단으로 종점을 바뀌고 첨단에서 사람들 다 타서 우미린2차 정류장에서 타도 서서1시간을 가야함. 03 버스 바꾸당했던 적도 많음.다시 03번 정류장 수완지구로 옮겼으면 좋겠음.첨단은 27번 대학교 다 들리는 버스 원래 있기라도 했지 수완지구는 한번에 다 가는 버스 유일하게 03임.제발 잘 반영부탁바람',\n",
       " '비엔날레 입구에 사는 학생입니다. 비엔날레 입구에는 아시다 싶이 배차 간격이 매우 긴 &apos;지선 버스&apos; (초록색 버스) &apos;만&apos; 다니고 있는 상황입니다. 그렇기 때문에 대중 교통을 이용할 때 20분 거리의 경신여고 사거리까지 걸어가서 타는 경우가 대다수입니다. 비엔날레 입구, 비엔날레 전시관 정류장에 지선 버스 뿐만 아닌 &apos;간선버스&apos;와 &apos;직행버스&apos;도 많이 다녔으면 하는 바람입니다.',\n",
       " '백운광장 정류장에수완03,진월07 버스 정차를 요청합니다.',\n",
       " '백운광장정류장에 수완03과 진월 07이 정차하였으면 좋겠습니다',\n",
       " '백운광장 정류소에 수완03과 진월07는 정차하지 않아서 불편합니다.',\n",
       " '주월동 골드클래스아파트 앞쪽 정류장과건너편 정류장 모두 03,07번 순환버스들이 정차하지 않아 학생들과 직장인들이 통학하는데 많이 불편합니다.더불어 지하철 2호선 남구청역과 환승을 위해서는 꼭 필요합니다',\n",
       " '백운광장 정류소에 3번 버스가 정차하지 않아 매우 불편합니다버스를 2번이나 환승해야하고 10군정도 걸어서 타야ㅅ내요넘 불편하고 출퇴근시간소요가 많아요정류소 정ㅈ다를 모청하오니 수렴 해 주시기 바랍니다',\n",
       " '지하철2호선 환승편의를 위해 백운광장 정류장신설이 꼭 필요합니다']"
      ]
     },
     "execution_count": 172,
     "metadata": {},
     "output_type": "execute_result"
    }
   ],
   "source": [
    "opinion = [\"\".join(opinion[idx]) for idx in range(len(opinion))]\n",
    "opinion"
   ]
  },
  {
   "cell_type": "code",
   "execution_count": 175,
   "metadata": {},
   "outputs": [
    {
     "name": "stdout",
     "output_type": "stream",
     "text": [
      "10\n"
     ]
    }
   ],
   "source": [
    "print(len(opinion))"
   ]
  },
  {
   "cell_type": "code",
   "execution_count": 176,
   "metadata": {},
   "outputs": [
    {
     "data": {
      "text/html": [
       "<div>\n",
       "<style scoped>\n",
       "    .dataframe tbody tr th:only-of-type {\n",
       "        vertical-align: middle;\n",
       "    }\n",
       "\n",
       "    .dataframe tbody tr th {\n",
       "        vertical-align: top;\n",
       "    }\n",
       "\n",
       "    .dataframe thead th {\n",
       "        text-align: right;\n",
       "    }\n",
       "</style>\n",
       "<table border=\"1\" class=\"dataframe\">\n",
       "  <thead>\n",
       "    <tr style=\"text-align: right;\">\n",
       "      <th></th>\n",
       "      <th>구분</th>\n",
       "      <th>성별</th>\n",
       "      <th>출생연도</th>\n",
       "      <th>거주지</th>\n",
       "      <th>노선과 정류소</th>\n",
       "      <th>불만사항</th>\n",
       "    </tr>\n",
       "  </thead>\n",
       "  <tbody>\n",
       "    <tr>\n",
       "      <th>0</th>\n",
       "      <td>노선</td>\n",
       "      <td>여</td>\n",
       "      <td>1980</td>\n",
       "      <td>북구 임동</td>\n",
       "      <td>첨단 95 임동농협</td>\n",
       "      <td>임동농협과 노대동 송화마을1단지까지 운행하는 노선 신설 건의합니다. 현재 95번은 ...</td>\n",
       "    </tr>\n",
       "    <tr>\n",
       "      <th>1</th>\n",
       "      <td>노선</td>\n",
       "      <td>남</td>\n",
       "      <td>1984</td>\n",
       "      <td>남구 주월동</td>\n",
       "      <td>수완03 백운광장역</td>\n",
       "      <td>백운광장역에 수완03 노선편입해주세요.</td>\n",
       "    </tr>\n",
       "    <tr>\n",
       "      <th>2</th>\n",
       "      <td>노선, 정류소, 환승체계</td>\n",
       "      <td>여</td>\n",
       "      <td>2000</td>\n",
       "      <td>광산구 장덕동</td>\n",
       "      <td>03/현진1차~조선대,49/장덕마을~학동평화맨션,72/장덕마을~경신여고</td>\n",
       "      <td>03번 종점이 바뀌어서 너무 불편함. 조대까지 한번에 갈 수 있는 유일한 수완지구 ...</td>\n",
       "    </tr>\n",
       "    <tr>\n",
       "      <th>3</th>\n",
       "      <td>노선</td>\n",
       "      <td>남</td>\n",
       "      <td>2002</td>\n",
       "      <td>북구 용봉동</td>\n",
       "      <td>정류소 : 비엔날레 입구, 비엔날레 정류소</td>\n",
       "      <td>비엔날레 입구에 사는 학생입니다. 비엔날레 입구에는 아시다 싶이 배차 간격이 매우 ...</td>\n",
       "    </tr>\n",
       "    <tr>\n",
       "      <th>4</th>\n",
       "      <td>노선</td>\n",
       "      <td>여</td>\n",
       "      <td>1990</td>\n",
       "      <td>남구 주월동</td>\n",
       "      <td>수완03,진월07</td>\n",
       "      <td>백운광장 정류장에수완03,진월07 버스 정차를 요청합니다.</td>\n",
       "    </tr>\n",
       "  </tbody>\n",
       "</table>\n",
       "</div>"
      ],
      "text/plain": [
       "              구분 성별  출생연도      거주지                                  노선과 정류소  \\\n",
       "0             노선  여  1980    북구 임동                               첨단 95 임동농협   \n",
       "1             노선  남  1984   남구 주월동                               수완03 백운광장역   \n",
       "2  노선, 정류소, 환승체계  여  2000  광산구 장덕동  03/현진1차~조선대,49/장덕마을~학동평화맨션,72/장덕마을~경신여고   \n",
       "3             노선  남  2002   북구 용봉동                  정류소 : 비엔날레 입구, 비엔날레 정류소   \n",
       "4             노선  여  1990   남구 주월동                                수완03,진월07   \n",
       "\n",
       "                                                불만사항  \n",
       "0  임동농협과 노대동 송화마을1단지까지 운행하는 노선 신설 건의합니다. 현재 95번은 ...  \n",
       "1                              백운광장역에 수완03 노선편입해주세요.  \n",
       "2  03번 종점이 바뀌어서 너무 불편함. 조대까지 한번에 갈 수 있는 유일한 수완지구 ...  \n",
       "3  비엔날레 입구에 사는 학생입니다. 비엔날레 입구에는 아시다 싶이 배차 간격이 매우 ...  \n",
       "4                   백운광장 정류장에수완03,진월07 버스 정차를 요청합니다.  "
      ]
     },
     "execution_count": 176,
     "metadata": {},
     "output_type": "execute_result"
    }
   ],
   "source": [
    "# 각 리스트를 데이터프레임으로 저장 \n",
    "minwon_df = pd.DataFrame(data = list(zip(category, gender, birth, address, often_use, opinion))\n",
    "                         , columns = ['구분', '성별', '출생연도', '거주지', '노선과 정류소', '불만사항'])\n",
    "minwon_df.head()"
   ]
  },
  {
   "attachments": {
    "image.png": {
     "image/png": "[encoded data removed]"
    }
   },
   "cell_type": "markdown",
   "metadata": {},
   "source": [
    "## 페이지 넘기기\n",
    "![image.png](attachment:image.png)    \n",
    "xpath: \"//*[@id=\"comtPage\"]/div/ul/li[2]/a\""
   ]
  },
  {
   "cell_type": "code",
   "execution_count": 143,
   "metadata": {},
   "outputs": [],
   "source": [
    "# 페이지 번호 넘기기\n",
    "# 유의사항: 큰 따옴표 안에 따옴표는 작은 따옴표로 바꿔줘야함\n",
    "driver.find_element_by_xpath(\"//*[@id='comtPage']/div/ul/li[1]/a\").click() # 2페이지로 이동 => 숫자부분만 원하는 페이지 번호를 넣어주면 됨. \n",
    "time.sleep(0.1)"
   ]
  },
  {
   "cell_type": "markdown",
   "metadata": {},
   "source": [
    "## 위의 과정을 합쳐서 전체 게시글을 읽어오기 feat.반복문 활용\n",
    "1. 페이지내의 게시글을 읽는다. (각 페이지에는 10개의 게시글이 존재한다.)\n",
    "2. 페이지 번호를 넘긴다.  \n",
    "3. 1, 2, 3, 4, 5일 때 전체 페이지가 6, 7, 8, 9, 10으로 바뀌기 때문에 5개가 됐을 때, \">\"으로 가는 버튼을 클릭한다. \n",
    "4. 마지막 번호에서 +1씩 해주면서 다음 번호로 넘어간다. (마지막 번호값 초기엔: 0)"
   ]
  },
  {
   "cell_type": "code",
   "execution_count": null,
   "metadata": {},
   "outputs": [],
   "source": []
  }
 ],
 "metadata": {
  "kernelspec": {
   "display_name": "Python 3",
   "language": "python",
   "name": "python3"
  },
  "language_info": {
   "codemirror_mode": {
    "name": "ipython",
    "version": 3
   },
   "file_extension": ".py",
   "mimetype": "text/x-python",
   "name": "python",
   "nbconvert_exporter": "python",
   "pygments_lexer": "ipython3",
   "version": "3.8.5"
  },
  "toc": {
   "base_numbering": 1,
   "nav_menu": {},
   "number_sections": true,
   "sideBar": true,
   "skip_h1_title": false,
   "title_cell": "Table of Contents",
   "title_sidebar": "Contents",
   "toc_cell": false,
   "toc_position": {},
   "toc_section_display": true,
   "toc_window_display": false
  }
 },
 "nbformat": 4,
 "nbformat_minor": 5
}
