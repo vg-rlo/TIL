{
  "nbformat": 4,
  "nbformat_minor": 0,
  "metadata": {
    "colab": {
      "name": "Programmers_pythonic.ipynb",
      "provenance": [],
      "collapsed_sections": [],
      "authorship_tag": "ABX9TyPPAjy077ACdYU4kB8pBSO4",
      "include_colab_link": true
    },
    "kernelspec": {
      "name": "python3",
      "display_name": "Python 3"
    },
    "language_info": {
      "name": "python"
    }
  },
  "cells": [
    {
      "cell_type": "markdown",
      "metadata": {
        "id": "view-in-github",
        "colab_type": "text"
      },
      "source": [
        "<a href=\"https://colab.research.google.com/github/vg-rlo/TIL/blob/master/Programmers_pythonic.ipynb\" target=\"_parent\"><img src=\"https://colab.research.google.com/assets/colab-badge.svg\" alt=\"Open In Colab\"/></a>"
      ]
    },
    {
      "cell_type": "code",
      "metadata": {
        "colab": {
          "base_uri": "https://localhost:8080/"
        },
        "id": "bY8OP20cNwCM",
        "outputId": "9f465f77-0ac8-4486-9540-64d5a58d32dc"
      },
      "source": [
        "!pip install ipython-autotime\n",
        "%load_ext autotime"
      ],
      "execution_count": null,
      "outputs": [
        {
          "output_type": "stream",
          "text": [
            "Collecting ipython-autotime\n",
            "  Downloading https://files.pythonhosted.org/packages/b4/c9/b413a24f759641bc27ef98c144b590023c8038dfb8a3f09e713e9dff12c1/ipython_autotime-0.3.1-py2.py3-none-any.whl\n",
            "Requirement already satisfied: ipython in /usr/local/lib/python3.7/dist-packages (from ipython-autotime) (5.5.0)\n",
            "Requirement already satisfied: pygments in /usr/local/lib/python3.7/dist-packages (from ipython->ipython-autotime) (2.6.1)\n",
            "Requirement already satisfied: pexpect; sys_platform != \"win32\" in /usr/local/lib/python3.7/dist-packages (from ipython->ipython-autotime) (4.8.0)\n",
            "Requirement already satisfied: pickleshare in /usr/local/lib/python3.7/dist-packages (from ipython->ipython-autotime) (0.7.5)\n",
            "Requirement already satisfied: setuptools>=18.5 in /usr/local/lib/python3.7/dist-packages (from ipython->ipython-autotime) (56.0.0)\n",
            "Requirement already satisfied: traitlets>=4.2 in /usr/local/lib/python3.7/dist-packages (from ipython->ipython-autotime) (5.0.5)\n",
            "Requirement already satisfied: decorator in /usr/local/lib/python3.7/dist-packages (from ipython->ipython-autotime) (4.4.2)\n",
            "Requirement already satisfied: simplegeneric>0.8 in /usr/local/lib/python3.7/dist-packages (from ipython->ipython-autotime) (0.8.1)\n",
            "Requirement already satisfied: prompt-toolkit<2.0.0,>=1.0.4 in /usr/local/lib/python3.7/dist-packages (from ipython->ipython-autotime) (1.0.18)\n",
            "Requirement already satisfied: ptyprocess>=0.5 in /usr/local/lib/python3.7/dist-packages (from pexpect; sys_platform != \"win32\"->ipython->ipython-autotime) (0.7.0)\n",
            "Requirement already satisfied: ipython-genutils in /usr/local/lib/python3.7/dist-packages (from traitlets>=4.2->ipython->ipython-autotime) (0.2.0)\n",
            "Requirement already satisfied: six>=1.9.0 in /usr/local/lib/python3.7/dist-packages (from prompt-toolkit<2.0.0,>=1.0.4->ipython->ipython-autotime) (1.15.0)\n",
            "Requirement already satisfied: wcwidth in /usr/local/lib/python3.7/dist-packages (from prompt-toolkit<2.0.0,>=1.0.4->ipython->ipython-autotime) (0.2.5)\n",
            "Installing collected packages: ipython-autotime\n",
            "Successfully installed ipython-autotime-0.3.1\n",
            "time: 148 µs (started: 2021-05-07 07:25:03 +00:00)\n"
          ],
          "name": "stdout"
        }
      ]
    },
    {
      "cell_type": "code",
      "metadata": {
        "colab": {
          "base_uri": "https://localhost:8080/"
        },
        "id": "Vw0xr0TGNRUj",
        "outputId": "681d1f10-ee45-4169-f31a-d75ecd555e22"
      },
      "source": [
        "# 몫과 나머지\n",
        "a = 70000000000000000000000000\n",
        "b = 50000000000000\n",
        "print(a//b, a%b)"
      ],
      "execution_count": null,
      "outputs": [
        {
          "output_type": "stream",
          "text": [
            "1400000000000 0\n",
            "time: 6.33 ms (started: 2021-05-04 07:11:25 +00:00)\n"
          ],
          "name": "stdout"
        }
      ]
    },
    {
      "cell_type": "code",
      "metadata": {
        "colab": {
          "base_uri": "https://localhost:8080/"
        },
        "id": "SqNv1o7fNenz",
        "outputId": "07011456-bb6b-418b-c524-afbadda2ae0a"
      },
      "source": [
        "# 몫과 나머지\n",
        "a = 70000000000000000000000000\n",
        "b = 50000000000000\n",
        "print(*divmod(a,b))"
      ],
      "execution_count": null,
      "outputs": [
        {
          "output_type": "stream",
          "text": [
            "1400000000000 0\n",
            "time: 4.54 ms (started: 2021-05-04 07:11:26 +00:00)\n"
          ],
          "name": "stdout"
        }
      ]
    },
    {
      "cell_type": "code",
      "metadata": {
        "colab": {
          "base_uri": "https://localhost:8080/"
        },
        "id": "TPDl6PBbNwnO",
        "outputId": "38e44e63-9031-4d3e-b380-c2b63ef48d3c"
      },
      "source": [
        "# 몫과 나머지\n",
        "a = 100\n",
        "b = 5\n",
        "print(a//b, a%b)"
      ],
      "execution_count": null,
      "outputs": [
        {
          "output_type": "stream",
          "text": [
            "20 0\n",
            "time: 2.01 ms (started: 2021-05-04 07:21:07 +00:00)\n"
          ],
          "name": "stdout"
        }
      ]
    },
    {
      "cell_type": "code",
      "metadata": {
        "colab": {
          "base_uri": "https://localhost:8080/"
        },
        "id": "MHuT6JAbN-oU",
        "outputId": "bdda2f89-dda1-4a2c-d106-f622e80a6c0b"
      },
      "source": [
        "# 몫과 나머지\n",
        "a = 100\n",
        "b = 5\n",
        "print(*divmod(a,b))"
      ],
      "execution_count": null,
      "outputs": [
        {
          "output_type": "stream",
          "text": [
            "20 0\n",
            "time: 3.81 ms (started: 2021-05-04 07:21:08 +00:00)\n"
          ],
          "name": "stdout"
        }
      ]
    },
    {
      "cell_type": "code",
      "metadata": {
        "colab": {
          "base_uri": "https://localhost:8080/",
          "height": 231
        },
        "id": "7dnS_Gi6UKCB",
        "outputId": "917c3e60-3549-49b8-93bc-6cdb9155a708"
      },
      "source": [
        "num_lst = []\n",
        "num = 21324\n",
        "for i in str(num):\n",
        "  num_lst.append(int(i))\n",
        "result = \"\".join(num_lst)\n",
        "print(int(result))"
      ],
      "execution_count": null,
      "outputs": [
        {
          "output_type": "error",
          "ename": "TypeError",
          "evalue": "ignored",
          "traceback": [
            "\u001b[0;31m---------------------------------------------------------------------------\u001b[0m",
            "\u001b[0;31mTypeError\u001b[0m                                 Traceback (most recent call last)",
            "\u001b[0;32m<ipython-input-48-aa67b4292dd0>\u001b[0m in \u001b[0;36m<module>\u001b[0;34m()\u001b[0m\n\u001b[1;32m      3\u001b[0m \u001b[0;32mfor\u001b[0m \u001b[0mi\u001b[0m \u001b[0;32min\u001b[0m \u001b[0mstr\u001b[0m\u001b[0;34m(\u001b[0m\u001b[0mnum\u001b[0m\u001b[0;34m)\u001b[0m\u001b[0;34m:\u001b[0m\u001b[0;34m\u001b[0m\u001b[0;34m\u001b[0m\u001b[0m\n\u001b[1;32m      4\u001b[0m   \u001b[0mnum_lst\u001b[0m\u001b[0;34m.\u001b[0m\u001b[0mappend\u001b[0m\u001b[0;34m(\u001b[0m\u001b[0mint\u001b[0m\u001b[0;34m(\u001b[0m\u001b[0mi\u001b[0m\u001b[0;34m)\u001b[0m\u001b[0;34m)\u001b[0m\u001b[0;34m\u001b[0m\u001b[0;34m\u001b[0m\u001b[0m\n\u001b[0;32m----> 5\u001b[0;31m \u001b[0mresult\u001b[0m \u001b[0;34m=\u001b[0m \u001b[0;34m\"\"\u001b[0m\u001b[0;34m.\u001b[0m\u001b[0mjoin\u001b[0m\u001b[0;34m(\u001b[0m\u001b[0mnum_lst\u001b[0m\u001b[0;34m)\u001b[0m\u001b[0;34m\u001b[0m\u001b[0;34m\u001b[0m\u001b[0m\n\u001b[0m\u001b[1;32m      6\u001b[0m \u001b[0mprint\u001b[0m\u001b[0;34m(\u001b[0m\u001b[0mint\u001b[0m\u001b[0;34m(\u001b[0m\u001b[0mresult\u001b[0m\u001b[0;34m)\u001b[0m\u001b[0;34m)\u001b[0m\u001b[0;34m\u001b[0m\u001b[0;34m\u001b[0m\u001b[0m\n",
            "\u001b[0;31mTypeError\u001b[0m: sequence item 0: expected str instance, int found"
          ]
        },
        {
          "output_type": "stream",
          "text": [
            "time: 13.7 ms (started: 2021-05-04 07:48:36 +00:00)\n"
          ],
          "name": "stdout"
        }
      ]
    },
    {
      "cell_type": "code",
      "metadata": {
        "colab": {
          "base_uri": "https://localhost:8080/"
        },
        "id": "yy0SdDLZOxZV",
        "outputId": "e0ff5e14-d98e-4118-8ce8-867e26d7bfeb"
      },
      "source": [
        "# n진법으로 표기된 string을 10진법 숫자로 변환하기\n",
        "# 내장함수 사용\n",
        "# n진수 -> 10진수 \n",
        "num, base = map(int, input().strip().split(' '))\n",
        "\n",
        "print(int(str(num), base))"
      ],
      "execution_count": null,
      "outputs": [
        {
          "output_type": "stream",
          "text": [
            "2443 5\n",
            "373\n",
            "time: 4.98 s (started: 2021-05-04 07:55:09 +00:00)\n"
          ],
          "name": "stdout"
        }
      ]
    },
    {
      "cell_type": "markdown",
      "metadata": {
        "id": "aXlCezgZYn87"
      },
      "source": [
        "https://security-nanglam.tistory.com/508\n",
        "https://codeup.kr/problemsetsol.php?psid=33"
      ]
    },
    {
      "cell_type": "code",
      "metadata": {
        "colab": {
          "base_uri": "https://localhost:8080/"
        },
        "id": "4DLg0mK_ZED2",
        "outputId": "4d468451-4b25-496f-f0f2-f8fe453ab593"
      },
      "source": [
        "s, n = input().strip().split(' ')\n",
        "n = int(n)"
      ],
      "execution_count": null,
      "outputs": [
        {
          "output_type": "stream",
          "text": [
            "abc 7\n",
            "time: 7.37 s (started: 2021-05-04 08:00:16 +00:00)\n"
          ],
          "name": "stdout"
        }
      ]
    },
    {
      "cell_type": "code",
      "metadata": {
        "colab": {
          "base_uri": "https://localhost:8080/"
        },
        "id": "8NGF9Wq4Zbq7",
        "outputId": "4da0859b-e492-4032-a6ad-27e4b507f26f"
      },
      "source": [
        "len(\"   \")"
      ],
      "execution_count": null,
      "outputs": [
        {
          "output_type": "execute_result",
          "data": {
            "text/plain": [
              "3"
            ]
          },
          "metadata": {
            "tags": []
          },
          "execution_count": 73
        },
        {
          "output_type": "stream",
          "text": [
            "time: 4.97 ms (started: 2021-05-04 08:08:40 +00:00)\n"
          ],
          "name": "stdout"
        }
      ]
    },
    {
      "cell_type": "code",
      "metadata": {
        "colab": {
          "base_uri": "https://localhost:8080/"
        },
        "id": "MnGpIUiaZ61X",
        "outputId": "6d5cda49-31c5-49e2-db59-45abce5f23eb"
      },
      "source": [
        "len(\" \"*5)"
      ],
      "execution_count": null,
      "outputs": [
        {
          "output_type": "execute_result",
          "data": {
            "text/plain": [
              "5"
            ]
          },
          "metadata": {
            "tags": []
          },
          "execution_count": 68
        },
        {
          "output_type": "stream",
          "text": [
            "time: 8.18 ms (started: 2021-05-04 08:06:35 +00:00)\n"
          ],
          "name": "stdout"
        }
      ]
    },
    {
      "cell_type": "code",
      "metadata": {
        "colab": {
          "base_uri": "https://localhost:8080/"
        },
        "id": "fJtgfRGQZFbS",
        "outputId": "c07f03c7-fdd2-49c9-cd13-1e6bd6bbc4f3"
      },
      "source": [
        "# 문자열 정렬하기\n",
        "length = n + len(s)\n",
        "\n",
        "print(\"{0:<}\".format(s))"
      ],
      "execution_count": null,
      "outputs": [
        {
          "output_type": "stream",
          "text": [
            "25        \n",
            "time: 1.73 ms (started: 2021-05-04 08:17:47 +00:00)\n"
          ],
          "name": "stdout"
        }
      ]
    },
    {
      "cell_type": "markdown",
      "metadata": {
        "id": "gmE6qDX3hii1"
      },
      "source": [
        "codeup 100제: https://codeup.kr/problemsetsol.php?psid=33"
      ]
    },
    {
      "cell_type": "markdown",
      "metadata": {
        "id": "r0g_0KVki3He"
      },
      "source": [
        "string 함수: https://blockdmask.tistory.com/416"
      ]
    },
    {
      "cell_type": "code",
      "metadata": {
        "colab": {
          "base_uri": "https://localhost:8080/"
        },
        "id": "ljOc0DYEiGcG",
        "outputId": "965e2e08-f113-4ac9-b603-ea3ee259a48f"
      },
      "source": [
        "n = int(input().strip())\n",
        "\n",
        "s1 = \"ABCDEFGHIJKLMNOPQRSTUVWXYZ\"\n",
        "    \n",
        "if n == 1:\n",
        "    print(s1)\n",
        "else:\n",
        "    s2 = s1.lower()\n",
        "    print(s2)"
      ],
      "execution_count": null,
      "outputs": [
        {
          "output_type": "stream",
          "text": [
            "0\n",
            "abcdefghijklmnopqrstuvwxyz\n"
          ],
          "name": "stdout"
        }
      ]
    },
    {
      "cell_type": "code",
      "metadata": {
        "colab": {
          "base_uri": "https://localhost:8080/"
        },
        "id": "Wpx9f5cNhwT-",
        "outputId": "3a61c994-f115-4c52-d5f6-f530960baf39"
      },
      "source": [
        "import string \n",
        "\n",
        "print(string.ascii_lowercase) # 소문자 abcdefghijklmnopqrstuvwxyz\n",
        "print(string.ascii_uppercase) # 대문자 ABCDEFGHIJKLMNOPQRSTUVWXYZ\n",
        "print(string.ascii_letters) # 대소문자 모두 abcdefghijklmnopqrstuvwxyzABCDEFGHIJKLMNOPQRSTUVWXYZ\n",
        "print(string.digits) # 숫자 0123456789"
      ],
      "execution_count": null,
      "outputs": [
        {
          "output_type": "stream",
          "text": [
            "abcdefghijklmnopqrstuvwxyz\n",
            "ABCDEFGHIJKLMNOPQRSTUVWXYZ\n",
            "abcdefghijklmnopqrstuvwxyzABCDEFGHIJKLMNOPQRSTUVWXYZ\n",
            "0123456789\n"
          ],
          "name": "stdout"
        }
      ]
    },
    {
      "cell_type": "code",
      "metadata": {
        "colab": {
          "base_uri": "https://localhost:8080/"
        },
        "id": "NHuY9egyhwmd",
        "outputId": "a2e390a2-f55d-4ba4-e83f-510657be93b9"
      },
      "source": [
        "list1 = [3, 2, 1]\n",
        "list2 = [i for i in list1] # 또는 copy.deepcopy를 사용\n",
        "list2.sort()\n",
        "list2"
      ],
      "execution_count": null,
      "outputs": [
        {
          "output_type": "execute_result",
          "data": {
            "text/plain": [
              "[1, 2, 3]"
            ]
          },
          "metadata": {
            "tags": []
          },
          "execution_count": 4
        }
      ]
    },
    {
      "cell_type": "code",
      "metadata": {
        "colab": {
          "base_uri": "https://localhost:8080/"
        },
        "id": "4XQd3b3Xh_-3",
        "outputId": "40f710f6-9ba1-4747-a9b0-f5594a5539b2"
      },
      "source": [
        "list1 = [3, 2, 1]\n",
        "list2 = sorted(list1)\n",
        "list2"
      ],
      "execution_count": null,
      "outputs": [
        {
          "output_type": "execute_result",
          "data": {
            "text/plain": [
              "[1, 2, 3]"
            ]
          },
          "metadata": {
            "tags": []
          },
          "execution_count": 6
        }
      ]
    },
    {
      "cell_type": "code",
      "metadata": {
        "colab": {
          "base_uri": "https://localhost:8080/"
        },
        "id": "4WHTQdVkoMCK",
        "outputId": "d8b546a5-a1fe-4805-e2bd-db2d03481890"
      },
      "source": [
        "import numpy as np\n",
        "\n",
        "answer = [[1, 2, 3], [4, 5, 6], [7, 8, 9]]\n",
        "answer = np.array(answer)\n",
        "answer = answer.T\n",
        "answer = answer.tolist()"
      ],
      "execution_count": null,
      "outputs": [
        {
          "output_type": "stream",
          "text": [
            "time: 2.62 ms (started: 2021-05-06 08:00:43 +00:00)\n"
          ],
          "name": "stdout"
        }
      ]
    },
    {
      "cell_type": "code",
      "metadata": {
        "colab": {
          "base_uri": "https://localhost:8080/"
        },
        "id": "eUncEmL2qUXD",
        "outputId": "ef3b5a9c-117d-4bef-e86b-e323a0c0b36c"
      },
      "source": [
        "answer"
      ],
      "execution_count": null,
      "outputs": [
        {
          "output_type": "execute_result",
          "data": {
            "text/plain": [
              "[[1, 4, 7], [2, 5, 8], [3, 6, 9]]"
            ]
          },
          "metadata": {
            "tags": []
          },
          "execution_count": 28
        },
        {
          "output_type": "stream",
          "text": [
            "time: 7.84 ms (started: 2021-05-06 08:00:45 +00:00)\n"
          ],
          "name": "stdout"
        }
      ]
    },
    {
      "cell_type": "code",
      "metadata": {
        "colab": {
          "base_uri": "https://localhost:8080/"
        },
        "id": "U7C5dby3pXhg",
        "outputId": "3d8282a0-2d6c-4937-d2c9-e9b58be987dc"
      },
      "source": [
        "mylist = [[1, 2, 3], [4, 5, 6], [7, 8, 9]]\n",
        "new_list = [[], [], []]\n",
        "\n",
        "for i in range(len(mylist)):\n",
        "  new_list[i].append(mylist[i][::-1])"
      ],
      "execution_count": null,
      "outputs": [
        {
          "output_type": "stream",
          "text": [
            "time: 3.05 ms (started: 2021-05-06 08:00:49 +00:00)\n"
          ],
          "name": "stdout"
        }
      ]
    },
    {
      "cell_type": "markdown",
      "metadata": {
        "id": "BOkBOFH5tfXE"
      },
      "source": [
        "zip(*iterables)는 각 iterables 의 요소들을 모으는 이터레이터를 만듭니다.\n",
        "튜플의 이터레이터를 돌려주는데, i 번째 튜플은 각 인자로 전달된 시퀀스나 이터러블의 i 번째 요소를 포함합니다.    \n",
        "\n",
        "map 보다 list comprehension을 더 권장한다. "
      ]
    },
    {
      "cell_type": "code",
      "metadata": {
        "colab": {
          "base_uri": "https://localhost:8080/"
        },
        "id": "TTUUR_UBsELy",
        "outputId": "6f0e95ef-e2d5-4fc8-b622-9f0d8ca7ffbf"
      },
      "source": [
        "mylist = [[1, 2, 3], [4, 5, 6], [7, 8, 9]]\n",
        "new_list = list(map(list, zip(*mylist)))"
      ],
      "execution_count": null,
      "outputs": [
        {
          "output_type": "stream",
          "text": [
            "time: 1.28 ms (started: 2021-05-06 08:00:52 +00:00)\n"
          ],
          "name": "stdout"
        }
      ]
    },
    {
      "cell_type": "code",
      "metadata": {
        "colab": {
          "base_uri": "https://localhost:8080/"
        },
        "id": "j5QFj8yCtjlX",
        "outputId": "458edfe2-acf9-43a0-b937-f73380da689f"
      },
      "source": [
        "mylist = [[1, 2, 3], [4, 5, 6], [7, 8, 9]]\n",
        "new_list = [list(i) for i in zip(*mylist)]"
      ],
      "execution_count": null,
      "outputs": [
        {
          "output_type": "stream",
          "text": [
            "time: 1.68 ms (started: 2021-05-06 08:06:51 +00:00)\n"
          ],
          "name": "stdout"
        }
      ]
    },
    {
      "cell_type": "code",
      "metadata": {
        "colab": {
          "base_uri": "https://localhost:8080/"
        },
        "id": "-L4ayWgytqDl",
        "outputId": "c4a4f922-723e-49be-80a8-809ce78eaabf"
      },
      "source": [
        "new_list"
      ],
      "execution_count": null,
      "outputs": [
        {
          "output_type": "execute_result",
          "data": {
            "text/plain": [
              "[[1, 4, 7], [2, 5, 8], [3, 6, 9]]"
            ]
          },
          "metadata": {
            "tags": []
          },
          "execution_count": 41
        },
        {
          "output_type": "stream",
          "text": [
            "time: 7.24 ms (started: 2021-05-06 08:06:53 +00:00)\n"
          ],
          "name": "stdout"
        }
      ]
    },
    {
      "cell_type": "code",
      "metadata": {
        "colab": {
          "base_uri": "https://localhost:8080/"
        },
        "id": "7bvFHbcqsny0",
        "outputId": "c6b8ae66-c2dd-472a-ab45-19a5c4e5231b"
      },
      "source": [
        "for i in zip(*mylist):\n",
        "  print(list(i))"
      ],
      "execution_count": null,
      "outputs": [
        {
          "output_type": "stream",
          "text": [
            "[1, 4, 7]\n",
            "[2, 5, 8]\n",
            "[3, 6, 9]\n",
            "time: 1.19 ms (started: 2021-05-06 08:02:22 +00:00)\n"
          ],
          "name": "stdout"
        }
      ]
    },
    {
      "cell_type": "code",
      "metadata": {
        "colab": {
          "base_uri": "https://localhost:8080/"
        },
        "id": "dLZxaR6sukLq",
        "outputId": "56b20f15-aa9c-4b37-a207-8462669bc521"
      },
      "source": [
        "abs(3-4)"
      ],
      "execution_count": null,
      "outputs": [
        {
          "output_type": "execute_result",
          "data": {
            "text/plain": [
              "1"
            ]
          },
          "metadata": {
            "tags": []
          },
          "execution_count": 42
        },
        {
          "output_type": "stream",
          "text": [
            "time: 5.42 ms (started: 2021-05-06 08:10:26 +00:00)\n"
          ],
          "name": "stdout"
        }
      ]
    },
    {
      "cell_type": "code",
      "metadata": {
        "colab": {
          "base_uri": "https://localhost:8080/"
        },
        "id": "MIdyurSXvC6p",
        "outputId": "04ede636-9655-47ce-c059-a4fab140addc"
      },
      "source": [
        "mylist = [83, 48, 13, 4, 71, 11]"
      ],
      "execution_count": null,
      "outputs": [
        {
          "output_type": "stream",
          "text": [
            "time: 1.48 ms (started: 2021-05-06 08:12:26 +00:00)\n"
          ],
          "name": "stdout"
        }
      ]
    },
    {
      "cell_type": "code",
      "metadata": {
        "colab": {
          "base_uri": "https://localhost:8080/"
        },
        "id": "qxzsSfCcuHYG",
        "outputId": "57da0fd6-93ce-4942-aa1e-7f976651fe9e"
      },
      "source": [
        "answer = []\n",
        "for i in range(len(mylist)-1):\n",
        "  answer.append(abs(mylist[i]-mylist[i+1]))\n",
        "answer"
      ],
      "execution_count": null,
      "outputs": [
        {
          "output_type": "execute_result",
          "data": {
            "text/plain": [
              "[35, 35, 9, 67, 60]"
            ]
          },
          "metadata": {
            "tags": []
          },
          "execution_count": 47
        },
        {
          "output_type": "stream",
          "text": [
            "time: 6.96 ms (started: 2021-05-06 08:12:28 +00:00)\n"
          ],
          "name": "stdout"
        }
      ]
    },
    {
      "cell_type": "code",
      "metadata": {
        "colab": {
          "base_uri": "https://localhost:8080/"
        },
        "id": "WmsKxFtuurhQ",
        "outputId": "b872e457-c205-43ec-9f5d-f97e68a15546"
      },
      "source": [
        "answer = []\n",
        "for number1, number2 in zip(mylist, mylist[1:]):\n",
        "    answer.append(abs(number1 - number2))\n",
        "answer"
      ],
      "execution_count": null,
      "outputs": [
        {
          "output_type": "execute_result",
          "data": {
            "text/plain": [
              "[35, 35, 9, 67, 60]"
            ]
          },
          "metadata": {
            "tags": []
          },
          "execution_count": 48
        },
        {
          "output_type": "stream",
          "text": [
            "time: 5.19 ms (started: 2021-05-06 08:14:25 +00:00)\n"
          ],
          "name": "stdout"
        }
      ]
    },
    {
      "cell_type": "code",
      "metadata": {
        "colab": {
          "base_uri": "https://localhost:8080/"
        },
        "id": "fspuzwkhvfwW",
        "outputId": "4e2e4279-abca-4c5d-c129-a8a17edc8fc7"
      },
      "source": [
        "mylist = ['1', '100', '33']\n",
        "answer = list(map(int, mylist))\n",
        "answer"
      ],
      "execution_count": null,
      "outputs": [
        {
          "output_type": "execute_result",
          "data": {
            "text/plain": [
              "[1, 100, 33]"
            ]
          },
          "metadata": {
            "tags": []
          },
          "execution_count": 50
        },
        {
          "output_type": "stream",
          "text": [
            "time: 8.93 ms (started: 2021-05-06 08:19:15 +00:00)\n"
          ],
          "name": "stdout"
        }
      ]
    },
    {
      "cell_type": "code",
      "metadata": {
        "colab": {
          "base_uri": "https://localhost:8080/"
        },
        "id": "u11PPuMOwkmz",
        "outputId": "c5ddf343-daaf-439e-8fd2-52ee4b14b7ef"
      },
      "source": [
        "list1 = ['1', '100', '33']\n",
        "list2 = []\n",
        "for value in list1:\n",
        "    list2.append(int(value))\n",
        "list2"
      ],
      "execution_count": null,
      "outputs": [
        {
          "output_type": "execute_result",
          "data": {
            "text/plain": [
              "[1, 100, 33]"
            ]
          },
          "metadata": {
            "tags": []
          },
          "execution_count": 51
        },
        {
          "output_type": "stream",
          "text": [
            "time: 6.5 ms (started: 2021-05-06 08:20:17 +00:00)\n"
          ],
          "name": "stdout"
        }
      ]
    },
    {
      "cell_type": "code",
      "metadata": {
        "colab": {
          "base_uri": "https://localhost:8080/"
        },
        "id": "2weEYUtft90a",
        "outputId": "22fd5d34-3d48-4feb-d8f8-dc84a6e4a41e"
      },
      "source": [
        "n = int(input().strip())\n",
        "\n",
        "for i in range(n): \n",
        "    print('*'*(i+1))"
      ],
      "execution_count": null,
      "outputs": [
        {
          "output_type": "stream",
          "text": [
            "3\n",
            "*\n",
            "**\n",
            "***\n",
            "time: 2.52 s (started: 2021-05-07 07:26:08 +00:00)\n"
          ],
          "name": "stdout"
        }
      ]
    },
    {
      "cell_type": "code",
      "metadata": {
        "colab": {
          "base_uri": "https://localhost:8080/"
        },
        "id": "3H8eOEz7snnT",
        "outputId": "1ef6cc73-a8f8-4cab-8c34-d7968c9f282b"
      },
      "source": [
        "n = int(input().strip())\n",
        "\n",
        "for i in range(n): \n",
        "    print(''.join(['*']*(i+1)))"
      ],
      "execution_count": null,
      "outputs": [
        {
          "output_type": "stream",
          "text": [
            "3\n",
            "*\n",
            "**\n",
            "***\n",
            "time: 2.65 s (started: 2021-05-07 07:26:19 +00:00)\n"
          ],
          "name": "stdout"
        }
      ]
    },
    {
      "cell_type": "code",
      "metadata": {
        "colab": {
          "base_uri": "https://localhost:8080/"
        },
        "id": "0LtKp2Costkh",
        "outputId": "d03ce067-543b-4cc5-c68f-c988dd888e09"
      },
      "source": [
        "iterable1 = 'ABCD'\n",
        "iterable2 = 'xy'\n",
        "iterable3 = '1234'\n",
        "\n",
        "for value1 in iterable1:\n",
        "    for value2 in iterable2:\n",
        "        for value3 in iterable3:\n",
        "            print(value1, value2, value3)"
      ],
      "execution_count": null,
      "outputs": [
        {
          "output_type": "stream",
          "text": [
            "A x 1\n",
            "A x 2\n",
            "A x 3\n",
            "A x 4\n",
            "A y 1\n",
            "A y 2\n",
            "A y 3\n",
            "A y 4\n",
            "B x 1\n",
            "B x 2\n",
            "B x 3\n",
            "B x 4\n",
            "B y 1\n",
            "B y 2\n",
            "B y 3\n",
            "B y 4\n",
            "C x 1\n",
            "C x 2\n",
            "C x 3\n",
            "C x 4\n",
            "C y 1\n",
            "C y 2\n",
            "C y 3\n",
            "C y 4\n",
            "D x 1\n",
            "D x 2\n",
            "D x 3\n",
            "D x 4\n",
            "D y 1\n",
            "D y 2\n",
            "D y 3\n",
            "D y 4\n",
            "time: 20.7 ms (started: 2021-05-07 07:53:25 +00:00)\n"
          ],
          "name": "stdout"
        }
      ]
    },
    {
      "cell_type": "code",
      "metadata": {
        "colab": {
          "base_uri": "https://localhost:8080/"
        },
        "id": "EMgc5uNRtHEH",
        "outputId": "e1da880e-e0d7-46ff-93e9-1127a3d7028f"
      },
      "source": [
        "import itertools\n",
        "\n",
        "iterable1 = 'ABCD'\n",
        "iterable2 = 'xy'\n",
        "iterable3 = '1234'\n",
        "print(list(itertools.product(iterable1, iterable2, iterable3)))"
      ],
      "execution_count": null,
      "outputs": [
        {
          "output_type": "stream",
          "text": [
            "[('A', 'x', '1'), ('A', 'x', '2'), ('A', 'x', '3'), ('A', 'x', '4'), ('A', 'y', '1'), ('A', 'y', '2'), ('A', 'y', '3'), ('A', 'y', '4'), ('B', 'x', '1'), ('B', 'x', '2'), ('B', 'x', '3'), ('B', 'x', '4'), ('B', 'y', '1'), ('B', 'y', '2'), ('B', 'y', '3'), ('B', 'y', '4'), ('C', 'x', '1'), ('C', 'x', '2'), ('C', 'x', '3'), ('C', 'x', '4'), ('C', 'y', '1'), ('C', 'y', '2'), ('C', 'y', '3'), ('C', 'y', '4'), ('D', 'x', '1'), ('D', 'x', '2'), ('D', 'x', '3'), ('D', 'x', '4'), ('D', 'y', '1'), ('D', 'y', '2'), ('D', 'y', '3'), ('D', 'y', '4')]\n",
            "time: 1.74 ms (started: 2021-05-07 07:53:28 +00:00)\n"
          ],
          "name": "stdout"
        }
      ]
    },
    {
      "cell_type": "code",
      "metadata": {
        "colab": {
          "base_uri": "https://localhost:8080/"
        },
        "id": "iN9YqTVMwv3y",
        "outputId": "9763d8c5-7720-4a36-c2a6-3ae352828e6c"
      },
      "source": [
        "my_list = [[1, 2], [3, 4], [5, 6]]\n",
        "answer = []\n",
        "for i in mylist:\n",
        "  for j in i:\n",
        "    answer.append(j)\n",
        "answer"
      ],
      "execution_count": null,
      "outputs": [
        {
          "output_type": "execute_result",
          "data": {
            "text/plain": [
              "[1, 2]"
            ]
          },
          "metadata": {
            "tags": []
          },
          "execution_count": 53
        },
        {
          "output_type": "stream",
          "text": [
            "time: 5.46 ms (started: 2021-05-07 07:58:55 +00:00)\n"
          ],
          "name": "stdout"
        }
      ]
    },
    {
      "cell_type": "code",
      "metadata": {
        "colab": {
          "base_uri": "https://localhost:8080/"
        },
        "id": "wGpB_VxGxwuH",
        "outputId": "3ab3afcb-87d1-475e-b9e7-0ec05103d4f3"
      },
      "source": [
        "# 빠른 방법\n",
        "my_list = [[1, 2], [3, 4], [5, 6]]\n",
        "answer = []\n",
        "for element in my_list:\n",
        "    answer += element\n",
        "answer"
      ],
      "execution_count": null,
      "outputs": [
        {
          "output_type": "execute_result",
          "data": {
            "text/plain": [
              "[1, 2, 3, 4, 5, 6]"
            ]
          },
          "metadata": {
            "tags": []
          },
          "execution_count": 54
        },
        {
          "output_type": "stream",
          "text": [
            "time: 9.26 ms (started: 2021-05-07 07:59:02 +00:00)\n"
          ],
          "name": "stdout"
        }
      ]
    },
    {
      "cell_type": "code",
      "metadata": {
        "colab": {
          "base_uri": "https://localhost:8080/"
        },
        "id": "1iadyZUhykBY",
        "outputId": "574928ca-6ed2-4648-aa1c-ee98192d76eb"
      },
      "source": [
        "# 빠른 방법\n",
        "my_list = [[1, 2], [3, 4], [5, 6]]\n",
        "\n",
        "# 방법 1 - sum 함수\n",
        "answer = sum(my_list, [])"
      ],
      "execution_count": null,
      "outputs": [
        {
          "output_type": "stream",
          "text": [
            "time: 2.02 ms (started: 2021-05-07 07:48:07 +00:00)\n"
          ],
          "name": "stdout"
        }
      ]
    },
    {
      "cell_type": "code",
      "metadata": {
        "colab": {
          "base_uri": "https://localhost:8080/"
        },
        "id": "c2AskCSrzEhO",
        "outputId": "56d22ea2-3d2e-421c-b2e0-912d6c6090ea"
      },
      "source": [
        "my_list = [[1, 2], [3, 4], [5, 6]]\n",
        "\n",
        "# 방법 2 - itertools.chain\n",
        "list(itertools.chain.from_iterable(my_list))"
      ],
      "execution_count": null,
      "outputs": [
        {
          "output_type": "execute_result",
          "data": {
            "text/plain": [
              "[1, 2, 3, 4, 5, 6]"
            ]
          },
          "metadata": {
            "tags": []
          },
          "execution_count": 40
        },
        {
          "output_type": "stream",
          "text": [
            "time: 7.68 ms (started: 2021-05-07 07:48:54 +00:00)\n"
          ],
          "name": "stdout"
        }
      ]
    },
    {
      "cell_type": "code",
      "metadata": {
        "colab": {
          "base_uri": "https://localhost:8080/"
        },
        "id": "rT8DmyGhzQP7",
        "outputId": "2947a56f-7b3b-4ca1-f888-9271b751cf79"
      },
      "source": [
        "my_list = [[1, 2], [3, 4], [5, 6]]\n",
        "\n",
        "# 방법 4 - list comprehension 이용\n",
        "[element for array in my_list for element in array]"
      ],
      "execution_count": null,
      "outputs": [
        {
          "output_type": "execute_result",
          "data": {
            "text/plain": [
              "[1, 2, 3, 4, 5, 6]"
            ]
          },
          "metadata": {
            "tags": []
          },
          "execution_count": 41
        },
        {
          "output_type": "stream",
          "text": [
            "time: 7.83 ms (started: 2021-05-07 07:49:21 +00:00)\n"
          ],
          "name": "stdout"
        }
      ]
    },
    {
      "cell_type": "code",
      "metadata": {
        "colab": {
          "base_uri": "https://localhost:8080/"
        },
        "id": "TkTc-UrhzW1x",
        "outputId": "e7403de0-c27f-4240-e1d1-6f9bcab93775"
      },
      "source": [
        "from functools import reduce\n",
        "\n",
        "my_list = [[1, 2], [3, 4], [5, 6]]\n",
        "# 방법 5 - reduce 함수 이용 1\n",
        "list(reduce(lambda x, y: x+y, my_list))"
      ],
      "execution_count": null,
      "outputs": [
        {
          "output_type": "execute_result",
          "data": {
            "text/plain": [
              "[1, 2, 3, 4, 5, 6]"
            ]
          },
          "metadata": {
            "tags": []
          },
          "execution_count": 48
        },
        {
          "output_type": "stream",
          "text": [
            "time: 9.93 ms (started: 2021-05-07 07:51:56 +00:00)\n"
          ],
          "name": "stdout"
        }
      ]
    },
    {
      "cell_type": "code",
      "metadata": {
        "colab": {
          "base_uri": "https://localhost:8080/"
        },
        "id": "nNNojtiszbFo",
        "outputId": "4918b191-7e89-4cdc-bc0c-e6f66c600712"
      },
      "source": [
        "# 방법 6 - reduce 함수 이용 2\n",
        "from functools import reduce\n",
        "import operator\n",
        "\n",
        "my_list = [[1, 2], [3, 4], [5, 6]]\n",
        "list(reduce(operator.add, my_list))"
      ],
      "execution_count": null,
      "outputs": [
        {
          "output_type": "execute_result",
          "data": {
            "text/plain": [
              "[1, 2, 3, 4, 5, 6]"
            ]
          },
          "metadata": {
            "tags": []
          },
          "execution_count": 49
        },
        {
          "output_type": "stream",
          "text": [
            "time: 7.84 ms (started: 2021-05-07 07:51:58 +00:00)\n"
          ],
          "name": "stdout"
        }
      ]
    },
    {
      "cell_type": "code",
      "metadata": {
        "colab": {
          "base_uri": "https://localhost:8080/"
        },
        "id": "vydCxziDzfpO",
        "outputId": "e3938305-7bec-426b-8d56-b048e5759276"
      },
      "source": [
        "# 방법 7 - numpy 라이브러리의 flatten 이용\n",
        "import numpy as np\n",
        "\n",
        "my_list = [[1, 2], [3, 4], [5, 6]]\n",
        "np.array(my_list).flatten().tolist()"
      ],
      "execution_count": null,
      "outputs": [
        {
          "output_type": "execute_result",
          "data": {
            "text/plain": [
              "[1, 2, 3, 4, 5, 6]"
            ]
          },
          "metadata": {
            "tags": []
          },
          "execution_count": 50
        },
        {
          "output_type": "stream",
          "text": [
            "time: 6.8 ms (started: 2021-05-07 07:52:00 +00:00)\n"
          ],
          "name": "stdout"
        }
      ]
    },
    {
      "cell_type": "code",
      "metadata": {
        "id": "axlXWatizxcp"
      },
      "source": [
        ""
      ],
      "execution_count": null,
      "outputs": []
    }
  ]
}