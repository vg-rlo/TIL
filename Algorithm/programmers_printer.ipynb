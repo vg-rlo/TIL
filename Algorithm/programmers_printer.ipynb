{
  "nbformat": 4,
  "nbformat_minor": 0,
  "metadata": {
    "colab": {
      "name": "Programmers_printer.ipynb",
      "provenance": [],
      "collapsed_sections": [],
      "authorship_tag": "ABX9TyPOZ3qrOy3hGAhW57Q8TXFr",
      "include_colab_link": true
    },
    "kernelspec": {
      "name": "python3",
      "display_name": "Python 3"
    },
    "language_info": {
      "name": "python"
    }
  },
  "cells": [
    {
      "cell_type": "markdown",
      "metadata": {
        "id": "view-in-github",
        "colab_type": "text"
      },
      "source": [
        "<a href=\"https://colab.research.google.com/github/vg-rlo/TIL/blob/master/Programmers_printer.ipynb\" target=\"_parent\"><img src=\"https://colab.research.google.com/assets/colab-badge.svg\" alt=\"Open In Colab\"/></a>"
      ]
    },
    {
      "cell_type": "code",
      "metadata": {
        "colab": {
          "base_uri": "https://localhost:8080/"
        },
        "id": "dLWYAINf1XAV",
        "outputId": "aae9015b-0fa7-4514-8157-12b78235291e"
      },
      "source": [
        "!pip install ipython-autotime\n",
        "\n",
        "%load_ext autotime"
      ],
      "execution_count": 4,
      "outputs": [
        {
          "output_type": "stream",
          "text": [
            "Collecting ipython-autotime\n",
            "  Downloading https://files.pythonhosted.org/packages/b4/c9/b413a24f759641bc27ef98c144b590023c8038dfb8a3f09e713e9dff12c1/ipython_autotime-0.3.1-py2.py3-none-any.whl\n",
            "Requirement already satisfied: ipython in /usr/local/lib/python3.7/dist-packages (from ipython-autotime) (5.5.0)\n",
            "Requirement already satisfied: decorator in /usr/local/lib/python3.7/dist-packages (from ipython->ipython-autotime) (4.4.2)\n",
            "Requirement already satisfied: prompt-toolkit<2.0.0,>=1.0.4 in /usr/local/lib/python3.7/dist-packages (from ipython->ipython-autotime) (1.0.18)\n",
            "Requirement already satisfied: pickleshare in /usr/local/lib/python3.7/dist-packages (from ipython->ipython-autotime) (0.7.5)\n",
            "Requirement already satisfied: pygments in /usr/local/lib/python3.7/dist-packages (from ipython->ipython-autotime) (2.6.1)\n",
            "Requirement already satisfied: setuptools>=18.5 in /usr/local/lib/python3.7/dist-packages (from ipython->ipython-autotime) (56.0.0)\n",
            "Requirement already satisfied: traitlets>=4.2 in /usr/local/lib/python3.7/dist-packages (from ipython->ipython-autotime) (5.0.5)\n",
            "Requirement already satisfied: pexpect; sys_platform != \"win32\" in /usr/local/lib/python3.7/dist-packages (from ipython->ipython-autotime) (4.8.0)\n",
            "Requirement already satisfied: simplegeneric>0.8 in /usr/local/lib/python3.7/dist-packages (from ipython->ipython-autotime) (0.8.1)\n",
            "Requirement already satisfied: six>=1.9.0 in /usr/local/lib/python3.7/dist-packages (from prompt-toolkit<2.0.0,>=1.0.4->ipython->ipython-autotime) (1.15.0)\n",
            "Requirement already satisfied: wcwidth in /usr/local/lib/python3.7/dist-packages (from prompt-toolkit<2.0.0,>=1.0.4->ipython->ipython-autotime) (0.2.5)\n",
            "Requirement already satisfied: ipython-genutils in /usr/local/lib/python3.7/dist-packages (from traitlets>=4.2->ipython->ipython-autotime) (0.2.0)\n",
            "Requirement already satisfied: ptyprocess>=0.5 in /usr/local/lib/python3.7/dist-packages (from pexpect; sys_platform != \"win32\"->ipython->ipython-autotime) (0.7.0)\n",
            "Installing collected packages: ipython-autotime\n",
            "Successfully installed ipython-autotime-0.3.1\n",
            "time: 360 µs (started: 2021-04-25 16:21:43 +00:00)\n"
          ],
          "name": "stdout"
        }
      ]
    },
    {
      "cell_type": "code",
      "metadata": {
        "colab": {
          "base_uri": "https://localhost:8080/"
        },
        "id": "m-hL2MW4z7gJ",
        "outputId": "6a377b31-516b-4996-fdc5-f1705ae6557a"
      },
      "source": [
        "def solution(priorities, location):\n",
        "    answer = 0\n",
        "    return answer"
      ],
      "execution_count": 5,
      "outputs": [
        {
          "output_type": "stream",
          "text": [
            "time: 2.26 ms (started: 2021-04-25 16:21:43 +00:00)\n"
          ],
          "name": "stdout"
        }
      ]
    },
    {
      "cell_type": "code",
      "metadata": {
        "colab": {
          "base_uri": "https://localhost:8080/"
        },
        "id": "J_T_940i0Iy4",
        "outputId": "c62211c7-c742-4f60-cdfe-3ac4e4898279"
      },
      "source": [
        "priorities = [2, 1, 3, 2]\t\n",
        "location = 2\t\n",
        "answer = 0"
      ],
      "execution_count": 36,
      "outputs": [
        {
          "output_type": "stream",
          "text": [
            "time: 1.76 ms (started: 2021-04-25 16:58:47 +00:00)\n"
          ],
          "name": "stdout"
        }
      ]
    },
    {
      "cell_type": "code",
      "metadata": {
        "colab": {
          "base_uri": "https://localhost:8080/"
        },
        "id": "fzcg-1EO8pR0",
        "outputId": "14d3b18d-105d-4ad8-c164-089d8d11a970"
      },
      "source": [
        "pri_idx_lst = [i for i in range(len(priorities))]"
      ],
      "execution_count": 37,
      "outputs": [
        {
          "output_type": "stream",
          "text": [
            "time: 965 µs (started: 2021-04-25 16:58:47 +00:00)\n"
          ],
          "name": "stdout"
        }
      ]
    },
    {
      "cell_type": "code",
      "metadata": {
        "colab": {
          "base_uri": "https://localhost:8080/"
        },
        "id": "vINTThOI9-iE",
        "outputId": "4479e964-4622-46f3-e30f-b951fc73f677"
      },
      "source": [
        "pri_idx_lst"
      ],
      "execution_count": 38,
      "outputs": [
        {
          "output_type": "execute_result",
          "data": {
            "text/plain": [
              "[0, 1, 2, 3]"
            ]
          },
          "metadata": {
            "tags": []
          },
          "execution_count": 38
        },
        {
          "output_type": "stream",
          "text": [
            "time: 3.68 ms (started: 2021-04-25 16:58:48 +00:00)\n"
          ],
          "name": "stdout"
        }
      ]
    },
    {
      "cell_type": "code",
      "metadata": {
        "colab": {
          "base_uri": "https://localhost:8080/"
        },
        "id": "HB2X-XBE3s1S",
        "outputId": "5c1c7e3a-cd3f-4d0f-9633-c28b03980412"
      },
      "source": [
        "pri_idx_lst = [i for i in range(len(priorities))]\n",
        "idx_lst = []\n",
        "\n",
        "max_idx = priorities.index(max(priorities))\n",
        "\n",
        "while True:\n",
        "  idx_lst.append(max_idx)\n",
        "  priorities.pop(max_idx)\n",
        "  print(priorities)\n",
        "  \n",
        "  if (max_idx < len(priorities)-1) and priorities[max_idx] == :\n",
        "    max_idx =\n",
        "  else:\n",
        "    max_idx = priorities.index(max(priorities))\n",
        "\n",
        "  if len(idx_lst) == 4:\n",
        "    break  \n",
        "print(idx_lst)"
      ],
      "execution_count": 31,
      "outputs": [
        {
          "output_type": "stream",
          "text": [
            "[2, 1, 2]\n",
            "[1, 2]\n",
            "[1]\n",
            "[2, 0, 1]\n",
            "time: 3.51 ms (started: 2021-04-25 16:46:15 +00:00)\n"
          ],
          "name": "stdout"
        }
      ]
    },
    {
      "cell_type": "markdown",
      "metadata": {
        "id": "2WGzK5Xa011h"
      },
      "source": [
        "1. 인쇄 대기목록의 가장 앞에 있는 문서(J)를 대기목록에서 꺼냅니다.\n",
        "2. 나머지 인쇄 대기목록에서 J보다 중요도가 높은 문서가 한 개라도 존재하면 J를 대기목록의 가장 마지막에 넣습니다.\n",
        "3. 그렇지 않으면 J를 인쇄합니다."
      ]
    },
    {
      "cell_type": "code",
      "metadata": {
        "colab": {
          "base_uri": "https://localhost:8080/"
        },
        "id": "_m0w0w9W1sCK",
        "outputId": "f5117ad8-8516-4d6d-91e7-c9be5e14ae1c"
      },
      "source": [
        "print(max(priorities))\n",
        "\n",
        "max_prior = max(priorities)\n",
        "priorities.pop(priorities.index(max_prior))\n",
        "print(priorities)"
      ],
      "execution_count": 18,
      "outputs": [
        {
          "output_type": "stream",
          "text": [
            "3\n",
            "[2, 1, 2]\n",
            "time: 6.97 ms (started: 2021-04-25 16:24:39 +00:00)\n"
          ],
          "name": "stdout"
        }
      ]
    },
    {
      "cell_type": "code",
      "metadata": {
        "colab": {
          "base_uri": "https://localhost:8080/"
        },
        "id": "QWYdt6X82C-t",
        "outputId": "a57ecb61-8824-47ee-a143-0a54dbce62ef"
      },
      "source": [
        "print(max(priorities))\n",
        "\n",
        "max_prior = max(priorities)\n",
        "priorities.pop(priorities.index(max_prior)) # 맨 앞의 max값이 빠지는 것을 알 수 있음 \n",
        "print(priorities)"
      ],
      "execution_count": 19,
      "outputs": [
        {
          "output_type": "stream",
          "text": [
            "2\n",
            "[1, 2]\n",
            "time: 4.31 ms (started: 2021-04-25 16:24:48 +00:00)\n"
          ],
          "name": "stdout"
        }
      ]
    }
  ]
}