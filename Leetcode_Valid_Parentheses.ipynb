{
  "nbformat": 4,
  "nbformat_minor": 0,
  "metadata": {
    "colab": {
      "name": "Leetcode_Valid_Parentheses.ipynb",
      "provenance": [],
      "collapsed_sections": [],
      "authorship_tag": "ABX9TyNo8OHLeiEJyuD6DybWhRky",
      "include_colab_link": true
    },
    "kernelspec": {
      "name": "python3",
      "display_name": "Python 3"
    },
    "language_info": {
      "name": "python"
    }
  },
  "cells": [
    {
      "cell_type": "markdown",
      "metadata": {
        "id": "view-in-github",
        "colab_type": "text"
      },
      "source": [
        "<a href=\"https://colab.research.google.com/github/vg-rlo/TIL/blob/master/Leetcode_Valid_Parentheses.ipynb\" target=\"_parent\"><img src=\"https://colab.research.google.com/assets/colab-badge.svg\" alt=\"Open In Colab\"/></a>"
      ]
    },
    {
      "cell_type": "code",
      "metadata": {
        "id": "7LJD7CemgYXf"
      },
      "source": [
        "class Solution(object):\n",
        "    def isValid(self, s):\n",
        "        \"\"\"\n",
        "        :type s: str\n",
        "        :rtype: bool\n",
        "        \"\"\"\n",
        "        dict_bracket = {'(': ')', '[':']', '{':'}'}\n",
        "        chr_lst = []\n",
        "\n",
        "        for chr in s:\n",
        "          chr_lst.append(chr)\n",
        "        chr_lst\n",
        "\n",
        "        while chr_lst:\n",
        "          if chr_lst[0] in dict_bracket and len(chr_lst) > 1:\n",
        "            if chr_lst[1] == dict_bracket[chr_lst[0]]:\n",
        "              chr_lst.pop(1)      \n",
        "              chr_lst.pop(0)\n",
        "            elif chr_lst[len(chr_lst)-1] == dict_bracket[chr_lst[0]]:\n",
        "              chr_lst.pop(len(chr_lst)-1)\n",
        "              chr_lst.pop(0)\n",
        "            else:\n",
        "              return False\n",
        "          else:\n",
        "            return False\n",
        "          # print(chr_lst)\n",
        "        return True"
      ],
      "execution_count": 127,
      "outputs": []
    },
    {
      "cell_type": "code",
      "metadata": {
        "colab": {
          "base_uri": "https://localhost:8080/"
        },
        "id": "dF5c2BhegZBh",
        "outputId": "a7231a4a-54b2-40c3-dca9-a84d5b91eebb"
      },
      "source": [
        "sol = Solution()\n",
        "sol.isValid('[](}')"
      ],
      "execution_count": 126,
      "outputs": [
        {
          "output_type": "stream",
          "text": [
            "['(', '}']\n"
          ],
          "name": "stdout"
        },
        {
          "output_type": "execute_result",
          "data": {
            "text/plain": [
              "False"
            ]
          },
          "metadata": {
            "tags": []
          },
          "execution_count": 126
        }
      ]
    },
    {
      "cell_type": "code",
      "metadata": {
        "id": "GqQBdVsIjs_L"
      },
      "source": [
        "s = '{}[]'"
      ],
      "execution_count": 33,
      "outputs": []
    },
    {
      "cell_type": "code",
      "metadata": {
        "id": "EIXrt-_7gmBh"
      },
      "source": [
        "sen = []\n",
        "for chr in s:\n",
        "  sen.append(chr)"
      ],
      "execution_count": 50,
      "outputs": []
    },
    {
      "cell_type": "code",
      "metadata": {
        "colab": {
          "base_uri": "https://localhost:8080/"
        },
        "id": "xVxSedJ3kN7Z",
        "outputId": "ffdaed72-23fa-4596-c762-f716dce329a5"
      },
      "source": [
        "print(sen)"
      ],
      "execution_count": 51,
      "outputs": [
        {
          "output_type": "stream",
          "text": [
            "['{', '}', '[', ']']\n"
          ],
          "name": "stdout"
        }
      ]
    },
    {
      "cell_type": "code",
      "metadata": {
        "id": "_7VNBc0xkYZ1"
      },
      "source": [
        "dict_bracket = {'(': ')', '[':']', '{':'}'}"
      ],
      "execution_count": 52,
      "outputs": []
    },
    {
      "cell_type": "code",
      "metadata": {
        "colab": {
          "base_uri": "https://localhost:8080/"
        },
        "id": "z5G847vzmCHi",
        "outputId": "587637b9-ea02-40a5-cc38-ca18288aea58"
      },
      "source": [
        "i =0\n",
        "dict_bracket[sen[i]] == sen[i+1]"
      ],
      "execution_count": 64,
      "outputs": [
        {
          "output_type": "execute_result",
          "data": {
            "text/plain": [
              "True"
            ]
          },
          "metadata": {
            "tags": []
          },
          "execution_count": 64
        }
      ]
    },
    {
      "cell_type": "code",
      "metadata": {
        "colab": {
          "base_uri": "https://localhost:8080/",
          "height": 35
        },
        "id": "lPRSuEVXm0ad",
        "outputId": "419ddc60-5669-4faf-a1d1-ce964d1e462d"
      },
      "source": [
        "sen[len(sen)-1-i]"
      ],
      "execution_count": 70,
      "outputs": [
        {
          "output_type": "execute_result",
          "data": {
            "application/vnd.google.colaboratory.intrinsic+json": {
              "type": "string"
            },
            "text/plain": [
              "']'"
            ]
          },
          "metadata": {
            "tags": []
          },
          "execution_count": 70
        }
      ]
    },
    {
      "cell_type": "code",
      "metadata": {
        "colab": {
          "base_uri": "https://localhost:8080/"
        },
        "id": "F3kCxxD4nmZc",
        "outputId": "8cb57e66-37a7-4188-a35e-5fbafb8028b0"
      },
      "source": [
        "chr = '}'\n",
        "if chr in dict_bracket:\n",
        "  print(True)\n",
        "else: \n",
        "  print(False)"
      ],
      "execution_count": 73,
      "outputs": [
        {
          "output_type": "stream",
          "text": [
            "False\n"
          ],
          "name": "stdout"
        }
      ]
    },
    {
      "cell_type": "code",
      "metadata": {
        "colab": {
          "base_uri": "https://localhost:8080/"
        },
        "id": "aX6tbBfqoOKN",
        "outputId": "b05cca2b-c384-47d6-aedc-d4e78bfc243d"
      },
      "source": [
        "chr = '{'\n",
        "if chr in dict_bracket:\n",
        "  print(True)\n",
        "else: \n",
        "  print(False)"
      ],
      "execution_count": 75,
      "outputs": [
        {
          "output_type": "stream",
          "text": [
            "True\n"
          ],
          "name": "stdout"
        }
      ]
    },
    {
      "cell_type": "code",
      "metadata": {
        "colab": {
          "base_uri": "https://localhost:8080/",
          "height": 163
        },
        "id": "Ck_pEQW1mtFX",
        "outputId": "2b1b988b-af7c-4084-d974-e3812288a570"
      },
      "source": [
        "dict_bracket[sen[len(sen)-1-i]]"
      ],
      "execution_count": 69,
      "outputs": [
        {
          "output_type": "error",
          "ename": "KeyError",
          "evalue": "ignored",
          "traceback": [
            "\u001b[0;31m---------------------------------------------------------------------------\u001b[0m",
            "\u001b[0;31mKeyError\u001b[0m                                  Traceback (most recent call last)",
            "\u001b[0;32m<ipython-input-69-af84addda840>\u001b[0m in \u001b[0;36m<module>\u001b[0;34m()\u001b[0m\n\u001b[0;32m----> 1\u001b[0;31m \u001b[0mdict_bracket\u001b[0m\u001b[0;34m[\u001b[0m\u001b[0msen\u001b[0m\u001b[0;34m[\u001b[0m\u001b[0mlen\u001b[0m\u001b[0;34m(\u001b[0m\u001b[0msen\u001b[0m\u001b[0;34m)\u001b[0m\u001b[0;34m-\u001b[0m\u001b[0;36m1\u001b[0m\u001b[0;34m-\u001b[0m\u001b[0mi\u001b[0m\u001b[0;34m]\u001b[0m\u001b[0;34m]\u001b[0m\u001b[0;34m\u001b[0m\u001b[0;34m\u001b[0m\u001b[0m\n\u001b[0m",
            "\u001b[0;31mKeyError\u001b[0m: ']'"
          ]
        }
      ]
    },
    {
      "cell_type": "code",
      "metadata": {
        "id": "7_imPo9-olg_"
      },
      "source": [
        "sen = ['[[]]']\n"
      ],
      "execution_count": 89,
      "outputs": []
    },
    {
      "cell_type": "code",
      "metadata": {
        "colab": {
          "base_uri": "https://localhost:8080/"
        },
        "id": "NuiGkkzCsiXA",
        "outputId": "a5b60b3d-3018-44d6-8b52-b11076f3f137"
      },
      "source": [
        "chr_lst = []\n",
        "for chr in s:\n",
        "  chr_lst.append(chr)\n",
        "chr_lst"
      ],
      "execution_count": 108,
      "outputs": [
        {
          "output_type": "execute_result",
          "data": {
            "text/plain": [
              "['{', '}', '[', ']']"
            ]
          },
          "metadata": {
            "tags": []
          },
          "execution_count": 108
        }
      ]
    },
    {
      "cell_type": "code",
      "metadata": {
        "colab": {
          "base_uri": "https://localhost:8080/"
        },
        "id": "iNjTe15ksZAa",
        "outputId": "fbb6082b-05ca-4640-a3c5-79492e09f05e"
      },
      "source": [
        "chr_lst.pop(len(chr_lst)-1)\n",
        "chr_lst"
      ],
      "execution_count": 99,
      "outputs": [
        {
          "output_type": "execute_result",
          "data": {
            "text/plain": [
              "['{', '}', '[']"
            ]
          },
          "metadata": {
            "tags": []
          },
          "execution_count": 99
        }
      ]
    },
    {
      "cell_type": "code",
      "metadata": {
        "colab": {
          "base_uri": "https://localhost:8080/"
        },
        "id": "Aa6aqYletBtU",
        "outputId": "cfc8fdde-a2fe-45c2-98cd-66f034a305ee"
      },
      "source": [
        "chr_lst.pop(len(chr_lst)-1-i)\n",
        "chr_lst"
      ],
      "execution_count": 101,
      "outputs": [
        {
          "output_type": "execute_result",
          "data": {
            "text/plain": [
              "['{']"
            ]
          },
          "metadata": {
            "tags": []
          },
          "execution_count": 101
        }
      ]
    },
    {
      "cell_type": "code",
      "metadata": {
        "id": "7XqOES7Pg6rI"
      },
      "source": [
        "def valid_parentheses(s, dict_bracket):\n",
        "  chr_lst = []\n",
        "\n",
        "  for chr in s:\n",
        "    chr_lst.append(chr)\n",
        "  chr_lst\n",
        "\n",
        "  while len(chr_lst) > 1:\n",
        "    if chr_lst[0] in dict_bracket:\n",
        "      if chr_lst[1] == dict_bracket[chr_lst[0]]:\n",
        "        chr_lst.pop(1)      \n",
        "        chr_lst.pop(0)\n",
        "      elif chr_lst[len(chr_lst)-1] == dict_bracket[chr_lst[0]]:\n",
        "        chr_lst.pop(len(chr_lst)-1)\n",
        "        chr_lst.pop(0)\n",
        "      else:\n",
        "        return False\n",
        "    else:\n",
        "      return False\n",
        "    return True"
      ],
      "execution_count": 117,
      "outputs": []
    },
    {
      "cell_type": "code",
      "metadata": {
        "colab": {
          "base_uri": "https://localhost:8080/"
        },
        "id": "L_kNIwosk0Xw",
        "outputId": "f9497501-f9cb-4ecb-9a54-dba73ca84ab2"
      },
      "source": [
        "valid_parentheses('[}', dict_bracket)"
      ],
      "execution_count": 118,
      "outputs": [
        {
          "output_type": "execute_result",
          "data": {
            "text/plain": [
              "False"
            ]
          },
          "metadata": {
            "tags": []
          },
          "execution_count": 118
        }
      ]
    },
    {
      "cell_type": "code",
      "metadata": {
        "colab": {
          "base_uri": "https://localhost:8080/",
          "height": 163
        },
        "id": "6w_idOkAhuXW",
        "outputId": "8fdb317b-3e37-44d9-e875-82026cdf60e2"
      },
      "source": [
        "dict_bracket[str(sen[0])]"
      ],
      "execution_count": 49,
      "outputs": [
        {
          "output_type": "error",
          "ename": "KeyError",
          "evalue": "ignored",
          "traceback": [
            "\u001b[0;31m---------------------------------------------------------------------------\u001b[0m",
            "\u001b[0;31mKeyError\u001b[0m                                  Traceback (most recent call last)",
            "\u001b[0;32m<ipython-input-49-206400d9cad4>\u001b[0m in \u001b[0;36m<module>\u001b[0;34m()\u001b[0m\n\u001b[0;32m----> 1\u001b[0;31m \u001b[0mdict_bracket\u001b[0m\u001b[0;34m[\u001b[0m\u001b[0mstr\u001b[0m\u001b[0;34m(\u001b[0m\u001b[0msen\u001b[0m\u001b[0;34m[\u001b[0m\u001b[0;36m0\u001b[0m\u001b[0;34m]\u001b[0m\u001b[0;34m)\u001b[0m\u001b[0;34m]\u001b[0m\u001b[0;34m\u001b[0m\u001b[0;34m\u001b[0m\u001b[0m\n\u001b[0m",
            "\u001b[0;31mKeyError\u001b[0m: '{ '"
          ]
        }
      ]
    },
    {
      "cell_type": "code",
      "metadata": {
        "id": "SjPBbLWskx5A"
      },
      "source": [
        "s = \"(([]){})\" # 꼭 대칭이 아닐 수 있다. "
      ],
      "execution_count": null,
      "outputs": []
    }
  ]
}