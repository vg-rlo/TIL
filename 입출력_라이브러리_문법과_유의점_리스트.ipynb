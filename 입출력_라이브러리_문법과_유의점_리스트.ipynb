{
  "nbformat": 4,
  "nbformat_minor": 5,
  "metadata": {
    "kernelspec": {
      "name": "python3",
      "display_name": "Python 3"
    },
    "toc": {
      "base_numbering": 1,
      "nav_menu": {},
      "number_sections": true,
      "sideBar": true,
      "skip_h1_title": false,
      "title_cell": "Table of Contents",
      "title_sidebar": "Contents",
      "toc_cell": false,
      "toc_position": {},
      "toc_section_display": true,
      "toc_window_display": false
    },
    "colab": {
      "name": "입출력_라이브러리 문법과 유의점_리스트.ipynb",
      "provenance": [],
      "include_colab_link": true
    },
    "language_info": {
      "name": "python"
    }
  },
  "cells": [
    {
      "cell_type": "markdown",
      "metadata": {
        "id": "view-in-github",
        "colab_type": "text"
      },
      "source": [
        "<a href=\"https://colab.research.google.com/github/vg-rlo/TIL/blob/master/%EC%9E%85%EC%B6%9C%EB%A0%A5_%EB%9D%BC%EC%9D%B4%EB%B8%8C%EB%9F%AC%EB%A6%AC_%EB%AC%B8%EB%B2%95%EA%B3%BC_%EC%9C%A0%EC%9D%98%EC%A0%90_%EB%A6%AC%EC%8A%A4%ED%8A%B8.ipynb\" target=\"_parent\"><img src=\"https://colab.research.google.com/assets/colab-badge.svg\" alt=\"Open In Colab\"/></a>"
      ]
    },
    {
      "cell_type": "markdown",
      "metadata": {
        "id": "painful-privacy"
      },
      "source": [
        "# 주요 라이브러리의 문법과 유의점 \n",
        "* 내장함수: print, input, sorted \n",
        "* itertools: 반복되는 형태의 데이터 처리, 순열과 조합\n",
        "* heapq: Heap\n",
        "* bisect: Binary Search\n",
        "* collections: deque, Counter\n",
        "* math: factorial, 제곱근, 최대공약수(GCD), 삼각함수"
      ],
      "id": "painful-privacy"
    },
    {
      "cell_type": "markdown",
      "metadata": {
        "id": "muslim-moses"
      },
      "source": [
        "## 내장 함수 "
      ],
      "id": "muslim-moses"
    },
    {
      "cell_type": "code",
      "metadata": {
        "colab": {
          "base_uri": "https://localhost:8080/"
        },
        "id": "greenhouse-lying",
        "outputId": "0d33d963-f563-4cce-f7d4-c9cb2927537b"
      },
      "source": [
        "result = sum([1, 2, 3, 4, 5])\n",
        "print(result)"
      ],
      "id": "greenhouse-lying",
      "execution_count": null,
      "outputs": [
        {
          "output_type": "stream",
          "text": [
            "15\n"
          ],
          "name": "stdout"
        }
      ]
    },
    {
      "cell_type": "code",
      "metadata": {
        "colab": {
          "base_uri": "https://localhost:8080/"
        },
        "id": "superb-surfing",
        "outputId": "ca59affd-7a35-40d3-95dd-953e6acf29bf"
      },
      "source": [
        "result = min(7, 3, 5, 2)\n",
        "print(result)"
      ],
      "id": "superb-surfing",
      "execution_count": null,
      "outputs": [
        {
          "output_type": "stream",
          "text": [
            "2\n"
          ],
          "name": "stdout"
        }
      ]
    },
    {
      "cell_type": "code",
      "metadata": {
        "colab": {
          "base_uri": "https://localhost:8080/"
        },
        "id": "secondary-terror",
        "outputId": "8937f211-65a9-4ebc-ee50-9d2b1e268333"
      },
      "source": [
        "result = max(7, 3, 5, 2)\n",
        "print(result)"
      ],
      "id": "secondary-terror",
      "execution_count": null,
      "outputs": [
        {
          "output_type": "stream",
          "text": [
            "7\n"
          ],
          "name": "stdout"
        }
      ]
    },
    {
      "cell_type": "code",
      "metadata": {
        "colab": {
          "base_uri": "https://localhost:8080/"
        },
        "id": "faced-halloween",
        "outputId": "65c451d7-f968-4754-ef5d-b8a8f786ab62"
      },
      "source": [
        "result = eval(\"(3 + 5) * 7\")\n",
        "print(result)"
      ],
      "id": "faced-halloween",
      "execution_count": null,
      "outputs": [
        {
          "output_type": "stream",
          "text": [
            "56\n"
          ],
          "name": "stdout"
        }
      ]
    },
    {
      "cell_type": "code",
      "metadata": {
        "colab": {
          "base_uri": "https://localhost:8080/"
        },
        "id": "infectious-lobby",
        "outputId": "2f13fc72-32e1-4d01-ce12-a8eb49d9672d"
      },
      "source": [
        "# sorted: iterable 객체를 정렬하는 결과를 반환 \n",
        "# key 속성: 정렬 기준을 명시할 수 있음\n",
        "result = sorted([9, 1, 8, 5, 4])\n",
        "print(result)\n",
        "result = sorted([9, 1, 8, 5, 4], reverse = True)\n",
        "print(result)"
      ],
      "id": "infectious-lobby",
      "execution_count": null,
      "outputs": [
        {
          "output_type": "stream",
          "text": [
            "[1, 4, 5, 8, 9]\n",
            "[9, 8, 5, 4, 1]\n"
          ],
          "name": "stdout"
        }
      ]
    },
    {
      "cell_type": "code",
      "metadata": {
        "id": "prXcAJJGPszB",
        "outputId": "bb5bfe71-5cf0-4de4-a2f3-b92728db33df",
        "colab": {
          "base_uri": "https://localhost:8080/"
        }
      },
      "source": [
        "result = sorted([('홍길동', 35), ('이순신', 75), ('아무개', 50)], key = lambda x:x[1], reverse = True)\n",
        "print(result)"
      ],
      "id": "prXcAJJGPszB",
      "execution_count": 1,
      "outputs": [
        {
          "output_type": "stream",
          "text": [
            "[('이순신', 75), ('아무개', 50), ('홍길동', 35)]\n"
          ],
          "name": "stdout"
        }
      ]
    },
    {
      "cell_type": "code",
      "metadata": {
        "colab": {
          "base_uri": "https://localhost:8080/"
        },
        "id": "latter-crowd",
        "outputId": "a8520779-dd29-495d-8790-c24da631d79a"
      },
      "source": [
        "data = [9, 1, 8, 5, 4]\n",
        "data.sort()\n",
        "print(data)"
      ],
      "id": "latter-crowd",
      "execution_count": null,
      "outputs": [
        {
          "output_type": "stream",
          "text": [
            "[1, 4, 5, 8, 9]\n"
          ],
          "name": "stdout"
        }
      ]
    },
    {
      "cell_type": "markdown",
      "metadata": {
        "id": "pending-ideal"
      },
      "source": [
        "## itertools\n",
        "* permutations: r개의 데이터를 뽑아 일렬로 나열하는 모든 경우(순열) 계산 \n",
        "* combinations: r개의 데이터를 뽑아 순서를 고려하지 않고 나열하는 모든 경우(조합) 계산"
      ],
      "id": "pending-ideal"
    },
    {
      "cell_type": "code",
      "metadata": {
        "scrolled": true,
        "colab": {
          "base_uri": "https://localhost:8080/"
        },
        "id": "suburban-works",
        "outputId": "a7035374-c548-493e-f610-0698b375370e"
      },
      "source": [
        "from itertools import permutations \n",
        "\n",
        "data = ['A', 'B', 'C'] # 데이터 준비 \n",
        "result = list(permutations(data, 3))\n",
        "print(result)"
      ],
      "id": "suburban-works",
      "execution_count": null,
      "outputs": [
        {
          "output_type": "stream",
          "text": [
            "[('A', 'B', 'C'), ('A', 'C', 'B'), ('B', 'A', 'C'), ('B', 'C', 'A'), ('C', 'A', 'B'), ('C', 'B', 'A')]\n"
          ],
          "name": "stdout"
        }
      ]
    },
    {
      "cell_type": "code",
      "metadata": {
        "colab": {
          "base_uri": "https://localhost:8080/"
        },
        "id": "written-diesel",
        "outputId": "d18e51f8-c083-470b-c071-29ee74901352"
      },
      "source": [
        "from itertools import combinations\n",
        "\n",
        "data = ['A', 'B', 'C']\n",
        "result = list(combinations(data, 2))\n",
        "print(result)"
      ],
      "id": "written-diesel",
      "execution_count": null,
      "outputs": [
        {
          "output_type": "stream",
          "text": [
            "[('A', 'B'), ('A', 'C'), ('B', 'C')]\n"
          ],
          "name": "stdout"
        }
      ]
    },
    {
      "cell_type": "code",
      "metadata": {
        "scrolled": true,
        "colab": {
          "base_uri": "https://localhost:8080/"
        },
        "id": "artificial-estate",
        "outputId": "b456f60c-10dc-4225-e065-4d2b3d719c03"
      },
      "source": [
        "from itertools import product \n",
        "\n",
        "data = ['A', 'B', 'C'] # 데이터 준비 \n",
        "result = list(product(data, repeat=2))\n",
        "print(result)"
      ],
      "id": "artificial-estate",
      "execution_count": null,
      "outputs": [
        {
          "output_type": "stream",
          "text": [
            "[('A', 'A'), ('A', 'B'), ('A', 'C'), ('B', 'A'), ('B', 'B'), ('B', 'C'), ('C', 'A'), ('C', 'B'), ('C', 'C')]\n"
          ],
          "name": "stdout"
        }
      ]
    },
    {
      "cell_type": "code",
      "metadata": {
        "colab": {
          "base_uri": "https://localhost:8080/"
        },
        "id": "reduced-belfast",
        "outputId": "6f6ce517-a1ae-4213-a101-10d7afc133b1"
      },
      "source": [
        "from itertools import combinations_with_replacement \n",
        "\n",
        "data = ['A', 'B', 'C'] # 데이터 준비 \n",
        "result = list(combinations_with_replacement(data, 2))\n",
        "print(result)"
      ],
      "id": "reduced-belfast",
      "execution_count": null,
      "outputs": [
        {
          "output_type": "stream",
          "text": [
            "[('A', 'A'), ('A', 'B'), ('A', 'C'), ('B', 'B'), ('B', 'C'), ('C', 'C')]\n"
          ],
          "name": "stdout"
        }
      ]
    },
    {
      "cell_type": "markdown",
      "metadata": {
        "id": "abroad-royalty"
      },
      "source": [
        "## heapq"
      ],
      "id": "abroad-royalty"
    },
    {
      "cell_type": "code",
      "metadata": {
        "colab": {
          "base_uri": "https://localhost:8080/"
        },
        "id": "parallel-graduate",
        "outputId": "afb6fc1e-6a7b-4b0e-bb79-35b52ba37c51"
      },
      "source": [
        "import heapq \n",
        "\n",
        "def heapsort(iterable):\n",
        "    h = []\n",
        "    result = []\n",
        "    \n",
        "    # 모든 원소를 차례대로 힙에 삽입 \n",
        "    for value in iterable: \n",
        "        heapq.heappush(h, value)\n",
        "    # 힙에 삽입된 모든 원소를 차례대로 꺼내어 담기 \n",
        "    for i in range(len(h)):\n",
        "        result.append(heapq.heappop(h))\n",
        "    return result \n",
        "\n",
        "result = heapsort([1, 3, 5, 7, 9, 2, 4, 6, 8, 0])\n",
        "print(result)"
      ],
      "id": "parallel-graduate",
      "execution_count": null,
      "outputs": [
        {
          "output_type": "stream",
          "text": [
            "[0, 1, 2, 3, 4, 5, 6, 7, 8, 9]\n"
          ],
          "name": "stdout"
        }
      ]
    },
    {
      "cell_type": "code",
      "metadata": {
        "colab": {
          "base_uri": "https://localhost:8080/"
        },
        "id": "clear-pathology",
        "outputId": "23091711-dcb9-4053-f9c6-c35a7a9ddf1f"
      },
      "source": [
        "import heapq \n",
        "\n",
        "def heapsort(iterable):\n",
        "    h = []\n",
        "    result = []\n",
        "    \n",
        "    # 모든 원소를 차례대로 힙에 삽입 \n",
        "    for value in iterable: \n",
        "        heapq.heappush(h, -value)\n",
        "    # 힙에 삽입된 모든 원소를 차례대로 꺼내어 담기 \n",
        "    for i in range(len(h)):\n",
        "        result.append(-heapq.heappop(h))\n",
        "    return result \n",
        "\n",
        "result = heapsort([1, 3, 5, 7, 9, 2, 4, 6, 8, 0])\n",
        "print(result)"
      ],
      "id": "clear-pathology",
      "execution_count": null,
      "outputs": [
        {
          "output_type": "stream",
          "text": [
            "[9, 8, 7, 6, 5, 4, 3, 2, 1, 0]\n"
          ],
          "name": "stdout"
        }
      ]
    },
    {
      "cell_type": "markdown",
      "metadata": {
        "id": "major-worthy"
      },
      "source": [
        "## bisect"
      ],
      "id": "major-worthy"
    },
    {
      "cell_type": "code",
      "metadata": {
        "colab": {
          "base_uri": "https://localhost:8080/"
        },
        "id": "current-amplifier",
        "outputId": "2068e198-1b6f-4466-b0c8-1473d406981c"
      },
      "source": [
        "from bisect import bisect_left, bisect_right \n",
        "\n",
        "a = [1, 2, 4, 4, 8]\n",
        "x = 4\n",
        "\n",
        "print(bisect_left(a, x))\n",
        "print(bisect_right(a, x))"
      ],
      "id": "current-amplifier",
      "execution_count": null,
      "outputs": [
        {
          "output_type": "stream",
          "text": [
            "2\n",
            "4\n"
          ],
          "name": "stdout"
        }
      ]
    },
    {
      "cell_type": "code",
      "metadata": {
        "id": "spoken-humanitarian"
      },
      "source": [
        "from bisect import bisect_left, bisect_right \n",
        "\n",
        "# 값이 [left_value, right_value]인 데이터의 개수를 반환하는 함수\n",
        "def count_by_range(a, left_value, right_value):\n",
        "    right_index = bisect_right(a, right_value)\n",
        "    left_index = bisect_left(a, left_value)\n",
        "    return right_index - left_index"
      ],
      "id": "spoken-humanitarian",
      "execution_count": null,
      "outputs": []
    },
    {
      "cell_type": "code",
      "metadata": {
        "id": "welsh-marsh"
      },
      "source": [
        "a = [1, 2, 3, 3, 3, 3, 4, 4, 8, 9]"
      ],
      "id": "welsh-marsh",
      "execution_count": null,
      "outputs": []
    },
    {
      "cell_type": "code",
      "metadata": {
        "colab": {
          "base_uri": "https://localhost:8080/"
        },
        "id": "chief-marks",
        "outputId": "881c96b3-b8eb-42b5-e5ac-a733e380e3d4"
      },
      "source": [
        "# 값이 4인 데이터 개수 출력 \n",
        "print(count_by_range(a, 4, 4))\n",
        "\n",
        "# 값이 [-1, 3] 범위에 있는 데이터 개수 출력 \n",
        "print(count_by_range(a, -1, 3))"
      ],
      "id": "chief-marks",
      "execution_count": null,
      "outputs": [
        {
          "output_type": "stream",
          "text": [
            "2\n",
            "6\n"
          ],
          "name": "stdout"
        }
      ]
    },
    {
      "cell_type": "code",
      "metadata": {
        "colab": {
          "base_uri": "https://localhost:8080/"
        },
        "id": "worldwide-sympathy",
        "outputId": "d8b9786d-e353-4e15-808a-b5808c8ef6e1"
      },
      "source": [
        "from collections import deque \n",
        "\n",
        "data = deque([2, 3, 4])\n",
        "data.appendleft(1)\n",
        "data.append(5)\n",
        "\n",
        "print(data)\n",
        "print(list(data))"
      ],
      "id": "worldwide-sympathy",
      "execution_count": null,
      "outputs": [
        {
          "output_type": "stream",
          "text": [
            "deque([1, 2, 3, 4, 5])\n",
            "[1, 2, 3, 4, 5]\n"
          ],
          "name": "stdout"
        }
      ]
    },
    {
      "cell_type": "code",
      "metadata": {
        "scrolled": true,
        "colab": {
          "base_uri": "https://localhost:8080/"
        },
        "id": "strange-particle",
        "outputId": "c87ee5cd-cab3-4ad5-9663-676502c9816a"
      },
      "source": [
        "from collections import Counter \n",
        "\n",
        "counter = Counter(['red', 'blue', 'red', 'green', 'blue', 'blue'])\n",
        "\n",
        "print(counter['blue'])\n",
        "print(counter['green'])\n",
        "print(dict(counter))"
      ],
      "id": "strange-particle",
      "execution_count": null,
      "outputs": [
        {
          "output_type": "stream",
          "text": [
            "3\n",
            "1\n",
            "{'red': 2, 'blue': 3, 'green': 1}\n"
          ],
          "name": "stdout"
        }
      ]
    },
    {
      "cell_type": "markdown",
      "metadata": {
        "id": "functioning-xerox"
      },
      "source": [
        "## math"
      ],
      "id": "functioning-xerox"
    },
    {
      "cell_type": "code",
      "metadata": {
        "colab": {
          "base_uri": "https://localhost:8080/"
        },
        "id": "precious-butler",
        "outputId": "0f39af15-1633-4e17-adf3-28b2217ed8bd"
      },
      "source": [
        "import math\n",
        "print(math.factorial(5))"
      ],
      "id": "precious-butler",
      "execution_count": null,
      "outputs": [
        {
          "output_type": "stream",
          "text": [
            "120\n"
          ],
          "name": "stdout"
        }
      ]
    },
    {
      "cell_type": "code",
      "metadata": {
        "colab": {
          "base_uri": "https://localhost:8080/"
        },
        "id": "violent-indonesian",
        "outputId": "797859e6-986c-4b91-84a4-76406c40b703"
      },
      "source": [
        "import math\n",
        "print(math.sqrt(7))"
      ],
      "id": "violent-indonesian",
      "execution_count": null,
      "outputs": [
        {
          "output_type": "stream",
          "text": [
            "2.6457513110645907\n"
          ],
          "name": "stdout"
        }
      ]
    },
    {
      "cell_type": "code",
      "metadata": {
        "colab": {
          "base_uri": "https://localhost:8080/"
        },
        "id": "transparent-organ",
        "outputId": "b0320174-4c84-45f0-e6a5-9a2cbf31fc78"
      },
      "source": [
        "import math \n",
        "print(math.gcd(21, 14))"
      ],
      "id": "transparent-organ",
      "execution_count": null,
      "outputs": [
        {
          "output_type": "stream",
          "text": [
            "7\n"
          ],
          "name": "stdout"
        }
      ]
    },
    {
      "cell_type": "code",
      "metadata": {
        "colab": {
          "base_uri": "https://localhost:8080/"
        },
        "id": "honey-olive",
        "outputId": "34441418-182b-422c-bd75-8b9438d4d33e"
      },
      "source": [
        "import math \n",
        "\n",
        "print(math.pi)\n",
        "print(math.e)"
      ],
      "id": "honey-olive",
      "execution_count": null,
      "outputs": [
        {
          "output_type": "stream",
          "text": [
            "3.141592653589793\n",
            "2.718281828459045\n"
          ],
          "name": "stdout"
        }
      ]
    },
    {
      "cell_type": "markdown",
      "metadata": {
        "id": "seasonal-stereo"
      },
      "source": [
        "# 입출력 "
      ],
      "id": "seasonal-stereo"
    },
    {
      "cell_type": "code",
      "metadata": {
        "scrolled": true,
        "colab": {
          "base_uri": "https://localhost:8080/"
        },
        "id": "dependent-simon",
        "outputId": "6340f38a-9e49-43a1-c51a-07424a744488"
      },
      "source": [
        "list(map(int, input().split()))"
      ],
      "id": "dependent-simon",
      "execution_count": null,
      "outputs": [
        {
          "output_type": "stream",
          "text": [
            "2 3 4\n"
          ],
          "name": "stdout"
        },
        {
          "output_type": "execute_result",
          "data": {
            "text/plain": [
              "[2, 3, 4]"
            ]
          },
          "metadata": {
            "tags": []
          },
          "execution_count": 23
        }
      ]
    },
    {
      "cell_type": "code",
      "metadata": {
        "scrolled": false,
        "colab": {
          "base_uri": "https://localhost:8080/",
          "height": 248
        },
        "id": "upper-queen",
        "outputId": "981e73af-1493-4683-f2d3-46eea8d1c4e1"
      },
      "source": [
        "# 데이터 개수 입력 \n",
        "n = int(input())\n",
        "# 각 데이터를 공백으로 구분하여 입력 \n",
        "data = list(map(int, input().split()))\n",
        "\n",
        "data.sort(reverse = True)\n",
        "print(data)"
      ],
      "id": "upper-queen",
      "execution_count": null,
      "outputs": [
        {
          "output_type": "stream",
          "text": [
            "2 5 \n"
          ],
          "name": "stdout"
        },
        {
          "output_type": "error",
          "ename": "ValueError",
          "evalue": "ignored",
          "traceback": [
            "\u001b[0;31m---------------------------------------------------------------------------\u001b[0m",
            "\u001b[0;31mValueError\u001b[0m                                Traceback (most recent call last)",
            "\u001b[0;32m<ipython-input-24-6a6db3d17f7f>\u001b[0m in \u001b[0;36m<module>\u001b[0;34m()\u001b[0m\n\u001b[1;32m      1\u001b[0m \u001b[0;31m# 데이터 개수 입력\u001b[0m\u001b[0;34m\u001b[0m\u001b[0;34m\u001b[0m\u001b[0;34m\u001b[0m\u001b[0m\n\u001b[0;32m----> 2\u001b[0;31m \u001b[0mn\u001b[0m \u001b[0;34m=\u001b[0m \u001b[0mint\u001b[0m\u001b[0;34m(\u001b[0m\u001b[0minput\u001b[0m\u001b[0;34m(\u001b[0m\u001b[0;34m)\u001b[0m\u001b[0;34m)\u001b[0m\u001b[0;34m\u001b[0m\u001b[0;34m\u001b[0m\u001b[0m\n\u001b[0m\u001b[1;32m      3\u001b[0m \u001b[0;31m# 각 데이터를 공백으로 구분하여 입력\u001b[0m\u001b[0;34m\u001b[0m\u001b[0;34m\u001b[0m\u001b[0;34m\u001b[0m\u001b[0m\n\u001b[1;32m      4\u001b[0m \u001b[0mdata\u001b[0m \u001b[0;34m=\u001b[0m \u001b[0mlist\u001b[0m\u001b[0;34m(\u001b[0m\u001b[0mmap\u001b[0m\u001b[0;34m(\u001b[0m\u001b[0mint\u001b[0m\u001b[0;34m,\u001b[0m \u001b[0minput\u001b[0m\u001b[0;34m(\u001b[0m\u001b[0;34m)\u001b[0m\u001b[0;34m.\u001b[0m\u001b[0msplit\u001b[0m\u001b[0;34m(\u001b[0m\u001b[0;34m)\u001b[0m\u001b[0;34m)\u001b[0m\u001b[0;34m)\u001b[0m\u001b[0;34m\u001b[0m\u001b[0;34m\u001b[0m\u001b[0m\n\u001b[1;32m      5\u001b[0m \u001b[0;34m\u001b[0m\u001b[0m\n",
            "\u001b[0;31mValueError\u001b[0m: invalid literal for int() with base 10: '2 5 '"
          ]
        }
      ]
    },
    {
      "cell_type": "code",
      "metadata": {
        "id": "circular-twelve"
      },
      "source": [
        "# n, m, k를 공백으로 구분하여 ㅇ입력 \n",
        "n, m, k = map(int, input().split())\n",
        "print(n, m, k)"
      ],
      "id": "circular-twelve",
      "execution_count": null,
      "outputs": []
    },
    {
      "cell_type": "markdown",
      "metadata": {
        "id": "sapphire-insurance"
      },
      "source": [
        "* 파이썬 기본 함수인 input()은 동작속도가 느림 "
      ],
      "id": "sapphire-insurance"
    },
    {
      "cell_type": "code",
      "metadata": {
        "scrolled": true,
        "id": "amended-hybrid"
      },
      "source": [
        "import sys\n",
        "\n",
        "sys.stdin.readline().rstrip()"
      ],
      "id": "amended-hybrid",
      "execution_count": null,
      "outputs": []
    },
    {
      "cell_type": "code",
      "metadata": {
        "scrolled": false,
        "id": "hidden-recycling"
      },
      "source": [
        "import sys \n",
        "\n",
        "# 문자열 입력받기 \n",
        "data = sys.stdin.readline().rstrip()\n",
        "print(data)"
      ],
      "id": "hidden-recycling",
      "execution_count": null,
      "outputs": []
    },
    {
      "cell_type": "code",
      "metadata": {
        "scrolled": true,
        "id": "beneficial-mistake"
      },
      "source": [
        "a = 1\n",
        "b = a\n",
        "print(a, b)"
      ],
      "id": "beneficial-mistake",
      "execution_count": null,
      "outputs": []
    },
    {
      "cell_type": "code",
      "metadata": {
        "id": "tender-protocol"
      },
      "source": [
        "a = 1\n",
        "b = 2\n",
        "\n",
        "print(a)\n",
        "print(b)"
      ],
      "id": "tender-protocol",
      "execution_count": null,
      "outputs": []
    },
    {
      "cell_type": "code",
      "metadata": {
        "scrolled": true,
        "id": "secondary-parks"
      },
      "source": [
        "answer = 7\n",
        "print(\"정답은 \"+ str(answer) + \"입니다.\")"
      ],
      "id": "secondary-parks",
      "execution_count": null,
      "outputs": []
    },
    {
      "cell_type": "code",
      "metadata": {
        "scrolled": true,
        "id": "specialized-future"
      },
      "source": [
        "# 자료형 변환 없이 출력 가능 \n",
        "print(f'정답은str(answer)입니다.')\n",
        "print(f'정답은 {answer} 입니다.')"
      ],
      "id": "specialized-future",
      "execution_count": null,
      "outputs": []
    },
    {
      "cell_type": "markdown",
      "metadata": {
        "id": "silent-repository"
      },
      "source": [
        "# 리스트 자료형 \n",
        "\n",
        "* python의 리스트 자료형은 C나 자바와 같은 프로그래밍 언어의 배열 기능을 포함한다. \n",
        "* C++의 STL vector와 유사하다. "
      ],
      "id": "silent-repository"
    },
    {
      "cell_type": "markdown",
      "metadata": {
        "id": "funded-playing"
      },
      "source": [
        "| func    | O        |\n",
        "|---------|----------|\n",
        "| append  | O(1)     |\n",
        "| sort    | O(NlogN) |\n",
        "| reverse | O(N)     |\n",
        "| insert  | O(N)     |\n",
        "| count   | O(N)     |\n",
        "| remove  | O(N)     |"
      ],
      "id": "funded-playing"
    },
    {
      "cell_type": "code",
      "metadata": {
        "id": "alternate-emission"
      },
      "source": [
        "a = [1, 2, 3, 4, 5, 6, 7, 8, 9]\n",
        "print(a)"
      ],
      "id": "alternate-emission",
      "execution_count": null,
      "outputs": []
    },
    {
      "cell_type": "code",
      "metadata": {
        "id": "representative-combat"
      },
      "source": [
        "# 인덱스 4, 즉 다섯번째 원소에 접근\n",
        "print(a[4])"
      ],
      "id": "representative-combat",
      "execution_count": null,
      "outputs": []
    },
    {
      "cell_type": "code",
      "metadata": {
        "id": "guilty-wright"
      },
      "source": [
        "# 빈 리스트 선언 \n",
        "a = list()\n",
        "print(a)"
      ],
      "id": "guilty-wright",
      "execution_count": null,
      "outputs": []
    },
    {
      "cell_type": "code",
      "metadata": {
        "id": "likely-weather"
      },
      "source": [
        "# 빈 리스트 선언 \n",
        "a = [] \n",
        "print(a)"
      ],
      "id": "likely-weather",
      "execution_count": null,
      "outputs": []
    },
    {
      "cell_type": "code",
      "metadata": {
        "id": "respected-remainder"
      },
      "source": [
        "# 크기가 N이고, 모든 값이 0인 1차원 리스트 초기화 \n",
        "n = 10 \n",
        "a = [0] * n\n",
        "print(a)"
      ],
      "id": "respected-remainder",
      "execution_count": null,
      "outputs": []
    },
    {
      "cell_type": "markdown",
      "metadata": {
        "id": "complete-north"
      },
      "source": [
        "## 리스트의 인덱싱과 슬라이싱 \n",
        "* 음수는 거꾸로 탐색 "
      ],
      "id": "complete-north"
    },
    {
      "cell_type": "code",
      "metadata": {
        "id": "smoking-support"
      },
      "source": [
        "a = [1, 2, 3, 4, 5, 6, 7, 8, 9]\n",
        "# 뒤에서 첫번째 원소 출력 \n",
        "print(a[-1])"
      ],
      "id": "smoking-support",
      "execution_count": null,
      "outputs": []
    },
    {
      "cell_type": "code",
      "metadata": {
        "id": "incorporate-telling"
      },
      "source": [
        "# 뒤에서 세번째 원소 출력 \n",
        "print(a[-3])"
      ],
      "id": "incorporate-telling",
      "execution_count": null,
      "outputs": []
    },
    {
      "cell_type": "code",
      "metadata": {
        "id": "wicked-blank"
      },
      "source": [
        "# 네번째 원소값 변경 \n",
        "a[3] = 7\n",
        "print(a)"
      ],
      "id": "wicked-blank",
      "execution_count": null,
      "outputs": []
    },
    {
      "cell_type": "code",
      "metadata": {
        "id": "local-longer"
      },
      "source": [
        "a = [1, 2, 3, 4, 5, 6, 7, 8, 9]\n",
        "\n",
        "# 두번째 원소부터 네번째 원소까지 \n",
        "print(a[1:4])"
      ],
      "id": "local-longer",
      "execution_count": null,
      "outputs": []
    },
    {
      "cell_type": "markdown",
      "metadata": {
        "id": "capital-empire"
      },
      "source": [
        "## 리스트 컴프리헨션 "
      ],
      "id": "capital-empire"
    },
    {
      "cell_type": "code",
      "metadata": {
        "id": "complimentary-humidity"
      },
      "source": [
        "array = [i for i in range(20) if i % 2 == 1]\n",
        "print(array)"
      ],
      "id": "complimentary-humidity",
      "execution_count": null,
      "outputs": []
    },
    {
      "cell_type": "code",
      "metadata": {
        "id": "painful-skating"
      },
      "source": [
        "array = []\n",
        "for i in range(20):\n",
        "    if i % 2 == 1:\n",
        "        array.append(i)\n",
        "\n",
        "print(array)"
      ],
      "id": "painful-skating",
      "execution_count": null,
      "outputs": []
    },
    {
      "cell_type": "code",
      "metadata": {
        "id": "boring-farming"
      },
      "source": [
        "# 1부터 9까지의 수의 제곱값을 포함하는 리스트 \n",
        "array = [i * i for i in range(1, 10)]\n",
        "print(array)"
      ],
      "id": "boring-farming",
      "execution_count": null,
      "outputs": []
    },
    {
      "cell_type": "code",
      "metadata": {
        "id": "overall-intensity"
      },
      "source": [
        "# N x M 크기의 2차원 리스트 초기화 \n",
        "n = 3\n",
        "m = 3 \n",
        "array = [[0] * m for _ in range(n)]\n",
        "print(array)"
      ],
      "id": "overall-intensity",
      "execution_count": null,
      "outputs": []
    },
    {
      "cell_type": "code",
      "metadata": {
        "id": "trying-titanium"
      },
      "source": [
        "# N x M 크기의 2차원 리스트 초기화 \n",
        "n = 3\n",
        "m = 4 \n",
        "array = [[0] * m for _ in range(n)]\n",
        "print(array)"
      ],
      "id": "trying-titanium",
      "execution_count": null,
      "outputs": []
    },
    {
      "cell_type": "code",
      "metadata": {
        "id": "social-atlas"
      },
      "source": [
        "array[1][1] = 5\n",
        "print(array)"
      ],
      "id": "social-atlas",
      "execution_count": null,
      "outputs": []
    },
    {
      "cell_type": "code",
      "metadata": {
        "id": "split-hanging"
      },
      "source": [
        "a = [1, 4, 3]\n",
        "print(\"기본 리스트:\", a)\n",
        "\n",
        "# 리스트에 원소 삽입 \n",
        "a.append(2)\n",
        "print(\"삽입: \", a)\n",
        "\n",
        "# 오름차순 정렬 \n",
        "a.sort()\n",
        "print(\"오름차순 정렬: \", a)\n",
        "\n",
        "# 내림차순 정렬\n",
        "a.sort(reverse = True)\n",
        "print(\"내림차순 정렬: \", a)\n",
        "\n",
        "# 리스트 원소 뒤집기 \n",
        "a.reverse()\n",
        "print(\"원소 뒤집기: \", a)\n",
        "\n",
        "# 특정 인덱스에 데이터 추가 \n",
        "a.insert(2, 3)\n",
        "print(\"인덱스 2에 3 추가: \", a)\n",
        "\n",
        "# 특정 값인 데이터 개수 세기 \n",
        "print(\"값이 3인 데이터 개수: \", a.count(3))\n",
        "\n",
        "# 특정 값 데이터 삭제 \n",
        "a.remove(1)\n",
        "print(\"값이 1인 데이터 삭제: \", a)"
      ],
      "id": "split-hanging",
      "execution_count": null,
      "outputs": []
    },
    {
      "cell_type": "code",
      "metadata": {
        "id": "chemical-hindu"
      },
      "source": [
        "a = [1, 2, 3, 4, 5, 5, 5]\n",
        "remove_set = [3, 5]\n",
        "\n",
        "# remove_set에 포함되지 않은 값만을 저장 \n",
        "result = [i for i in a if i not in remove_set]\n",
        "print(result)"
      ],
      "id": "chemical-hindu",
      "execution_count": null,
      "outputs": []
    },
    {
      "cell_type": "markdown",
      "metadata": {
        "id": "interracial-setting"
      },
      "source": [
        "# 문자열 자료형 \n",
        "## 문자열 초기화"
      ],
      "id": "interracial-setting"
    },
    {
      "cell_type": "code",
      "metadata": {
        "id": "active-hurricane"
      },
      "source": [
        "data = 'Hello World'\n",
        "print(data)"
      ],
      "id": "active-hurricane",
      "execution_count": null,
      "outputs": []
    },
    {
      "cell_type": "code",
      "metadata": {
        "id": "interesting-onion"
      },
      "source": [
        "data = \"Don't you know \\\"Python\\\"?\" # 큰 따옴표, 작은 따옴표를 \\\\ 사이에 넣음\n",
        "print(data)"
      ],
      "id": "interesting-onion",
      "execution_count": null,
      "outputs": []
    },
    {
      "cell_type": "markdown",
      "metadata": {
        "id": "wooden-reynolds"
      },
      "source": [
        "## 문자열 연산"
      ],
      "id": "wooden-reynolds"
    },
    {
      "cell_type": "code",
      "metadata": {
        "id": "spanish-montgomery"
      },
      "source": [
        "a = \"Hello\"\n",
        "b = \"World\"\n",
        "\n",
        "print(a + \" \" + b)"
      ],
      "id": "spanish-montgomery",
      "execution_count": null,
      "outputs": []
    },
    {
      "cell_type": "code",
      "metadata": {
        "id": "cardiac-imagination"
      },
      "source": [
        "a = \"String\"\n",
        "print(a * 3)"
      ],
      "id": "cardiac-imagination",
      "execution_count": null,
      "outputs": []
    },
    {
      "cell_type": "code",
      "metadata": {
        "id": "configured-baking"
      },
      "source": [
        "a = \"ABCDEF\"\n",
        "print(a[2:4])"
      ],
      "id": "configured-baking",
      "execution_count": null,
      "outputs": []
    },
    {
      "cell_type": "markdown",
      "metadata": {
        "id": "constitutional-edinburgh"
      },
      "source": [
        "## 튜플 자료형\n",
        "* Tuple은 한번 선언된 값을 변경할 수 없다. \n",
        "* 튜플이 알고리즘 테스트에서 어떻게 쓰이나? \n",
        "    - 다익스트라는 최단 경로 알고리즘에서 최단 경로를 찾아주는 알고리즘 내부에서 우선순위 큐를 사용할 때, 우선순위 큐에 한 번 들어간 값은 변경되지 않는다. 그래서 우선순위 큐에 들어가는 데이터를 튜플로 구성한다. \n",
        "    - 원소가 성질이 서로 다를 때 주로 사용 e.g. 비용, 노드 번호"
      ],
      "id": "constitutional-edinburgh"
    },
    {
      "cell_type": "markdown",
      "metadata": {
        "id": "fantastic-happening"
      },
      "source": [
        "# 사전 자료형\n",
        "## 사전 자료형 소개 \n",
        "* 내부적으로 해시 테이블을 이용하여 데이터 검색 및 수정에서 O(1)의 시간 소요"
      ],
      "id": "fantastic-happening"
    },
    {
      "cell_type": "code",
      "metadata": {
        "scrolled": true,
        "id": "administrative-scale"
      },
      "source": [
        "a = (1, 2, 3, 4)\n",
        "print(a)\n",
        "\n",
        "a[2] = 7"
      ],
      "id": "administrative-scale",
      "execution_count": null,
      "outputs": []
    },
    {
      "cell_type": "code",
      "metadata": {
        "id": "delayed-georgia"
      },
      "source": [
        "data = dict()\n",
        "data['사과'] = 'Apple'\n",
        "data['바나나'] = 'Banana'\n",
        "data['코코넛'] = 'Coconut'"
      ],
      "id": "delayed-georgia",
      "execution_count": null,
      "outputs": []
    },
    {
      "cell_type": "code",
      "metadata": {
        "id": "covered-chambers"
      },
      "source": [
        "data = dict()\n",
        "data['사과'] = 'Apple'\n",
        "data['바나나'] = 'Banana'\n",
        "data['코코넛'] = 'Coconut'\n",
        "\n",
        "if '사과' in data:\n",
        "    print(\"'사과'를 키로 가지는 데이터가 존재합니다.\")"
      ],
      "id": "covered-chambers",
      "execution_count": null,
      "outputs": []
    },
    {
      "cell_type": "markdown",
      "metadata": {
        "id": "sapphire-overall"
      },
      "source": [
        "## 사전 자료형 관련 함수 "
      ],
      "id": "sapphire-overall"
    },
    {
      "cell_type": "code",
      "metadata": {
        "id": "adapted-newton"
      },
      "source": [
        "data = dict()\n",
        "data['사과'] = 'Apple'\n",
        "data['바나나'] = 'Banana'\n",
        "data['코코넛'] = 'Coconut'\n",
        "\n",
        "# 키 데이터만 담은 리스트 \n",
        "key_list = data.keys()\n",
        "# 값 데이터만 담은 리스트 \n",
        "value_list = data.values()\n",
        "print(key_list)\n",
        "print(value_list)\n",
        "\n",
        "# 각 키에 따른 값을 하나씩 출력\n",
        "for key in key_list:\n",
        "    print(data[key])"
      ],
      "id": "adapted-newton",
      "execution_count": null,
      "outputs": []
    },
    {
      "cell_type": "markdown",
      "metadata": {
        "id": "nominated-roman"
      },
      "source": [
        "# 집합 자료형 \n",
        "## 집합 자료형 소개\n",
        "* 중복을 허용하지 않는다.\n",
        "* 순서가 없다."
      ],
      "id": "nominated-roman"
    },
    {
      "cell_type": "code",
      "metadata": {
        "id": "thirty-highlight"
      },
      "source": [
        "# 집합 자료형 초기화 방법1\n",
        "data = set([1, 1, 2, 3, 4, 4, 5])\n",
        "print(data)\n",
        "\n",
        "# 집합 자료형 초기화 방법2\n",
        "data = {1, 1, 2, 3, 4, 4, 5}\n",
        "print(data)"
      ],
      "id": "thirty-highlight",
      "execution_count": null,
      "outputs": []
    },
    {
      "cell_type": "markdown",
      "metadata": {
        "id": "modified-quantum"
      },
      "source": [
        "## 집합 자료형의 연산"
      ],
      "id": "modified-quantum"
    },
    {
      "cell_type": "code",
      "metadata": {
        "id": "super-andrews"
      },
      "source": [
        "a = set([1, 2, 3, 4, 5])\n",
        "b = set([3, 4, 5, 6, 7])\n",
        "\n",
        "print(a | b) # 합집합 \n",
        "print(a & b) # 교집합 \n",
        "print(a - b) # 차집합 "
      ],
      "id": "super-andrews",
      "execution_count": null,
      "outputs": []
    },
    {
      "cell_type": "markdown",
      "metadata": {
        "id": "oriented-madison"
      },
      "source": [
        "## 집합 자료형 관련 함수"
      ],
      "id": "oriented-madison"
    },
    {
      "cell_type": "code",
      "metadata": {
        "id": "placed-surgeon"
      },
      "source": [
        "data = set([1, 2, 3])\n",
        "print(data)\n",
        "\n",
        "# 새로운 원소 추가 \n",
        "data.add(4)\n",
        "print(data)\n",
        "\n",
        "# 새로운 원소 여러개 추가 \n",
        "data.update([5, 6])\n",
        "print(data)\n",
        "      \n",
        "# 특정한 값을 갖는 원소 삭제 \n",
        "data.remove(3)\n",
        "print(data)"
      ],
      "id": "placed-surgeon",
      "execution_count": null,
      "outputs": []
    }
  ]
}