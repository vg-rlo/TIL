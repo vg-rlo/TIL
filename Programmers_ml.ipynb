{
  "nbformat": 4,
  "nbformat_minor": 0,
  "metadata": {
    "colab": {
      "name": "Programmers_ml.ipynb",
      "provenance": [],
      "collapsed_sections": [],
      "mount_file_id": "1TraSQtmpN0uPGf8Q6HyznbJTk73XTsz5",
      "authorship_tag": "ABX9TyNYM+eOcwEvChZLkOyZaJGc",
      "include_colab_link": true
    },
    "kernelspec": {
      "name": "python3",
      "display_name": "Python 3"
    },
    "language_info": {
      "name": "python"
    }
  },
  "cells": [
    {
      "cell_type": "markdown",
      "metadata": {
        "id": "view-in-github",
        "colab_type": "text"
      },
      "source": [
        "<a href=\"https://colab.research.google.com/github/vg-rlo/TIL/blob/master/Programmers_ml.ipynb\" target=\"_parent\"><img src=\"https://colab.research.google.com/assets/colab-badge.svg\" alt=\"Open In Colab\"/></a>"
      ]
    },
    {
      "cell_type": "markdown",
      "metadata": {
        "id": "qJTAl4OmNgLS"
      },
      "source": [
        "# 문제 설명\n",
        "이 문제는 실제 Programmers 채용 공고 페이지를 방문한 개발자들의 방문/지원 기록을 바탕으로 추천모델을 만들어보는 것이다. 참고로 모든 데이터는 익명화되었음을 밝힌다. 구체적으로 개발자(userID로 표현됨)와 채용공고(jobID로 표현됨)를 보고 개발자가 해당 채용공고에 지원할지 안 할지를 예측하는 Binary Classifier를 만드는 것이다. 이 모델을 만드는데 필요한 feature들은 부가적으로 제공되는 데이터 파일들을 바탕으로 만들어내면 되며 이에 대해서는 뒤의 데이터 세트 섹션에서 설명한다."
      ]
    },
    {
      "cell_type": "markdown",
      "metadata": {
        "id": "xpy9TCNVvkQw"
      },
      "source": [
        "* Colab에서 한글 폰트 사용하기 \n",
        "  - [링크1](https://colab.research.google.com/github/nicewook/datascience_exercise/blob/master/korean_font_on_matplotlib.ipynb)\n",
        "  - [링크2](https://teddylee777.github.io/colab/colab-korean)\n"
      ]
    },
    {
      "cell_type": "code",
      "metadata": {
        "colab": {
          "base_uri": "https://localhost:8080/"
        },
        "id": "dfD8uzxdv4a-",
        "outputId": "60cbb76a-8dcc-4fb1-82fd-25930741f758"
      },
      "source": [
        "# 폰트 설치\n",
        "!sudo apt-get install -y fonts-nanum\n",
        "!sudo fc-cache -fv\n",
        "!rm ~/.cache/matplotlib -rf"
      ],
      "execution_count": null,
      "outputs": [
        {
          "output_type": "stream",
          "text": [
            "Reading package lists... Done\n",
            "Building dependency tree       \n",
            "Reading state information... Done\n",
            "fonts-nanum is already the newest version (20170925-1).\n",
            "The following package was automatically installed and is no longer required:\n",
            "  libnvidia-common-460\n",
            "Use 'sudo apt autoremove' to remove it.\n",
            "0 upgraded, 0 newly installed, 0 to remove and 62 not upgraded.\n",
            "/usr/share/fonts: caching, new cache contents: 0 fonts, 1 dirs\n",
            "/usr/share/fonts/truetype: caching, new cache contents: 0 fonts, 3 dirs\n",
            "/usr/share/fonts/truetype/humor-sans: caching, new cache contents: 1 fonts, 0 dirs\n",
            "/usr/share/fonts/truetype/liberation: caching, new cache contents: 16 fonts, 0 dirs\n",
            "/usr/share/fonts/truetype/nanum: caching, new cache contents: 31 fonts, 0 dirs\n",
            "/usr/local/share/fonts: caching, new cache contents: 0 fonts, 0 dirs\n",
            "/root/.local/share/fonts: skipping, no such directory\n",
            "/root/.fonts: skipping, no such directory\n",
            "/var/cache/fontconfig: cleaning cache directory\n",
            "/root/.cache/fontconfig: not cleaning non-existent cache directory\n",
            "/root/.fontconfig: not cleaning non-existent cache directory\n",
            "fc-cache: succeeded\n"
          ],
          "name": "stdout"
        }
      ]
    },
    {
      "cell_type": "code",
      "metadata": {
        "id": "Blq0b54ovxjj"
      },
      "source": [
        "# 일단 import \n",
        "%matplotlib inline  \n",
        "\n",
        "import matplotlib as mpl  # 기본 설정 만지는 용도\n",
        "import matplotlib.pyplot as plt  # 그래프 그리는 용도\n",
        "import matplotlib.font_manager as fm  # 폰트 관련 용도"
      ],
      "execution_count": null,
      "outputs": []
    },
    {
      "cell_type": "code",
      "metadata": {
        "colab": {
          "base_uri": "https://localhost:8080/"
        },
        "id": "u55gcIlEvtFO",
        "outputId": "3c855edc-8d92-4939-88a3-554b0755fbec"
      },
      "source": [
        "# 버전 체크\n",
        "print(mpl.__version__)\n",
        "print(mpl.__file__)\n",
        "print(mpl.get_configdir())\n",
        "print(mpl.get_cachedir())"
      ],
      "execution_count": null,
      "outputs": [
        {
          "output_type": "stream",
          "text": [
            "3.2.2\n",
            "/usr/local/lib/python3.7/dist-packages/matplotlib/__init__.py\n",
            "/root/.config/matplotlib\n",
            "/root/.cache/matplotlib\n"
          ],
          "name": "stdout"
        }
      ]
    },
    {
      "cell_type": "code",
      "metadata": {
        "colab": {
          "base_uri": "https://localhost:8080/"
        },
        "id": "Nl2zvhc0v1AC",
        "outputId": "50556602-0ed6-41c2-8cbe-e0cc8a8fb960"
      },
      "source": [
        "# 설치 글꼴 개수 확인\n",
        "sys_font=fm.findSystemFonts()\n",
        "print(f\"sys_font number: {len(sys_font)}\")\n",
        "print(sys_font)\n",
        "\n",
        "nanum_font = [f for f in sys_font if 'Nanum' in f]\n",
        "print(f\"nanum_font number: {len(nanum_font)}\") # 설치된 나눔 글꼴 없음"
      ],
      "execution_count": null,
      "outputs": [
        {
          "output_type": "stream",
          "text": [
            "sys_font number: 48\n",
            "['/usr/share/fonts/truetype/liberation/LiberationSansNarrow-BoldItalic.ttf', '/usr/share/fonts/truetype/nanum/NanumBarunpenR.ttf', '/usr/share/fonts/truetype/nanum/NanumGothic.ttf', '/usr/share/fonts/truetype/liberation/LiberationSans-Regular.ttf', '/usr/share/fonts/truetype/nanum/NanumSquareRoundL.ttf', '/usr/share/fonts/truetype/nanum/NanumMyeongjoEcoBold.ttf', '/usr/share/fonts/truetype/liberation/LiberationMono-BoldItalic.ttf', '/usr/share/fonts/truetype/nanum/NanumMyeongjoBold.ttf', '/usr/share/fonts/truetype/nanum/NanumPen.ttf', '/usr/share/fonts/truetype/humor-sans/Humor-Sans.ttf', '/usr/share/fonts/truetype/liberation/LiberationSans-Bold.ttf', '/usr/share/fonts/truetype/nanum/NanumMyeongjoExtraBold.ttf', '/usr/share/fonts/truetype/nanum/NanumBarunGothicLight.ttf', '/usr/share/fonts/truetype/nanum/NanumBrush.ttf', '/usr/share/fonts/truetype/nanum/NanumSquareRoundR.ttf', '/usr/share/fonts/truetype/nanum/NanumGothicExtraBold.ttf', '/usr/share/fonts/truetype/liberation/LiberationSans-Italic.ttf', '/usr/share/fonts/truetype/liberation/LiberationMono-Bold.ttf', '/usr/share/fonts/truetype/nanum/NanumSquareEB.ttf', '/usr/share/fonts/truetype/nanum/NanumGothicCoding-Bold.ttf', '/usr/share/fonts/truetype/nanum/NanumSquareB.ttf', '/usr/share/fonts/truetype/nanum/NanumGothicEcoBold.ttf', '/usr/share/fonts/truetype/nanum/NanumSquareRoundEB.ttf', '/usr/share/fonts/truetype/liberation/LiberationSansNarrow-Bold.ttf', '/usr/share/fonts/truetype/nanum/NanumGothicEcoExtraBold.ttf', '/usr/share/fonts/truetype/nanum/NanumBarunGothicUltraLight.ttf', '/usr/share/fonts/truetype/liberation/LiberationSerif-Regular.ttf', '/usr/share/fonts/truetype/nanum/NanumMyeongjoEcoExtraBold.ttf', '/usr/share/fonts/truetype/nanum/NanumSquareL.ttf', '/usr/share/fonts/truetype/liberation/LiberationSerif-Italic.ttf', '/usr/share/fonts/truetype/liberation/LiberationSansNarrow-Italic.ttf', '/usr/share/fonts/truetype/nanum/NanumGothicCoding.ttf', '/usr/share/fonts/truetype/liberation/LiberationSansNarrow-Regular.ttf', '/usr/share/fonts/truetype/nanum/NanumMyeongjo.ttf', '/usr/share/fonts/truetype/nanum/NanumBarunGothicBold.ttf', '/usr/share/fonts/truetype/liberation/LiberationMono-Regular.ttf', '/usr/share/fonts/truetype/nanum/NanumMyeongjoEco.ttf', '/usr/share/fonts/truetype/nanum/NanumSquareR.ttf', '/usr/share/fonts/truetype/nanum/NanumGothicEco.ttf', '/usr/share/fonts/truetype/nanum/NanumSquareRoundB.ttf', '/usr/share/fonts/truetype/liberation/LiberationMono-Italic.ttf', '/usr/share/fonts/truetype/nanum/NanumGothicBold.ttf', '/usr/share/fonts/truetype/nanum/NanumBarunGothic.ttf', '/usr/share/fonts/truetype/liberation/LiberationSerif-Bold.ttf', '/usr/share/fonts/truetype/nanum/NanumGothicLight.ttf', '/usr/share/fonts/truetype/nanum/NanumBarunpenB.ttf', '/usr/share/fonts/truetype/liberation/LiberationSerif-BoldItalic.ttf', '/usr/share/fonts/truetype/liberation/LiberationSans-BoldItalic.ttf']\n",
            "nanum_font number: 31\n"
          ],
          "name": "stdout"
        }
      ]
    },
    {
      "cell_type": "code",
      "metadata": {
        "colab": {
          "base_uri": "https://localhost:8080/"
        },
        "id": "d7CsvHgWwBjK",
        "outputId": "90e1fdc2-4abe-4017-9f4b-8a135b211856"
      },
      "source": [
        "# 체크해보면 폰트 개수가 늘어났다\n",
        "sys_font=fm.findSystemFonts()\n",
        "print(f\"sys_font number: {len(sys_font)}\")\n",
        "\n",
        "nanum_font = [f for f in sys_font if 'Nanum' in f]\n",
        "print(f\"nanum_font number: {len(nanum_font)}\")"
      ],
      "execution_count": null,
      "outputs": [
        {
          "output_type": "stream",
          "text": [
            "sys_font number: 48\n",
            "nanum_font number: 31\n"
          ],
          "name": "stdout"
        }
      ]
    },
    {
      "cell_type": "code",
      "metadata": {
        "colab": {
          "base_uri": "https://localhost:8080/"
        },
        "id": "VV6EKc13wF1k",
        "outputId": "ff4f72dd-7160-4713-e132-1e99d7d0d5a1"
      },
      "source": [
        "path = '/usr/share/fonts/truetype/nanum/NanumGothicEco.ttf'  # 설치된 나눔글꼴중 원하는 녀석의 전체 경로를 가져오자\n",
        "font_name = fm.FontProperties(fname=path, size=10).get_name()\n",
        "print(font_name)\n",
        "plt.rc('font', family=font_name)"
      ],
      "execution_count": null,
      "outputs": [
        {
          "output_type": "stream",
          "text": [
            "NanumGothic Eco\n"
          ],
          "name": "stdout"
        }
      ]
    },
    {
      "cell_type": "code",
      "metadata": {
        "id": "NXjILNFcwJXM"
      },
      "source": [
        "# 우선 fm._rebuild() 를 해주고\n",
        "fm._rebuild()\n",
        "\n",
        "# 마이너스 표시 안깨지도록 해준다. \n",
        "mpl.rcParams['axes.unicode_minus'] = False"
      ],
      "execution_count": null,
      "outputs": []
    },
    {
      "cell_type": "code",
      "metadata": {
        "colab": {
          "base_uri": "https://localhost:8080/"
        },
        "id": "Msf7SKewNCbY",
        "outputId": "b676ad21-35d2-43d2-e9e7-dea614fc8f25"
      },
      "source": [
        "!pwd # 현재 디렉토리 위치 확인"
      ],
      "execution_count": null,
      "outputs": [
        {
          "output_type": "stream",
          "text": [
            "/content\n"
          ],
          "name": "stdout"
        }
      ]
    },
    {
      "cell_type": "code",
      "metadata": {
        "colab": {
          "base_uri": "https://localhost:8080/"
        },
        "id": "FAjzy3p5N4Pj",
        "outputId": "17d0f001-834b-4b50-91fc-dbf7604d548f"
      },
      "source": [
        "%cd /content/drive/MyDrive/code # change directory 현 위치 변경 "
      ],
      "execution_count": null,
      "outputs": [
        {
          "output_type": "stream",
          "text": [
            "/content/drive/MyDrive/code\n"
          ],
          "name": "stdout"
        }
      ]
    },
    {
      "cell_type": "code",
      "metadata": {
        "colab": {
          "base_uri": "https://localhost:8080/"
        },
        "id": "4SfVXESkN9gp",
        "outputId": "3c083cdc-e395-4f9b-d83a-84e71b9554a5"
      },
      "source": [
        "!ls # 현재 경로의 파일 리스트 확인"
      ],
      "execution_count": null,
      "outputs": [
        {
          "output_type": "stream",
          "text": [
            "data  font\n"
          ],
          "name": "stdout"
        }
      ]
    },
    {
      "cell_type": "code",
      "metadata": {
        "colab": {
          "base_uri": "https://localhost:8080/",
          "height": 36
        },
        "id": "_3s9tr1ausnn",
        "outputId": "7ebb378e-e044-4fa3-91af-6465c5deb918"
      },
      "source": [
        "import os \n",
        "\n",
        "os.getcwd() # 현재 경로 "
      ],
      "execution_count": null,
      "outputs": [
        {
          "output_type": "execute_result",
          "data": {
            "application/vnd.google.colaboratory.intrinsic+json": {
              "type": "string"
            },
            "text/plain": [
              "'/content/drive/MyDrive/code'"
            ]
          },
          "metadata": {
            "tags": []
          },
          "execution_count": 12
        }
      ]
    },
    {
      "cell_type": "code",
      "metadata": {
        "id": "VcPjYwoPN_Zk"
      },
      "source": [
        "# Data load \n",
        "import pandas as pd\n",
        "\n",
        "job_comp = pd.read_csv(os.getcwd() + '/data/job_companies.csv')\n",
        "job_tags = pd.read_csv(os.getcwd() + '/data/job_tags.csv')\n",
        "tags = pd.read_csv(os.getcwd() + '/data/tags.csv')\n",
        "user_tags = pd.read_csv(os.getcwd() + '/data/user_tags.csv')\n",
        "train = pd.read_csv(os.getcwd() + '/data/train.csv')\n",
        "test_job = pd.read_csv(os.getcwd() + '/data/test_job.csv')\n",
        "output_job = pd.read_csv(os.getcwd() + '/data/sample_output_job.csv')"
      ],
      "execution_count": null,
      "outputs": []
    },
    {
      "cell_type": "code",
      "metadata": {
        "colab": {
          "base_uri": "https://localhost:8080/"
        },
        "id": "Hrt3AFu_OiT8",
        "outputId": "f9782884-ee67-4c77-c447-84794cd1588f"
      },
      "source": [
        "print(job_comp.head())\n",
        "print(job_comp.describe())"
      ],
      "execution_count": null,
      "outputs": [
        {
          "output_type": "stream",
          "text": [
            "                          companyID  ... companySize\n",
            "0  00411460f7c92d2124a67ea0f4cb5f85  ...         NaN\n",
            "1  1905aedab9bf2477edc068a355bba31a  ...       11-50\n",
            "2  89fcd07f20b6785b92134bd6c1d0fa42  ...     101-200\n",
            "3  acf4b89d3d503d8252c9c4ba75ddbf6d  ...        1-10\n",
            "4  fb7b9ffa5462084c5f4e7e85a093e6d7  ...         NaN\n",
            "\n",
            "[5 rows x 3 columns]\n",
            "                               companyID  ... companySize\n",
            "count                                733  ...         643\n",
            "unique                               276  ...           7\n",
            "top     b5dc4e5d9b495d0196f61d45b26ef33e  ...       11-50\n",
            "freq                                  18  ...         260\n",
            "\n",
            "[4 rows x 3 columns]\n"
          ],
          "name": "stdout"
        }
      ]
    },
    {
      "cell_type": "code",
      "metadata": {
        "colab": {
          "base_uri": "https://localhost:8080/"
        },
        "id": "8wwzsdsqOqCL",
        "outputId": "ae40ea13-f7a9-4e29-d92c-fc67e69fbd43"
      },
      "source": [
        "print(job_tags.head())\n",
        "print(job_tags.describe())"
      ],
      "execution_count": null,
      "outputs": [
        {
          "output_type": "stream",
          "text": [
            "                              jobID                             tagID\n",
            "0  320722549d1751cf3f247855f937b982  d38901788c533e8286cb6400b40b386d\n",
            "1  e744f91c29ec99f0e662c9177946c627  3948ead63a9f2944218de038d8934305\n",
            "2  e744f91c29ec99f0e662c9177946c627  0e095e054ee94774d6a496099eb1cf6a\n",
            "3  e820a45f1dfc7b95282d10b6087e11c0  7d771e0e8f3633ab54856925ecdefc5d\n",
            "4  e820a45f1dfc7b95282d10b6087e11c0  6c8dba7d0df1c4a79dd07646be9a26c8\n",
            "                                   jobID                             tagID\n",
            "count                               3477                              3477\n",
            "unique                               733                               240\n",
            "top     e17184bcb70dcf3942c54e0b537ffc6d  0e095e054ee94774d6a496099eb1cf6a\n",
            "freq                                  17                               219\n"
          ],
          "name": "stdout"
        }
      ]
    },
    {
      "cell_type": "code",
      "metadata": {
        "colab": {
          "base_uri": "https://localhost:8080/"
        },
        "id": "p3yd3ZCKOrOW",
        "outputId": "f3982123-237e-4a54-a00d-c20c9a75fc76"
      },
      "source": [
        "print(tags.head())\n",
        "print(tags.describe())"
      ],
      "execution_count": null,
      "outputs": [
        {
          "output_type": "stream",
          "text": [
            "                              tagID                   keyword\n",
            "0  602d1305678a8d5fdb372271e980da6a  Amazon Web Services(AWS)\n",
            "1  e3251075554389fe91d17a794861d47b                Tensorflow\n",
            "2  a1d50185e7426cbb0acad1e6ca74b9aa                    Docker\n",
            "3  884d79963bd8bc0ae9b13a1aa71add73                       Git\n",
            "4  4122cb13c7a474c1976c9706ae36521d                    Python\n",
            "                                   tagID    keyword\n",
            "count                                887        887\n",
            "unique                               887        887\n",
            "top     28f0b864598a1291557bed248a998d4e  Upbit API\n",
            "freq                                   1          1\n"
          ],
          "name": "stdout"
        }
      ]
    },
    {
      "cell_type": "code",
      "metadata": {
        "colab": {
          "base_uri": "https://localhost:8080/"
        },
        "id": "xGKwN33yOu5V",
        "outputId": "9a942409-6df2-4267-f634-ffc5f4e6bc76"
      },
      "source": [
        "print(user_tags.head())\n",
        "print(user_tags.describe())"
      ],
      "execution_count": null,
      "outputs": [
        {
          "output_type": "stream",
          "text": [
            "                             userID                             tagID\n",
            "0  e576423831e043f7928d9ac113abbe6f  82c2559140b95ccda9c6ca4a8b981f1e\n",
            "1  e576423831e043f7928d9ac113abbe6f  2ba8698b79439589fdd2b0f7218d8b07\n",
            "2  e576423831e043f7928d9ac113abbe6f  351b33587c5fdd93bd42ef7ac9995a28\n",
            "3  e576423831e043f7928d9ac113abbe6f  81e5f81db77c596492e6f1a5a792ed53\n",
            "4  e576423831e043f7928d9ac113abbe6f  0e095e054ee94774d6a496099eb1cf6a\n",
            "                                  userID                             tagID\n",
            "count                              17194                             17194\n",
            "unique                               196                               345\n",
            "top     f69054686ba46877b6397ccdb8f51762  f47330643ae134ca204bf6b2481fec47\n",
            "freq                                 572                               820\n"
          ],
          "name": "stdout"
        }
      ]
    },
    {
      "cell_type": "code",
      "metadata": {
        "colab": {
          "base_uri": "https://localhost:8080/"
        },
        "id": "eak3YCHtOwf3",
        "outputId": "044e7e7d-accd-4d70-a0b6-a21e73d8c9e0"
      },
      "source": [
        "print(train.head())\n",
        "print(train.describe())"
      ],
      "execution_count": null,
      "outputs": [
        {
          "output_type": "stream",
          "text": [
            "                             userID                             jobID  applied\n",
            "0  fe292163d06253b716e9a0099b42031d  15de21c670ae7c3f6f3f1f37029303c9        0\n",
            "1  6377fa90618fae77571e8dc90d98d409  55b37c5c270e5d84c793e486d798c01d        0\n",
            "2  8ec0888a5b04139be0dfe942c7eb4199  0fcbc61acd0479dc77e3cccc0f5ffca7        1\n",
            "3  f862b39f767d3a1991bdeb2ea1401c9c  3b5dca501ee1e6d8cd7b905f4e1bf723        0\n",
            "4  cac14930c65d72c16efac2c51a6b7f71  287e03db1d99e0ec2edb90d079e142f3        0\n",
            "           applied\n",
            "count  6000.000000\n",
            "mean      0.142833\n",
            "std       0.349932\n",
            "min       0.000000\n",
            "25%       0.000000\n",
            "50%       0.000000\n",
            "75%       0.000000\n",
            "max       1.000000\n"
          ],
          "name": "stdout"
        }
      ]
    },
    {
      "cell_type": "code",
      "metadata": {
        "colab": {
          "base_uri": "https://localhost:8080/"
        },
        "id": "1E3oG8FtOy8U",
        "outputId": "ba2ea0fb-2e6e-433b-92f8-a2000ae0fa2b"
      },
      "source": [
        "print(test_job.head())\n",
        "print(test_job.describe())"
      ],
      "execution_count": null,
      "outputs": [
        {
          "output_type": "stream",
          "text": [
            "                             userID                             jobID\n",
            "0  ebaee1af0c501f22ddfe242fc16dae53  352407221afb776e3143e8a1a0577885\n",
            "1  9ab05403ac7808cbfba3da26665f7a9c  96b9bff013acedfb1d140579e2fbeb63\n",
            "2  33349e909eba71677299d2fc97e158b7  58d4d1e7b1e97b258c9ed0b37e02d087\n",
            "3  ac985a9db5faeb44c94a334430ccc241  ccb0989662211f61edae2e26d58ea92f\n",
            "4  d41e0e6f6f1e29098d9d152511503ab2  4a213d37242bdcad8e7300e202e7caa4\n",
            "                                  userID                             jobID\n",
            "count                               2435                              2435\n",
            "unique                               196                               591\n",
            "top     b052e2e0c0ad1b2d5036bd56e27d061c  da0d1111d2dc5d489242e60ebcbaf988\n",
            "freq                                  49                                24\n"
          ],
          "name": "stdout"
        }
      ]
    },
    {
      "cell_type": "code",
      "metadata": {
        "colab": {
          "base_uri": "https://localhost:8080/"
        },
        "id": "oftSOkYVO0o7",
        "outputId": "258090bc-cb3f-4954-e0f4-1588b355e79b"
      },
      "source": [
        "print(output_job.head())\n",
        "print(output_job.describe())"
      ],
      "execution_count": null,
      "outputs": [
        {
          "output_type": "stream",
          "text": [
            "   applied\n",
            "0        0\n",
            "1        1\n",
            "2        0\n",
            "3        1\n",
            "4        0\n",
            "        applied\n",
            "count  8.000000\n",
            "mean   0.500000\n",
            "std    0.534522\n",
            "min    0.000000\n",
            "25%    0.000000\n",
            "50%    0.500000\n",
            "75%    1.000000\n",
            "max    1.000000\n"
          ],
          "name": "stdout"
        }
      ]
    },
    {
      "cell_type": "code",
      "metadata": {
        "colab": {
          "base_uri": "https://localhost:8080/"
        },
        "id": "4Bqw-mzeV5Mi",
        "outputId": "67003d03-b3e4-4c9b-ee9a-8b127a79ea21"
      },
      "source": [
        "# 데이터의 피쳐 확인\n",
        "print(job_comp.columns)\n",
        "print(job_tags.columns)\n",
        "print(tags.columns)\n",
        "print(user_tags.columns)\n",
        "print(train.columns) # 맞춰야하는 label='applied'\n",
        "print(test_job.columns) # 주어지는 columns='userID', 'jobID'\n",
        "print(output_job.columns)"
      ],
      "execution_count": null,
      "outputs": [
        {
          "output_type": "stream",
          "text": [
            "Index(['companyID', 'jobID', 'companySize'], dtype='object')\n",
            "Index(['jobID', 'tagID'], dtype='object')\n",
            "Index(['tagID', 'keyword'], dtype='object')\n",
            "Index(['userID', 'tagID'], dtype='object')\n",
            "Index(['userID', 'jobID', 'applied'], dtype='object')\n",
            "Index(['userID', 'jobID'], dtype='object')\n",
            "Index(['applied'], dtype='object')\n"
          ],
          "name": "stdout"
        }
      ]
    },
    {
      "cell_type": "code",
      "metadata": {
        "colab": {
          "base_uri": "https://localhost:8080/"
        },
        "id": "i1KVZBTJO2V6",
        "outputId": "19db4e0f-88b7-4dd5-f7ac-1c1ab9646f5e"
      },
      "source": [
        "# tags의 지표 확인 \n",
        "print(tags.value_counts()) # 각 요소별 개수 \n",
        "print('unique한 tagID 개수: ', tags['tagID'].nunique()) # 유일한 개수"
      ],
      "execution_count": null,
      "outputs": [
        {
          "output_type": "stream",
          "text": [
            "tagID                             keyword        \n",
            "ffeed84c7cb1ae7bf4ec4bd78275bb98  Bootstrap          1\n",
            "53c04118df112c13a8c34b38343b9c10  AutoCAD            1\n",
            "5680522b8e2bb01943234bce7bf84534  Jenkins            1\n",
            "56468d5607a5aaf1604ff5e15593b003  AWS ElastiCache    1\n",
            "5607fe8879e4fd269e88387e8cb30b7e  Handlebars.js      1\n",
            "                                                    ..\n",
            "a89cf525e1d9f04d16ce31165e139a4b  AWS Alexa          1\n",
            "a86c450b76fb8c371afead6410d55534  recommendation     1\n",
            "a7d8ae4569120b5bec12e7b6e9648b86  Heroku             1\n",
            "a7a3d70c6d17a73140918996d03c014f  Upbit API          1\n",
            "0004d0b59e19461ff126e3a08a814c33  AWS CodeCommit     1\n",
            "Length: 887, dtype: int64\n",
            "unique한 tagID 개수:  887\n"
          ],
          "name": "stdout"
        }
      ]
    },
    {
      "cell_type": "markdown",
      "metadata": {
        "id": "PayArpHhXZyl"
      },
      "source": [
        "=> tags는 해당 tagID가 해당하는 keyword를 저장하고 있는 데이터셋이므로, 단어사전과 같다. "
      ]
    },
    {
      "cell_type": "code",
      "metadata": {
        "colab": {
          "base_uri": "https://localhost:8080/"
        },
        "id": "HP70fSrThc4i",
        "outputId": "c8cffe94-ac40-4063-d957-70f6a533801e"
      },
      "source": [
        "# null값 확인 \n",
        "train.isnull().sum()"
      ],
      "execution_count": null,
      "outputs": [
        {
          "output_type": "execute_result",
          "data": {
            "text/plain": [
              "userID     0\n",
              "jobID      0\n",
              "applied    0\n",
              "dtype: int64"
            ]
          },
          "metadata": {
            "tags": []
          },
          "execution_count": 23
        }
      ]
    },
    {
      "cell_type": "code",
      "metadata": {
        "colab": {
          "base_uri": "https://localhost:8080/"
        },
        "id": "JPYrY6JshnT-",
        "outputId": "ef555cf8-7230-4cbc-a460-d2aa7e240207"
      },
      "source": [
        "# 중복 제거 처리\n",
        "print(\"중복 제거 전: \", train.shape)\n",
        "\n",
        "train = train.drop_duplicates()\n",
        "print(\"중복 제거 후: \", train.shape)"
      ],
      "execution_count": null,
      "outputs": [
        {
          "output_type": "stream",
          "text": [
            "중복 제거 전:  (6000, 3)\n",
            "중복 제거 후:  (6000, 3)\n"
          ],
          "name": "stdout"
        }
      ]
    },
    {
      "cell_type": "code",
      "metadata": {
        "colab": {
          "base_uri": "https://localhost:8080/",
          "height": 335
        },
        "id": "EoVHkdrEpemw",
        "outputId": "563cf2da-51d5-470a-d5f0-98c38c7a8263"
      },
      "source": [
        "# 데이터셋의 라벨 분포 확인 \n",
        "import matplotlib.pyplot as plt\n",
        "\n",
        "print('label 0 개수: ', train[train['applied']==0]['applied'].count())\n",
        "print('label 1 개수: ', train[train['applied']==1]['applied'].count())\n",
        "\n",
        "train['applied'].value_counts().plot(kind='bar')\n",
        "plt.title(\"Label distribution\", fontsize=15)\n",
        "plt.ylabel(\"사람 수\", fontsize=12)\n",
        "plt.xlabel(\"지원 여부\", fontsize=12)\n",
        "plt.xticks(rotation=0)\n",
        "plt.show()"
      ],
      "execution_count": null,
      "outputs": [
        {
          "output_type": "stream",
          "text": [
            "label 0 개수:  5143\n",
            "label 1 개수:  857\n"
          ],
          "name": "stdout"
        },
        {
          "output_type": "display_data",
          "data": {
            "image/png": "[encoded data removed]",
            "text/plain": [
              "<Figure size 432x288 with 1 Axes>"
            ]
          },
          "metadata": {
            "tags": [],
            "needs_background": "light"
          }
        }
      ]
    },
    {
      "cell_type": "code",
      "metadata": {
        "colab": {
          "base_uri": "https://localhost:8080/"
        },
        "id": "4lt332E221zU",
        "outputId": "542f58ad-6765-4ad1-cb75-b2a93ea6b9ce"
      },
      "source": [
        "print(train.columns)\n",
        "print(tags.columns)\n",
        "print(job_tags.columns)\n",
        "print(user_tags.columns)"
      ],
      "execution_count": null,
      "outputs": [
        {
          "output_type": "stream",
          "text": [
            "Index(['userID', 'jobID', 'applied'], dtype='object')\n",
            "Index(['tagID', 'keyword'], dtype='object')\n",
            "Index(['jobID', 'tagID'], dtype='object')\n",
            "Index(['userID', 'tagID'], dtype='object')\n"
          ],
          "name": "stdout"
        }
      ]
    },
    {
      "cell_type": "code",
      "metadata": {
        "colab": {
          "base_uri": "https://localhost:8080/"
        },
        "id": "eN8jwHF73M64",
        "outputId": "c52d12a1-da43-4845-bcab-5a671e06123d"
      },
      "source": [
        "print(train.count())\n",
        "print(tags.count())\n",
        "print(job_tags.count())\n",
        "print(user_tags.count())"
      ],
      "execution_count": null,
      "outputs": [
        {
          "output_type": "stream",
          "text": [
            "userID     6000\n",
            "jobID      6000\n",
            "applied    6000\n",
            "dtype: int64\n",
            "tagID      887\n",
            "keyword    887\n",
            "dtype: int64\n",
            "jobID    3477\n",
            "tagID    3477\n",
            "dtype: int64\n",
            "userID    17194\n",
            "tagID     17194\n",
            "dtype: int64\n"
          ],
          "name": "stdout"
        }
      ]
    },
    {
      "cell_type": "code",
      "metadata": {
        "colab": {
          "base_uri": "https://localhost:8080/"
        },
        "id": "WusGu8sQ3nnt",
        "outputId": "873e8ef1-da1a-4e95-f240-dca1de98d8de"
      },
      "source": [
        "job_tags = pd.merge(job_tags, tags)\n",
        "print(len(job_tags))\n",
        "print(job_tags.head())"
      ],
      "execution_count": null,
      "outputs": [
        {
          "output_type": "stream",
          "text": [
            "3477\n",
            "                              jobID                             tagID keyword\n",
            "0  320722549d1751cf3f247855f937b982  d38901788c533e8286cb6400b40b386d    Ruby\n",
            "1  851ddf5058cf22df63d3344ad89919cf  d38901788c533e8286cb6400b40b386d    Ruby\n",
            "2  c4ca4238a0b923820dcc509a6f75849b  d38901788c533e8286cb6400b40b386d    Ruby\n",
            "3  3a15c7d0bbe60300a39f76f8a5ba6896  d38901788c533e8286cb6400b40b386d    Ruby\n",
            "4  577bcc914f9e55d5e4e4f82f9f00e7d4  d38901788c533e8286cb6400b40b386d    Ruby\n"
          ],
          "name": "stdout"
        }
      ]
    },
    {
      "cell_type": "code",
      "metadata": {
        "colab": {
          "base_uri": "https://localhost:8080/"
        },
        "id": "6je6u5fX4zoJ",
        "outputId": "d02284d6-7bbf-4967-b855-ed7caae31cad"
      },
      "source": [
        "user_tags = pd.merge(user_tags, tags)\n",
        "print(len(user_tags))\n",
        "print(user_tags.head())"
      ],
      "execution_count": null,
      "outputs": [
        {
          "output_type": "stream",
          "text": [
            "17194\n",
            "                             userID                             tagID keyword\n",
            "0  e576423831e043f7928d9ac113abbe6f  82c2559140b95ccda9c6ca4a8b981f1e   JUnit\n",
            "1  078dd365ebc98784af7f8df76a98f53a  82c2559140b95ccda9c6ca4a8b981f1e   JUnit\n",
            "2  e57c6b956a6521b28495f2886ca0977a  82c2559140b95ccda9c6ca4a8b981f1e   JUnit\n",
            "3  078dd365ebc98784af7f8df76a98f53a  82c2559140b95ccda9c6ca4a8b981f1e   JUnit\n",
            "4  078dd365ebc98784af7f8df76a98f53a  82c2559140b95ccda9c6ca4a8b981f1e   JUnit\n"
          ],
          "name": "stdout"
        }
      ]
    },
    {
      "cell_type": "code",
      "metadata": {
        "colab": {
          "base_uri": "https://localhost:8080/",
          "height": 202
        },
        "id": "88I1qPe-fX3k",
        "outputId": "f56b66ab-3fc7-43d8-83f3-48eca3aecdb4"
      },
      "source": [
        "# 종속 변수 컬럼 확인\n",
        "df_X = train[['userID', 'jobID']]\n",
        "df_X.head()"
      ],
      "execution_count": null,
      "outputs": [
        {
          "output_type": "execute_result",
          "data": {
            "text/html": [
              "<div>\n",
              "<style scoped>\n",
              "    .dataframe tbody tr th:only-of-type {\n",
              "        vertical-align: middle;\n",
              "    }\n",
              "\n",
              "    .dataframe tbody tr th {\n",
              "        vertical-align: top;\n",
              "    }\n",
              "\n",
              "    .dataframe thead th {\n",
              "        text-align: right;\n",
              "    }\n",
              "</style>\n",
              "<table border=\"1\" class=\"dataframe\">\n",
              "  <thead>\n",
              "    <tr style=\"text-align: right;\">\n",
              "      <th></th>\n",
              "      <th>userID</th>\n",
              "      <th>jobID</th>\n",
              "    </tr>\n",
              "  </thead>\n",
              "  <tbody>\n",
              "    <tr>\n",
              "      <th>0</th>\n",
              "      <td>fe292163d06253b716e9a0099b42031d</td>\n",
              "      <td>15de21c670ae7c3f6f3f1f37029303c9</td>\n",
              "    </tr>\n",
              "    <tr>\n",
              "      <th>1</th>\n",
              "      <td>6377fa90618fae77571e8dc90d98d409</td>\n",
              "      <td>55b37c5c270e5d84c793e486d798c01d</td>\n",
              "    </tr>\n",
              "    <tr>\n",
              "      <th>2</th>\n",
              "      <td>8ec0888a5b04139be0dfe942c7eb4199</td>\n",
              "      <td>0fcbc61acd0479dc77e3cccc0f5ffca7</td>\n",
              "    </tr>\n",
              "    <tr>\n",
              "      <th>3</th>\n",
              "      <td>f862b39f767d3a1991bdeb2ea1401c9c</td>\n",
              "      <td>3b5dca501ee1e6d8cd7b905f4e1bf723</td>\n",
              "    </tr>\n",
              "    <tr>\n",
              "      <th>4</th>\n",
              "      <td>cac14930c65d72c16efac2c51a6b7f71</td>\n",
              "      <td>287e03db1d99e0ec2edb90d079e142f3</td>\n",
              "    </tr>\n",
              "  </tbody>\n",
              "</table>\n",
              "</div>"
            ],
            "text/plain": [
              "                             userID                             jobID\n",
              "0  fe292163d06253b716e9a0099b42031d  15de21c670ae7c3f6f3f1f37029303c9\n",
              "1  6377fa90618fae77571e8dc90d98d409  55b37c5c270e5d84c793e486d798c01d\n",
              "2  8ec0888a5b04139be0dfe942c7eb4199  0fcbc61acd0479dc77e3cccc0f5ffca7\n",
              "3  f862b39f767d3a1991bdeb2ea1401c9c  3b5dca501ee1e6d8cd7b905f4e1bf723\n",
              "4  cac14930c65d72c16efac2c51a6b7f71  287e03db1d99e0ec2edb90d079e142f3"
            ]
          },
          "metadata": {
            "tags": []
          },
          "execution_count": 30
        }
      ]
    },
    {
      "cell_type": "code",
      "metadata": {
        "colab": {
          "base_uri": "https://localhost:8080/"
        },
        "id": "pA-MJ-0igCY5",
        "outputId": "d783427f-36d4-460b-c7c9-992606c53b75"
      },
      "source": [
        "# 독립 변수 컬럼 확인\n",
        "df_y = train['applied']\n",
        "df_y.head()"
      ],
      "execution_count": null,
      "outputs": [
        {
          "output_type": "execute_result",
          "data": {
            "text/plain": [
              "0    0\n",
              "1    0\n",
              "2    1\n",
              "3    0\n",
              "4    0\n",
              "Name: applied, dtype: int64"
            ]
          },
          "metadata": {
            "tags": []
          },
          "execution_count": 27
        }
      ]
    },
    {
      "cell_type": "code",
      "metadata": {
        "id": "CRVWxu7dgO--"
      },
      "source": [
        "# random seed 고정\n",
        "SEED = 42"
      ],
      "execution_count": null,
      "outputs": []
    },
    {
      "cell_type": "code",
      "metadata": {
        "id": "67o9RMhaXFal"
      },
      "source": [
        "# 데이터셋 분리 \n",
        "from sklearn.model_selection import train_test_split\n",
        "\n",
        "X_train, X_test, y_train, y_test = train_test_split(df_X, df_y, test_size=0.3, random_state=SEED)"
      ],
      "execution_count": null,
      "outputs": []
    },
    {
      "cell_type": "code",
      "metadata": {
        "colab": {
          "base_uri": "https://localhost:8080/"
        },
        "id": "kHCTQAskgM27",
        "outputId": "b6e3ebb5-da4b-4544-d683-6f734f5fd330"
      },
      "source": [
        "print(X_train.shape)\n",
        "print(y_train.shape)\n",
        "print(X_test.shape)\n",
        "print(y_test.shape)"
      ],
      "execution_count": null,
      "outputs": [
        {
          "output_type": "stream",
          "text": [
            "(4200, 2)\n",
            "(4200,)\n",
            "(1800, 2)\n",
            "(1800,)\n"
          ],
          "name": "stdout"
        }
      ]
    },
    {
      "cell_type": "code",
      "metadata": {
        "colab": {
          "base_uri": "https://localhost:8080/",
          "height": 415
        },
        "id": "e08uWYULpNDS",
        "outputId": "8cae13c4-3220-4b99-ed28-be6b2f8a1ac0"
      },
      "source": [
        "X_train"
      ],
      "execution_count": null,
      "outputs": [
        {
          "output_type": "execute_result",
          "data": {
            "text/html": [
              "<div>\n",
              "<style scoped>\n",
              "    .dataframe tbody tr th:only-of-type {\n",
              "        vertical-align: middle;\n",
              "    }\n",
              "\n",
              "    .dataframe tbody tr th {\n",
              "        vertical-align: top;\n",
              "    }\n",
              "\n",
              "    .dataframe thead th {\n",
              "        text-align: right;\n",
              "    }\n",
              "</style>\n",
              "<table border=\"1\" class=\"dataframe\">\n",
              "  <thead>\n",
              "    <tr style=\"text-align: right;\">\n",
              "      <th></th>\n",
              "      <th>userID</th>\n",
              "      <th>jobID</th>\n",
              "    </tr>\n",
              "  </thead>\n",
              "  <tbody>\n",
              "    <tr>\n",
              "      <th>4775</th>\n",
              "      <td>fdfa9a38cf3d8d850a6fd47b438bfe43</td>\n",
              "      <td>2bcab9d935d219641434683dd9d18a03</td>\n",
              "    </tr>\n",
              "    <tr>\n",
              "      <th>927</th>\n",
              "      <td>0c3b7a46ba662029936002edd5613a45</td>\n",
              "      <td>192fc044e74dffea144f9ac5dc9f3395</td>\n",
              "    </tr>\n",
              "    <tr>\n",
              "      <th>3258</th>\n",
              "      <td>6eb6e75fddec0218351dc5c0c8464104</td>\n",
              "      <td>f74909ace68e51891440e4da0b65a70c</td>\n",
              "    </tr>\n",
              "    <tr>\n",
              "      <th>45</th>\n",
              "      <td>f0860e86a075967417cd511aa80f0e4d</td>\n",
              "      <td>c8ed21db4f678f3b13b9d5ee16489088</td>\n",
              "    </tr>\n",
              "    <tr>\n",
              "      <th>1260</th>\n",
              "      <td>838c13b8aa97e2d988ef4495460f2e0e</td>\n",
              "      <td>303ed4c69846ab36c2904d3ba8573050</td>\n",
              "    </tr>\n",
              "    <tr>\n",
              "      <th>...</th>\n",
              "      <td>...</td>\n",
              "      <td>...</td>\n",
              "    </tr>\n",
              "    <tr>\n",
              "      <th>3772</th>\n",
              "      <td>7e5c43aee3b770da0c9be62c298971cc</td>\n",
              "      <td>c8ba76c279269b1c6bc8a07e38e78fa4</td>\n",
              "    </tr>\n",
              "    <tr>\n",
              "      <th>5191</th>\n",
              "      <td>bd652bf1e9b66171ef77f1e0db2e9c1e</td>\n",
              "      <td>81448138f5f163ccdba4acc69819f280</td>\n",
              "    </tr>\n",
              "    <tr>\n",
              "      <th>5226</th>\n",
              "      <td>2b3c53530d9f5948021ce2d30ca78def</td>\n",
              "      <td>6d70cb65d15211726dcce4c0e971e21c</td>\n",
              "    </tr>\n",
              "    <tr>\n",
              "      <th>5390</th>\n",
              "      <td>6bd22a86b1f7a3a11de928d301f86d67</td>\n",
              "      <td>854d9fca60b4bd07f9bb215d59ef5561</td>\n",
              "    </tr>\n",
              "    <tr>\n",
              "      <th>860</th>\n",
              "      <td>d41e0e6f6f1e29098d9d152511503ab2</td>\n",
              "      <td>dd458505749b2941217ddd59394240e8</td>\n",
              "    </tr>\n",
              "  </tbody>\n",
              "</table>\n",
              "<p>4200 rows × 2 columns</p>\n",
              "</div>"
            ],
            "text/plain": [
              "                                userID                             jobID\n",
              "4775  fdfa9a38cf3d8d850a6fd47b438bfe43  2bcab9d935d219641434683dd9d18a03\n",
              "927   0c3b7a46ba662029936002edd5613a45  192fc044e74dffea144f9ac5dc9f3395\n",
              "3258  6eb6e75fddec0218351dc5c0c8464104  f74909ace68e51891440e4da0b65a70c\n",
              "45    f0860e86a075967417cd511aa80f0e4d  c8ed21db4f678f3b13b9d5ee16489088\n",
              "1260  838c13b8aa97e2d988ef4495460f2e0e  303ed4c69846ab36c2904d3ba8573050\n",
              "...                                ...                               ...\n",
              "3772  7e5c43aee3b770da0c9be62c298971cc  c8ba76c279269b1c6bc8a07e38e78fa4\n",
              "5191  bd652bf1e9b66171ef77f1e0db2e9c1e  81448138f5f163ccdba4acc69819f280\n",
              "5226  2b3c53530d9f5948021ce2d30ca78def  6d70cb65d15211726dcce4c0e971e21c\n",
              "5390  6bd22a86b1f7a3a11de928d301f86d67  854d9fca60b4bd07f9bb215d59ef5561\n",
              "860   d41e0e6f6f1e29098d9d152511503ab2  dd458505749b2941217ddd59394240e8\n",
              "\n",
              "[4200 rows x 2 columns]"
            ]
          },
          "metadata": {
            "tags": []
          },
          "execution_count": 34
        }
      ]
    },
    {
      "cell_type": "code",
      "metadata": {
        "id": "wDipjZAPgUAw"
      },
      "source": [
        ""
      ],
      "execution_count": null,
      "outputs": []
    },
    {
      "cell_type": "code",
      "metadata": {
        "id": "DjWl8sS5gjvd"
      },
      "source": [
        ""
      ],
      "execution_count": null,
      "outputs": []
    }
  ]
}